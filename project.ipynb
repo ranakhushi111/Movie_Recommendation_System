{
  "nbformat": 4,
  "nbformat_minor": 0,
  "metadata": {
    "colab": {
      "provenance": [],
      "authorship_tag": "ABX9TyOmMixqJ0rGdvVKHZf2FSGQ",
      "include_colab_link": true
    },
    "kernelspec": {
      "name": "python3",
      "display_name": "Python 3"
    },
    "language_info": {
      "name": "python"
    }
  },
  "cells": [
    {
      "cell_type": "markdown",
      "metadata": {
        "id": "view-in-github",
        "colab_type": "text"
      },
      "source": [
        "<a href=\"https://colab.research.google.com/github/ranakhushi111/Movie_Recommendation_System/blob/main/project.ipynb\" target=\"_parent\"><img src=\"https://colab.research.google.com/assets/colab-badge.svg\" alt=\"Open In Colab\"/></a>"
      ]
    },
    {
      "cell_type": "code",
      "source": [
        "import pandas as pd\n",
        "import numpy as np"
      ],
      "metadata": {
        "id": "_d8B25hKHvIc"
      },
      "execution_count": null,
      "outputs": []
    },
    {
      "cell_type": "code",
      "source": [
        "df= pd.read_csv('https://raw.githubusercontent.com/YBI-Foundation/Dataset/main/Movies%20Recommendation.csv')"
      ],
      "metadata": {
        "id": "k_clvBSsJBW1"
      },
      "execution_count": null,
      "outputs": []
    },
    {
      "cell_type": "code",
      "source": [
        "df.head()"
      ],
      "metadata": {
        "colab": {
          "base_uri": "https://localhost:8080/",
          "height": 672
        },
        "id": "CgfdJTCfKKP5",
        "outputId": "a3a106e8-6fce-4b6a-c08e-87494a4c9d58"
      },
      "execution_count": null,
      "outputs": [
        {
          "output_type": "execute_result",
          "data": {
            "text/plain": [
              "   Movie_ID      Movie_Title                       Movie_Genre Movie_Language  \\\n",
              "0         1       Four Rooms                      Crime Comedy             en   \n",
              "1         2        Star Wars  Adventure Action Science Fiction             en   \n",
              "2         3     Finding Nemo                  Animation Family             en   \n",
              "3         4     Forrest Gump              Comedy Drama Romance             en   \n",
              "4         5  American Beauty                             Drama             en   \n",
              "\n",
              "   Movie_Budget  Movie_Popularity Movie_Release_Date  Movie_Revenue  \\\n",
              "0       4000000         22.876230         09-12-1995        4300000   \n",
              "1      11000000        126.393695         25-05-1977      775398007   \n",
              "2      94000000         85.688789         30-05-2003      940335536   \n",
              "3      55000000        138.133331         06-07-1994      677945399   \n",
              "4      15000000         80.878605         15-09-1999      356296601   \n",
              "\n",
              "   Movie_Runtime  Movie_Vote  ...  \\\n",
              "0           98.0         6.5  ...   \n",
              "1          121.0         8.1  ...   \n",
              "2          100.0         7.6  ...   \n",
              "3          142.0         8.2  ...   \n",
              "4          122.0         7.9  ...   \n",
              "\n",
              "                                      Movie_Homepage  \\\n",
              "0                                                NaN   \n",
              "1  http://www.starwars.com/films/star-wars-episod...   \n",
              "2              http://movies.disney.com/finding-nemo   \n",
              "3                                                NaN   \n",
              "4                      http://www.dreamworks.com/ab/   \n",
              "\n",
              "                                      Movie_Keywords  \\\n",
              "0          hotel new year's eve witch bet hotel room   \n",
              "1        android galaxy hermit death star lightsaber   \n",
              "2  father son relationship harbor underwater fish...   \n",
              "3  vietnam veteran hippie mentally disabled runni...   \n",
              "4  male nudity female nudity adultery midlife cri...   \n",
              "\n",
              "                                      Movie_Overview  \\\n",
              "0  It's Ted the Bellhop's first night on the job....   \n",
              "1  Princess Leia is captured and held hostage by ...   \n",
              "2  Nemo, an adventurous young clownfish, is unexp...   \n",
              "3  A man with a low IQ has accomplished great thi...   \n",
              "4  Lester Burnham, a depressed suburban father in...   \n",
              "\n",
              "                              Movie_Production_House  \\\n",
              "0  [{\"name\": \"Miramax Films\", \"id\": 14}, {\"name\":...   \n",
              "1  [{\"name\": \"Lucasfilm\", \"id\": 1}, {\"name\": \"Twe...   \n",
              "2     [{\"name\": \"Pixar Animation Studios\", \"id\": 3}]   \n",
              "3          [{\"name\": \"Paramount Pictures\", \"id\": 4}]   \n",
              "4  [{\"name\": \"DreamWorks SKG\", \"id\": 27}, {\"name\"...   \n",
              "\n",
              "                            Movie_Production_Country  \\\n",
              "0  [{\"iso_3166_1\": \"US\", \"name\": \"United States o...   \n",
              "1  [{\"iso_3166_1\": \"US\", \"name\": \"United States o...   \n",
              "2  [{\"iso_3166_1\": \"US\", \"name\": \"United States o...   \n",
              "3  [{\"iso_3166_1\": \"US\", \"name\": \"United States o...   \n",
              "4  [{\"iso_3166_1\": \"US\", \"name\": \"United States o...   \n",
              "\n",
              "                      Movie_Spoken_Language  \\\n",
              "0  [{\"iso_639_1\": \"en\", \"name\": \"English\"}]   \n",
              "1  [{\"iso_639_1\": \"en\", \"name\": \"English\"}]   \n",
              "2  [{\"iso_639_1\": \"en\", \"name\": \"English\"}]   \n",
              "3  [{\"iso_639_1\": \"en\", \"name\": \"English\"}]   \n",
              "4  [{\"iso_639_1\": \"en\", \"name\": \"English\"}]   \n",
              "\n",
              "                                       Movie_Tagline  \\\n",
              "0  Twelve outrageous guests. Four scandalous requ...   \n",
              "1       A long time ago in a galaxy far, far away...   \n",
              "2  There are 3.7 trillion fish in the ocean, they...   \n",
              "3  The world will never be the same, once you've ...   \n",
              "4                                       Look closer.   \n",
              "\n",
              "                                          Movie_Cast  \\\n",
              "0  Tim Roth Antonio Banderas Jennifer Beals Madon...   \n",
              "1  Mark Hamill Harrison Ford Carrie Fisher Peter ...   \n",
              "2  Albert Brooks Ellen DeGeneres Alexander Gould ...   \n",
              "3  Tom Hanks Robin Wright Gary Sinise Mykelti Wil...   \n",
              "4  Kevin Spacey Annette Bening Thora Birch Wes Be...   \n",
              "\n",
              "                                          Movie_Crew   Movie_Director  \n",
              "0  [{'name': 'Allison Anders', 'gender': 1, 'depa...   Allison Anders  \n",
              "1  [{'name': 'George Lucas', 'gender': 2, 'depart...     George Lucas  \n",
              "2  [{'name': 'Andrew Stanton', 'gender': 2, 'depa...   Andrew Stanton  \n",
              "3  [{'name': 'Alan Silvestri', 'gender': 2, 'depa...  Robert Zemeckis  \n",
              "4  [{'name': 'Thomas Newman', 'gender': 2, 'depar...       Sam Mendes  \n",
              "\n",
              "[5 rows x 21 columns]"
            ],
            "text/html": [
              "\n",
              "  <div id=\"df-14f32742-ee3c-4053-9a67-4e7879b2628e\" class=\"colab-df-container\">\n",
              "    <div>\n",
              "<style scoped>\n",
              "    .dataframe tbody tr th:only-of-type {\n",
              "        vertical-align: middle;\n",
              "    }\n",
              "\n",
              "    .dataframe tbody tr th {\n",
              "        vertical-align: top;\n",
              "    }\n",
              "\n",
              "    .dataframe thead th {\n",
              "        text-align: right;\n",
              "    }\n",
              "</style>\n",
              "<table border=\"1\" class=\"dataframe\">\n",
              "  <thead>\n",
              "    <tr style=\"text-align: right;\">\n",
              "      <th></th>\n",
              "      <th>Movie_ID</th>\n",
              "      <th>Movie_Title</th>\n",
              "      <th>Movie_Genre</th>\n",
              "      <th>Movie_Language</th>\n",
              "      <th>Movie_Budget</th>\n",
              "      <th>Movie_Popularity</th>\n",
              "      <th>Movie_Release_Date</th>\n",
              "      <th>Movie_Revenue</th>\n",
              "      <th>Movie_Runtime</th>\n",
              "      <th>Movie_Vote</th>\n",
              "      <th>...</th>\n",
              "      <th>Movie_Homepage</th>\n",
              "      <th>Movie_Keywords</th>\n",
              "      <th>Movie_Overview</th>\n",
              "      <th>Movie_Production_House</th>\n",
              "      <th>Movie_Production_Country</th>\n",
              "      <th>Movie_Spoken_Language</th>\n",
              "      <th>Movie_Tagline</th>\n",
              "      <th>Movie_Cast</th>\n",
              "      <th>Movie_Crew</th>\n",
              "      <th>Movie_Director</th>\n",
              "    </tr>\n",
              "  </thead>\n",
              "  <tbody>\n",
              "    <tr>\n",
              "      <th>0</th>\n",
              "      <td>1</td>\n",
              "      <td>Four Rooms</td>\n",
              "      <td>Crime Comedy</td>\n",
              "      <td>en</td>\n",
              "      <td>4000000</td>\n",
              "      <td>22.876230</td>\n",
              "      <td>09-12-1995</td>\n",
              "      <td>4300000</td>\n",
              "      <td>98.0</td>\n",
              "      <td>6.5</td>\n",
              "      <td>...</td>\n",
              "      <td>NaN</td>\n",
              "      <td>hotel new year's eve witch bet hotel room</td>\n",
              "      <td>It's Ted the Bellhop's first night on the job....</td>\n",
              "      <td>[{\"name\": \"Miramax Films\", \"id\": 14}, {\"name\":...</td>\n",
              "      <td>[{\"iso_3166_1\": \"US\", \"name\": \"United States o...</td>\n",
              "      <td>[{\"iso_639_1\": \"en\", \"name\": \"English\"}]</td>\n",
              "      <td>Twelve outrageous guests. Four scandalous requ...</td>\n",
              "      <td>Tim Roth Antonio Banderas Jennifer Beals Madon...</td>\n",
              "      <td>[{'name': 'Allison Anders', 'gender': 1, 'depa...</td>\n",
              "      <td>Allison Anders</td>\n",
              "    </tr>\n",
              "    <tr>\n",
              "      <th>1</th>\n",
              "      <td>2</td>\n",
              "      <td>Star Wars</td>\n",
              "      <td>Adventure Action Science Fiction</td>\n",
              "      <td>en</td>\n",
              "      <td>11000000</td>\n",
              "      <td>126.393695</td>\n",
              "      <td>25-05-1977</td>\n",
              "      <td>775398007</td>\n",
              "      <td>121.0</td>\n",
              "      <td>8.1</td>\n",
              "      <td>...</td>\n",
              "      <td>http://www.starwars.com/films/star-wars-episod...</td>\n",
              "      <td>android galaxy hermit death star lightsaber</td>\n",
              "      <td>Princess Leia is captured and held hostage by ...</td>\n",
              "      <td>[{\"name\": \"Lucasfilm\", \"id\": 1}, {\"name\": \"Twe...</td>\n",
              "      <td>[{\"iso_3166_1\": \"US\", \"name\": \"United States o...</td>\n",
              "      <td>[{\"iso_639_1\": \"en\", \"name\": \"English\"}]</td>\n",
              "      <td>A long time ago in a galaxy far, far away...</td>\n",
              "      <td>Mark Hamill Harrison Ford Carrie Fisher Peter ...</td>\n",
              "      <td>[{'name': 'George Lucas', 'gender': 2, 'depart...</td>\n",
              "      <td>George Lucas</td>\n",
              "    </tr>\n",
              "    <tr>\n",
              "      <th>2</th>\n",
              "      <td>3</td>\n",
              "      <td>Finding Nemo</td>\n",
              "      <td>Animation Family</td>\n",
              "      <td>en</td>\n",
              "      <td>94000000</td>\n",
              "      <td>85.688789</td>\n",
              "      <td>30-05-2003</td>\n",
              "      <td>940335536</td>\n",
              "      <td>100.0</td>\n",
              "      <td>7.6</td>\n",
              "      <td>...</td>\n",
              "      <td>http://movies.disney.com/finding-nemo</td>\n",
              "      <td>father son relationship harbor underwater fish...</td>\n",
              "      <td>Nemo, an adventurous young clownfish, is unexp...</td>\n",
              "      <td>[{\"name\": \"Pixar Animation Studios\", \"id\": 3}]</td>\n",
              "      <td>[{\"iso_3166_1\": \"US\", \"name\": \"United States o...</td>\n",
              "      <td>[{\"iso_639_1\": \"en\", \"name\": \"English\"}]</td>\n",
              "      <td>There are 3.7 trillion fish in the ocean, they...</td>\n",
              "      <td>Albert Brooks Ellen DeGeneres Alexander Gould ...</td>\n",
              "      <td>[{'name': 'Andrew Stanton', 'gender': 2, 'depa...</td>\n",
              "      <td>Andrew Stanton</td>\n",
              "    </tr>\n",
              "    <tr>\n",
              "      <th>3</th>\n",
              "      <td>4</td>\n",
              "      <td>Forrest Gump</td>\n",
              "      <td>Comedy Drama Romance</td>\n",
              "      <td>en</td>\n",
              "      <td>55000000</td>\n",
              "      <td>138.133331</td>\n",
              "      <td>06-07-1994</td>\n",
              "      <td>677945399</td>\n",
              "      <td>142.0</td>\n",
              "      <td>8.2</td>\n",
              "      <td>...</td>\n",
              "      <td>NaN</td>\n",
              "      <td>vietnam veteran hippie mentally disabled runni...</td>\n",
              "      <td>A man with a low IQ has accomplished great thi...</td>\n",
              "      <td>[{\"name\": \"Paramount Pictures\", \"id\": 4}]</td>\n",
              "      <td>[{\"iso_3166_1\": \"US\", \"name\": \"United States o...</td>\n",
              "      <td>[{\"iso_639_1\": \"en\", \"name\": \"English\"}]</td>\n",
              "      <td>The world will never be the same, once you've ...</td>\n",
              "      <td>Tom Hanks Robin Wright Gary Sinise Mykelti Wil...</td>\n",
              "      <td>[{'name': 'Alan Silvestri', 'gender': 2, 'depa...</td>\n",
              "      <td>Robert Zemeckis</td>\n",
              "    </tr>\n",
              "    <tr>\n",
              "      <th>4</th>\n",
              "      <td>5</td>\n",
              "      <td>American Beauty</td>\n",
              "      <td>Drama</td>\n",
              "      <td>en</td>\n",
              "      <td>15000000</td>\n",
              "      <td>80.878605</td>\n",
              "      <td>15-09-1999</td>\n",
              "      <td>356296601</td>\n",
              "      <td>122.0</td>\n",
              "      <td>7.9</td>\n",
              "      <td>...</td>\n",
              "      <td>http://www.dreamworks.com/ab/</td>\n",
              "      <td>male nudity female nudity adultery midlife cri...</td>\n",
              "      <td>Lester Burnham, a depressed suburban father in...</td>\n",
              "      <td>[{\"name\": \"DreamWorks SKG\", \"id\": 27}, {\"name\"...</td>\n",
              "      <td>[{\"iso_3166_1\": \"US\", \"name\": \"United States o...</td>\n",
              "      <td>[{\"iso_639_1\": \"en\", \"name\": \"English\"}]</td>\n",
              "      <td>Look closer.</td>\n",
              "      <td>Kevin Spacey Annette Bening Thora Birch Wes Be...</td>\n",
              "      <td>[{'name': 'Thomas Newman', 'gender': 2, 'depar...</td>\n",
              "      <td>Sam Mendes</td>\n",
              "    </tr>\n",
              "  </tbody>\n",
              "</table>\n",
              "<p>5 rows × 21 columns</p>\n",
              "</div>\n",
              "    <div class=\"colab-df-buttons\">\n",
              "\n",
              "  <div class=\"colab-df-container\">\n",
              "    <button class=\"colab-df-convert\" onclick=\"convertToInteractive('df-14f32742-ee3c-4053-9a67-4e7879b2628e')\"\n",
              "            title=\"Convert this dataframe to an interactive table.\"\n",
              "            style=\"display:none;\">\n",
              "\n",
              "  <svg xmlns=\"http://www.w3.org/2000/svg\" height=\"24px\" viewBox=\"0 -960 960 960\">\n",
              "    <path d=\"M120-120v-720h720v720H120Zm60-500h600v-160H180v160Zm220 220h160v-160H400v160Zm0 220h160v-160H400v160ZM180-400h160v-160H180v160Zm440 0h160v-160H620v160ZM180-180h160v-160H180v160Zm440 0h160v-160H620v160Z\"/>\n",
              "  </svg>\n",
              "    </button>\n",
              "\n",
              "  <style>\n",
              "    .colab-df-container {\n",
              "      display:flex;\n",
              "      gap: 12px;\n",
              "    }\n",
              "\n",
              "    .colab-df-convert {\n",
              "      background-color: #E8F0FE;\n",
              "      border: none;\n",
              "      border-radius: 50%;\n",
              "      cursor: pointer;\n",
              "      display: none;\n",
              "      fill: #1967D2;\n",
              "      height: 32px;\n",
              "      padding: 0 0 0 0;\n",
              "      width: 32px;\n",
              "    }\n",
              "\n",
              "    .colab-df-convert:hover {\n",
              "      background-color: #E2EBFA;\n",
              "      box-shadow: 0px 1px 2px rgba(60, 64, 67, 0.3), 0px 1px 3px 1px rgba(60, 64, 67, 0.15);\n",
              "      fill: #174EA6;\n",
              "    }\n",
              "\n",
              "    .colab-df-buttons div {\n",
              "      margin-bottom: 4px;\n",
              "    }\n",
              "\n",
              "    [theme=dark] .colab-df-convert {\n",
              "      background-color: #3B4455;\n",
              "      fill: #D2E3FC;\n",
              "    }\n",
              "\n",
              "    [theme=dark] .colab-df-convert:hover {\n",
              "      background-color: #434B5C;\n",
              "      box-shadow: 0px 1px 3px 1px rgba(0, 0, 0, 0.15);\n",
              "      filter: drop-shadow(0px 1px 2px rgba(0, 0, 0, 0.3));\n",
              "      fill: #FFFFFF;\n",
              "    }\n",
              "  </style>\n",
              "\n",
              "    <script>\n",
              "      const buttonEl =\n",
              "        document.querySelector('#df-14f32742-ee3c-4053-9a67-4e7879b2628e button.colab-df-convert');\n",
              "      buttonEl.style.display =\n",
              "        google.colab.kernel.accessAllowed ? 'block' : 'none';\n",
              "\n",
              "      async function convertToInteractive(key) {\n",
              "        const element = document.querySelector('#df-14f32742-ee3c-4053-9a67-4e7879b2628e');\n",
              "        const dataTable =\n",
              "          await google.colab.kernel.invokeFunction('convertToInteractive',\n",
              "                                                    [key], {});\n",
              "        if (!dataTable) return;\n",
              "\n",
              "        const docLinkHtml = 'Like what you see? Visit the ' +\n",
              "          '<a target=\"_blank\" href=https://colab.research.google.com/notebooks/data_table.ipynb>data table notebook</a>'\n",
              "          + ' to learn more about interactive tables.';\n",
              "        element.innerHTML = '';\n",
              "        dataTable['output_type'] = 'display_data';\n",
              "        await google.colab.output.renderOutput(dataTable, element);\n",
              "        const docLink = document.createElement('div');\n",
              "        docLink.innerHTML = docLinkHtml;\n",
              "        element.appendChild(docLink);\n",
              "      }\n",
              "    </script>\n",
              "  </div>\n",
              "\n",
              "\n",
              "<div id=\"df-bc0673cd-72d9-48e2-b49f-cff05b1c54ff\">\n",
              "  <button class=\"colab-df-quickchart\" onclick=\"quickchart('df-bc0673cd-72d9-48e2-b49f-cff05b1c54ff')\"\n",
              "            title=\"Suggest charts\"\n",
              "            style=\"display:none;\">\n",
              "\n",
              "<svg xmlns=\"http://www.w3.org/2000/svg\" height=\"24px\"viewBox=\"0 0 24 24\"\n",
              "     width=\"24px\">\n",
              "    <g>\n",
              "        <path d=\"M19 3H5c-1.1 0-2 .9-2 2v14c0 1.1.9 2 2 2h14c1.1 0 2-.9 2-2V5c0-1.1-.9-2-2-2zM9 17H7v-7h2v7zm4 0h-2V7h2v10zm4 0h-2v-4h2v4z\"/>\n",
              "    </g>\n",
              "</svg>\n",
              "  </button>\n",
              "\n",
              "<style>\n",
              "  .colab-df-quickchart {\n",
              "      --bg-color: #E8F0FE;\n",
              "      --fill-color: #1967D2;\n",
              "      --hover-bg-color: #E2EBFA;\n",
              "      --hover-fill-color: #174EA6;\n",
              "      --disabled-fill-color: #AAA;\n",
              "      --disabled-bg-color: #DDD;\n",
              "  }\n",
              "\n",
              "  [theme=dark] .colab-df-quickchart {\n",
              "      --bg-color: #3B4455;\n",
              "      --fill-color: #D2E3FC;\n",
              "      --hover-bg-color: #434B5C;\n",
              "      --hover-fill-color: #FFFFFF;\n",
              "      --disabled-bg-color: #3B4455;\n",
              "      --disabled-fill-color: #666;\n",
              "  }\n",
              "\n",
              "  .colab-df-quickchart {\n",
              "    background-color: var(--bg-color);\n",
              "    border: none;\n",
              "    border-radius: 50%;\n",
              "    cursor: pointer;\n",
              "    display: none;\n",
              "    fill: var(--fill-color);\n",
              "    height: 32px;\n",
              "    padding: 0;\n",
              "    width: 32px;\n",
              "  }\n",
              "\n",
              "  .colab-df-quickchart:hover {\n",
              "    background-color: var(--hover-bg-color);\n",
              "    box-shadow: 0 1px 2px rgba(60, 64, 67, 0.3), 0 1px 3px 1px rgba(60, 64, 67, 0.15);\n",
              "    fill: var(--button-hover-fill-color);\n",
              "  }\n",
              "\n",
              "  .colab-df-quickchart-complete:disabled,\n",
              "  .colab-df-quickchart-complete:disabled:hover {\n",
              "    background-color: var(--disabled-bg-color);\n",
              "    fill: var(--disabled-fill-color);\n",
              "    box-shadow: none;\n",
              "  }\n",
              "\n",
              "  .colab-df-spinner {\n",
              "    border: 2px solid var(--fill-color);\n",
              "    border-color: transparent;\n",
              "    border-bottom-color: var(--fill-color);\n",
              "    animation:\n",
              "      spin 1s steps(1) infinite;\n",
              "  }\n",
              "\n",
              "  @keyframes spin {\n",
              "    0% {\n",
              "      border-color: transparent;\n",
              "      border-bottom-color: var(--fill-color);\n",
              "      border-left-color: var(--fill-color);\n",
              "    }\n",
              "    20% {\n",
              "      border-color: transparent;\n",
              "      border-left-color: var(--fill-color);\n",
              "      border-top-color: var(--fill-color);\n",
              "    }\n",
              "    30% {\n",
              "      border-color: transparent;\n",
              "      border-left-color: var(--fill-color);\n",
              "      border-top-color: var(--fill-color);\n",
              "      border-right-color: var(--fill-color);\n",
              "    }\n",
              "    40% {\n",
              "      border-color: transparent;\n",
              "      border-right-color: var(--fill-color);\n",
              "      border-top-color: var(--fill-color);\n",
              "    }\n",
              "    60% {\n",
              "      border-color: transparent;\n",
              "      border-right-color: var(--fill-color);\n",
              "    }\n",
              "    80% {\n",
              "      border-color: transparent;\n",
              "      border-right-color: var(--fill-color);\n",
              "      border-bottom-color: var(--fill-color);\n",
              "    }\n",
              "    90% {\n",
              "      border-color: transparent;\n",
              "      border-bottom-color: var(--fill-color);\n",
              "    }\n",
              "  }\n",
              "</style>\n",
              "\n",
              "  <script>\n",
              "    async function quickchart(key) {\n",
              "      const quickchartButtonEl =\n",
              "        document.querySelector('#' + key + ' button');\n",
              "      quickchartButtonEl.disabled = true;  // To prevent multiple clicks.\n",
              "      quickchartButtonEl.classList.add('colab-df-spinner');\n",
              "      try {\n",
              "        const charts = await google.colab.kernel.invokeFunction(\n",
              "            'suggestCharts', [key], {});\n",
              "      } catch (error) {\n",
              "        console.error('Error during call to suggestCharts:', error);\n",
              "      }\n",
              "      quickchartButtonEl.classList.remove('colab-df-spinner');\n",
              "      quickchartButtonEl.classList.add('colab-df-quickchart-complete');\n",
              "    }\n",
              "    (() => {\n",
              "      let quickchartButtonEl =\n",
              "        document.querySelector('#df-bc0673cd-72d9-48e2-b49f-cff05b1c54ff button');\n",
              "      quickchartButtonEl.style.display =\n",
              "        google.colab.kernel.accessAllowed ? 'block' : 'none';\n",
              "    })();\n",
              "  </script>\n",
              "</div>\n",
              "\n",
              "    </div>\n",
              "  </div>\n"
            ],
            "application/vnd.google.colaboratory.intrinsic+json": {
              "type": "dataframe",
              "variable_name": "df"
            }
          },
          "metadata": {},
          "execution_count": 71
        }
      ]
    },
    {
      "cell_type": "code",
      "source": [
        "df.shape"
      ],
      "metadata": {
        "colab": {
          "base_uri": "https://localhost:8080/"
        },
        "id": "SvUfrnMwKQ8A",
        "outputId": "be700e26-26ef-4e31-edd6-db430a16192f"
      },
      "execution_count": null,
      "outputs": [
        {
          "output_type": "execute_result",
          "data": {
            "text/plain": [
              "(4760, 21)"
            ]
          },
          "metadata": {},
          "execution_count": 17
        }
      ]
    },
    {
      "cell_type": "code",
      "source": [
        "df.info()"
      ],
      "metadata": {
        "colab": {
          "base_uri": "https://localhost:8080/"
        },
        "id": "eDTfEmXHKXxe",
        "outputId": "2a8b2c8e-53a5-4fbf-a673-e87bc93dcc82"
      },
      "execution_count": null,
      "outputs": [
        {
          "output_type": "stream",
          "name": "stdout",
          "text": [
            "<class 'pandas.core.frame.DataFrame'>\n",
            "RangeIndex: 4760 entries, 0 to 4759\n",
            "Data columns (total 21 columns):\n",
            " #   Column                    Non-Null Count  Dtype  \n",
            "---  ------                    --------------  -----  \n",
            " 0   Movie_ID                  4760 non-null   int64  \n",
            " 1   Movie_Title               4760 non-null   object \n",
            " 2   Movie_Genre               4760 non-null   object \n",
            " 3   Movie_Language            4760 non-null   object \n",
            " 4   Movie_Budget              4760 non-null   int64  \n",
            " 5   Movie_Popularity          4760 non-null   float64\n",
            " 6   Movie_Release_Date        4760 non-null   object \n",
            " 7   Movie_Revenue             4760 non-null   int64  \n",
            " 8   Movie_Runtime             4758 non-null   float64\n",
            " 9   Movie_Vote                4760 non-null   float64\n",
            " 10  Movie_Vote_Count          4760 non-null   int64  \n",
            " 11  Movie_Homepage            1699 non-null   object \n",
            " 12  Movie_Keywords            4373 non-null   object \n",
            " 13  Movie_Overview            4757 non-null   object \n",
            " 14  Movie_Production_House    4760 non-null   object \n",
            " 15  Movie_Production_Country  4760 non-null   object \n",
            " 16  Movie_Spoken_Language     4760 non-null   object \n",
            " 17  Movie_Tagline             3942 non-null   object \n",
            " 18  Movie_Cast                4733 non-null   object \n",
            " 19  Movie_Crew                4760 non-null   object \n",
            " 20  Movie_Director            4738 non-null   object \n",
            "dtypes: float64(3), int64(4), object(14)\n",
            "memory usage: 781.1+ KB\n"
          ]
        }
      ]
    },
    {
      "cell_type": "code",
      "source": [
        "df.columns"
      ],
      "metadata": {
        "colab": {
          "base_uri": "https://localhost:8080/"
        },
        "id": "EJEP4Cv9KeNv",
        "outputId": "9dfa3f92-f361-44ad-f38e-aef7e0ba8886"
      },
      "execution_count": null,
      "outputs": [
        {
          "output_type": "execute_result",
          "data": {
            "text/plain": [
              "Index(['Movie_ID', 'Movie_Title', 'Movie_Genre', 'Movie_Language',\n",
              "       'Movie_Budget', 'Movie_Popularity', 'Movie_Release_Date',\n",
              "       'Movie_Revenue', 'Movie_Runtime', 'Movie_Vote', 'Movie_Vote_Count',\n",
              "       'Movie_Homepage', 'Movie_Keywords', 'Movie_Overview',\n",
              "       'Movie_Production_House', 'Movie_Production_Country',\n",
              "       'Movie_Spoken_Language', 'Movie_Tagline', 'Movie_Cast', 'Movie_Crew',\n",
              "       'Movie_Director'],\n",
              "      dtype='object')"
            ]
          },
          "metadata": {},
          "execution_count": 19
        }
      ]
    },
    {
      "cell_type": "code",
      "source": [
        "df_features = df[['Movie_Genre','Movie_Keywords','Movie_Tagline', 'Movie_Cast','Movie_Director']].fillna('')"
      ],
      "metadata": {
        "collapsed": true,
        "id": "kJr3k-kfKiiL"
      },
      "execution_count": null,
      "outputs": []
    },
    {
      "cell_type": "code",
      "source": [
        "df_features.shape"
      ],
      "metadata": {
        "colab": {
          "base_uri": "https://localhost:8080/"
        },
        "id": "PKB6i3A5QCqa",
        "outputId": "c3dee52e-26ac-43f4-9141-8bafb678813f"
      },
      "execution_count": null,
      "outputs": [
        {
          "output_type": "execute_result",
          "data": {
            "text/plain": [
              "(4760, 5)"
            ]
          },
          "metadata": {},
          "execution_count": 37
        }
      ]
    },
    {
      "cell_type": "code",
      "source": [
        "df_features"
      ],
      "metadata": {
        "colab": {
          "base_uri": "https://localhost:8080/",
          "height": 580
        },
        "id": "Fxm3PBJuQQ5C",
        "outputId": "64b4cdad-a1bd-4b7c-b9f4-a6342bb1e198"
      },
      "execution_count": null,
      "outputs": [
        {
          "output_type": "execute_result",
          "data": {
            "text/plain": [
              "                           Movie_Genre  \\\n",
              "0                         Crime Comedy   \n",
              "1     Adventure Action Science Fiction   \n",
              "2                     Animation Family   \n",
              "3                 Comedy Drama Romance   \n",
              "4                                Drama   \n",
              "...                                ...   \n",
              "4755                            Horror   \n",
              "4756               Comedy Family Drama   \n",
              "4757                    Thriller Drama   \n",
              "4758                            Family   \n",
              "4759                       Documentary   \n",
              "\n",
              "                                         Movie_Keywords  \\\n",
              "0             hotel new year's eve witch bet hotel room   \n",
              "1           android galaxy hermit death star lightsaber   \n",
              "2     father son relationship harbor underwater fish...   \n",
              "3     vietnam veteran hippie mentally disabled runni...   \n",
              "4     male nudity female nudity adultery midlife cri...   \n",
              "...                                                 ...   \n",
              "4755                                                      \n",
              "4756                                                      \n",
              "4757                     christian film sex trafficking   \n",
              "4758                                                      \n",
              "4759  music actors legendary perfomer classic hollyw...   \n",
              "\n",
              "                                          Movie_Tagline  \\\n",
              "0     Twelve outrageous guests. Four scandalous requ...   \n",
              "1          A long time ago in a galaxy far, far away...   \n",
              "2     There are 3.7 trillion fish in the ocean, they...   \n",
              "3     The world will never be the same, once you've ...   \n",
              "4                                          Look closer.   \n",
              "...                                                 ...   \n",
              "4755                The hot spot where Satan's waitin'.   \n",
              "4756           It’s better to stand out than to fit in.   \n",
              "4757           She never knew it could happen to her...   \n",
              "4758                                                      \n",
              "4759                                                      \n",
              "\n",
              "                                             Movie_Cast     Movie_Director  \n",
              "0     Tim Roth Antonio Banderas Jennifer Beals Madon...     Allison Anders  \n",
              "1     Mark Hamill Harrison Ford Carrie Fisher Peter ...       George Lucas  \n",
              "2     Albert Brooks Ellen DeGeneres Alexander Gould ...     Andrew Stanton  \n",
              "3     Tom Hanks Robin Wright Gary Sinise Mykelti Wil...    Robert Zemeckis  \n",
              "4     Kevin Spacey Annette Bening Thora Birch Wes Be...         Sam Mendes  \n",
              "...                                                 ...                ...  \n",
              "4755  Lisa Hart Carroll Michael Des Barres Paul Drak...         Pece Dingo  \n",
              "4756  Roni Akurati Brighton Sharbino Jason Lee Anjul...       Frank Lotito  \n",
              "4757  Nicole Smolen Kim Baldwin Ariana Stephens Brys...       Jaco Booyens  \n",
              "4758                                                                        \n",
              "4759                                    Tony Oppedisano  Simon Napier-Bell  \n",
              "\n",
              "[4760 rows x 5 columns]"
            ],
            "text/html": [
              "\n",
              "  <div id=\"df-2cca1fd8-f874-43b6-a532-9f2c1ddd2d0d\" class=\"colab-df-container\">\n",
              "    <div>\n",
              "<style scoped>\n",
              "    .dataframe tbody tr th:only-of-type {\n",
              "        vertical-align: middle;\n",
              "    }\n",
              "\n",
              "    .dataframe tbody tr th {\n",
              "        vertical-align: top;\n",
              "    }\n",
              "\n",
              "    .dataframe thead th {\n",
              "        text-align: right;\n",
              "    }\n",
              "</style>\n",
              "<table border=\"1\" class=\"dataframe\">\n",
              "  <thead>\n",
              "    <tr style=\"text-align: right;\">\n",
              "      <th></th>\n",
              "      <th>Movie_Genre</th>\n",
              "      <th>Movie_Keywords</th>\n",
              "      <th>Movie_Tagline</th>\n",
              "      <th>Movie_Cast</th>\n",
              "      <th>Movie_Director</th>\n",
              "    </tr>\n",
              "  </thead>\n",
              "  <tbody>\n",
              "    <tr>\n",
              "      <th>0</th>\n",
              "      <td>Crime Comedy</td>\n",
              "      <td>hotel new year's eve witch bet hotel room</td>\n",
              "      <td>Twelve outrageous guests. Four scandalous requ...</td>\n",
              "      <td>Tim Roth Antonio Banderas Jennifer Beals Madon...</td>\n",
              "      <td>Allison Anders</td>\n",
              "    </tr>\n",
              "    <tr>\n",
              "      <th>1</th>\n",
              "      <td>Adventure Action Science Fiction</td>\n",
              "      <td>android galaxy hermit death star lightsaber</td>\n",
              "      <td>A long time ago in a galaxy far, far away...</td>\n",
              "      <td>Mark Hamill Harrison Ford Carrie Fisher Peter ...</td>\n",
              "      <td>George Lucas</td>\n",
              "    </tr>\n",
              "    <tr>\n",
              "      <th>2</th>\n",
              "      <td>Animation Family</td>\n",
              "      <td>father son relationship harbor underwater fish...</td>\n",
              "      <td>There are 3.7 trillion fish in the ocean, they...</td>\n",
              "      <td>Albert Brooks Ellen DeGeneres Alexander Gould ...</td>\n",
              "      <td>Andrew Stanton</td>\n",
              "    </tr>\n",
              "    <tr>\n",
              "      <th>3</th>\n",
              "      <td>Comedy Drama Romance</td>\n",
              "      <td>vietnam veteran hippie mentally disabled runni...</td>\n",
              "      <td>The world will never be the same, once you've ...</td>\n",
              "      <td>Tom Hanks Robin Wright Gary Sinise Mykelti Wil...</td>\n",
              "      <td>Robert Zemeckis</td>\n",
              "    </tr>\n",
              "    <tr>\n",
              "      <th>4</th>\n",
              "      <td>Drama</td>\n",
              "      <td>male nudity female nudity adultery midlife cri...</td>\n",
              "      <td>Look closer.</td>\n",
              "      <td>Kevin Spacey Annette Bening Thora Birch Wes Be...</td>\n",
              "      <td>Sam Mendes</td>\n",
              "    </tr>\n",
              "    <tr>\n",
              "      <th>...</th>\n",
              "      <td>...</td>\n",
              "      <td>...</td>\n",
              "      <td>...</td>\n",
              "      <td>...</td>\n",
              "      <td>...</td>\n",
              "    </tr>\n",
              "    <tr>\n",
              "      <th>4755</th>\n",
              "      <td>Horror</td>\n",
              "      <td></td>\n",
              "      <td>The hot spot where Satan's waitin'.</td>\n",
              "      <td>Lisa Hart Carroll Michael Des Barres Paul Drak...</td>\n",
              "      <td>Pece Dingo</td>\n",
              "    </tr>\n",
              "    <tr>\n",
              "      <th>4756</th>\n",
              "      <td>Comedy Family Drama</td>\n",
              "      <td></td>\n",
              "      <td>It’s better to stand out than to fit in.</td>\n",
              "      <td>Roni Akurati Brighton Sharbino Jason Lee Anjul...</td>\n",
              "      <td>Frank Lotito</td>\n",
              "    </tr>\n",
              "    <tr>\n",
              "      <th>4757</th>\n",
              "      <td>Thriller Drama</td>\n",
              "      <td>christian film sex trafficking</td>\n",
              "      <td>She never knew it could happen to her...</td>\n",
              "      <td>Nicole Smolen Kim Baldwin Ariana Stephens Brys...</td>\n",
              "      <td>Jaco Booyens</td>\n",
              "    </tr>\n",
              "    <tr>\n",
              "      <th>4758</th>\n",
              "      <td>Family</td>\n",
              "      <td></td>\n",
              "      <td></td>\n",
              "      <td></td>\n",
              "      <td></td>\n",
              "    </tr>\n",
              "    <tr>\n",
              "      <th>4759</th>\n",
              "      <td>Documentary</td>\n",
              "      <td>music actors legendary perfomer classic hollyw...</td>\n",
              "      <td></td>\n",
              "      <td>Tony Oppedisano</td>\n",
              "      <td>Simon Napier-Bell</td>\n",
              "    </tr>\n",
              "  </tbody>\n",
              "</table>\n",
              "<p>4760 rows × 5 columns</p>\n",
              "</div>\n",
              "    <div class=\"colab-df-buttons\">\n",
              "\n",
              "  <div class=\"colab-df-container\">\n",
              "    <button class=\"colab-df-convert\" onclick=\"convertToInteractive('df-2cca1fd8-f874-43b6-a532-9f2c1ddd2d0d')\"\n",
              "            title=\"Convert this dataframe to an interactive table.\"\n",
              "            style=\"display:none;\">\n",
              "\n",
              "  <svg xmlns=\"http://www.w3.org/2000/svg\" height=\"24px\" viewBox=\"0 -960 960 960\">\n",
              "    <path d=\"M120-120v-720h720v720H120Zm60-500h600v-160H180v160Zm220 220h160v-160H400v160Zm0 220h160v-160H400v160ZM180-400h160v-160H180v160Zm440 0h160v-160H620v160ZM180-180h160v-160H180v160Zm440 0h160v-160H620v160Z\"/>\n",
              "  </svg>\n",
              "    </button>\n",
              "\n",
              "  <style>\n",
              "    .colab-df-container {\n",
              "      display:flex;\n",
              "      gap: 12px;\n",
              "    }\n",
              "\n",
              "    .colab-df-convert {\n",
              "      background-color: #E8F0FE;\n",
              "      border: none;\n",
              "      border-radius: 50%;\n",
              "      cursor: pointer;\n",
              "      display: none;\n",
              "      fill: #1967D2;\n",
              "      height: 32px;\n",
              "      padding: 0 0 0 0;\n",
              "      width: 32px;\n",
              "    }\n",
              "\n",
              "    .colab-df-convert:hover {\n",
              "      background-color: #E2EBFA;\n",
              "      box-shadow: 0px 1px 2px rgba(60, 64, 67, 0.3), 0px 1px 3px 1px rgba(60, 64, 67, 0.15);\n",
              "      fill: #174EA6;\n",
              "    }\n",
              "\n",
              "    .colab-df-buttons div {\n",
              "      margin-bottom: 4px;\n",
              "    }\n",
              "\n",
              "    [theme=dark] .colab-df-convert {\n",
              "      background-color: #3B4455;\n",
              "      fill: #D2E3FC;\n",
              "    }\n",
              "\n",
              "    [theme=dark] .colab-df-convert:hover {\n",
              "      background-color: #434B5C;\n",
              "      box-shadow: 0px 1px 3px 1px rgba(0, 0, 0, 0.15);\n",
              "      filter: drop-shadow(0px 1px 2px rgba(0, 0, 0, 0.3));\n",
              "      fill: #FFFFFF;\n",
              "    }\n",
              "  </style>\n",
              "\n",
              "    <script>\n",
              "      const buttonEl =\n",
              "        document.querySelector('#df-2cca1fd8-f874-43b6-a532-9f2c1ddd2d0d button.colab-df-convert');\n",
              "      buttonEl.style.display =\n",
              "        google.colab.kernel.accessAllowed ? 'block' : 'none';\n",
              "\n",
              "      async function convertToInteractive(key) {\n",
              "        const element = document.querySelector('#df-2cca1fd8-f874-43b6-a532-9f2c1ddd2d0d');\n",
              "        const dataTable =\n",
              "          await google.colab.kernel.invokeFunction('convertToInteractive',\n",
              "                                                    [key], {});\n",
              "        if (!dataTable) return;\n",
              "\n",
              "        const docLinkHtml = 'Like what you see? Visit the ' +\n",
              "          '<a target=\"_blank\" href=https://colab.research.google.com/notebooks/data_table.ipynb>data table notebook</a>'\n",
              "          + ' to learn more about interactive tables.';\n",
              "        element.innerHTML = '';\n",
              "        dataTable['output_type'] = 'display_data';\n",
              "        await google.colab.output.renderOutput(dataTable, element);\n",
              "        const docLink = document.createElement('div');\n",
              "        docLink.innerHTML = docLinkHtml;\n",
              "        element.appendChild(docLink);\n",
              "      }\n",
              "    </script>\n",
              "  </div>\n",
              "\n",
              "\n",
              "<div id=\"df-8a4e98fb-6d82-4f64-b5db-6785082a4fad\">\n",
              "  <button class=\"colab-df-quickchart\" onclick=\"quickchart('df-8a4e98fb-6d82-4f64-b5db-6785082a4fad')\"\n",
              "            title=\"Suggest charts\"\n",
              "            style=\"display:none;\">\n",
              "\n",
              "<svg xmlns=\"http://www.w3.org/2000/svg\" height=\"24px\"viewBox=\"0 0 24 24\"\n",
              "     width=\"24px\">\n",
              "    <g>\n",
              "        <path d=\"M19 3H5c-1.1 0-2 .9-2 2v14c0 1.1.9 2 2 2h14c1.1 0 2-.9 2-2V5c0-1.1-.9-2-2-2zM9 17H7v-7h2v7zm4 0h-2V7h2v10zm4 0h-2v-4h2v4z\"/>\n",
              "    </g>\n",
              "</svg>\n",
              "  </button>\n",
              "\n",
              "<style>\n",
              "  .colab-df-quickchart {\n",
              "      --bg-color: #E8F0FE;\n",
              "      --fill-color: #1967D2;\n",
              "      --hover-bg-color: #E2EBFA;\n",
              "      --hover-fill-color: #174EA6;\n",
              "      --disabled-fill-color: #AAA;\n",
              "      --disabled-bg-color: #DDD;\n",
              "  }\n",
              "\n",
              "  [theme=dark] .colab-df-quickchart {\n",
              "      --bg-color: #3B4455;\n",
              "      --fill-color: #D2E3FC;\n",
              "      --hover-bg-color: #434B5C;\n",
              "      --hover-fill-color: #FFFFFF;\n",
              "      --disabled-bg-color: #3B4455;\n",
              "      --disabled-fill-color: #666;\n",
              "  }\n",
              "\n",
              "  .colab-df-quickchart {\n",
              "    background-color: var(--bg-color);\n",
              "    border: none;\n",
              "    border-radius: 50%;\n",
              "    cursor: pointer;\n",
              "    display: none;\n",
              "    fill: var(--fill-color);\n",
              "    height: 32px;\n",
              "    padding: 0;\n",
              "    width: 32px;\n",
              "  }\n",
              "\n",
              "  .colab-df-quickchart:hover {\n",
              "    background-color: var(--hover-bg-color);\n",
              "    box-shadow: 0 1px 2px rgba(60, 64, 67, 0.3), 0 1px 3px 1px rgba(60, 64, 67, 0.15);\n",
              "    fill: var(--button-hover-fill-color);\n",
              "  }\n",
              "\n",
              "  .colab-df-quickchart-complete:disabled,\n",
              "  .colab-df-quickchart-complete:disabled:hover {\n",
              "    background-color: var(--disabled-bg-color);\n",
              "    fill: var(--disabled-fill-color);\n",
              "    box-shadow: none;\n",
              "  }\n",
              "\n",
              "  .colab-df-spinner {\n",
              "    border: 2px solid var(--fill-color);\n",
              "    border-color: transparent;\n",
              "    border-bottom-color: var(--fill-color);\n",
              "    animation:\n",
              "      spin 1s steps(1) infinite;\n",
              "  }\n",
              "\n",
              "  @keyframes spin {\n",
              "    0% {\n",
              "      border-color: transparent;\n",
              "      border-bottom-color: var(--fill-color);\n",
              "      border-left-color: var(--fill-color);\n",
              "    }\n",
              "    20% {\n",
              "      border-color: transparent;\n",
              "      border-left-color: var(--fill-color);\n",
              "      border-top-color: var(--fill-color);\n",
              "    }\n",
              "    30% {\n",
              "      border-color: transparent;\n",
              "      border-left-color: var(--fill-color);\n",
              "      border-top-color: var(--fill-color);\n",
              "      border-right-color: var(--fill-color);\n",
              "    }\n",
              "    40% {\n",
              "      border-color: transparent;\n",
              "      border-right-color: var(--fill-color);\n",
              "      border-top-color: var(--fill-color);\n",
              "    }\n",
              "    60% {\n",
              "      border-color: transparent;\n",
              "      border-right-color: var(--fill-color);\n",
              "    }\n",
              "    80% {\n",
              "      border-color: transparent;\n",
              "      border-right-color: var(--fill-color);\n",
              "      border-bottom-color: var(--fill-color);\n",
              "    }\n",
              "    90% {\n",
              "      border-color: transparent;\n",
              "      border-bottom-color: var(--fill-color);\n",
              "    }\n",
              "  }\n",
              "</style>\n",
              "\n",
              "  <script>\n",
              "    async function quickchart(key) {\n",
              "      const quickchartButtonEl =\n",
              "        document.querySelector('#' + key + ' button');\n",
              "      quickchartButtonEl.disabled = true;  // To prevent multiple clicks.\n",
              "      quickchartButtonEl.classList.add('colab-df-spinner');\n",
              "      try {\n",
              "        const charts = await google.colab.kernel.invokeFunction(\n",
              "            'suggestCharts', [key], {});\n",
              "      } catch (error) {\n",
              "        console.error('Error during call to suggestCharts:', error);\n",
              "      }\n",
              "      quickchartButtonEl.classList.remove('colab-df-spinner');\n",
              "      quickchartButtonEl.classList.add('colab-df-quickchart-complete');\n",
              "    }\n",
              "    (() => {\n",
              "      let quickchartButtonEl =\n",
              "        document.querySelector('#df-8a4e98fb-6d82-4f64-b5db-6785082a4fad button');\n",
              "      quickchartButtonEl.style.display =\n",
              "        google.colab.kernel.accessAllowed ? 'block' : 'none';\n",
              "    })();\n",
              "  </script>\n",
              "</div>\n",
              "\n",
              "  <div id=\"id_9a9b51c9-406e-494c-bba0-8cd93ae736b3\">\n",
              "    <style>\n",
              "      .colab-df-generate {\n",
              "        background-color: #E8F0FE;\n",
              "        border: none;\n",
              "        border-radius: 50%;\n",
              "        cursor: pointer;\n",
              "        display: none;\n",
              "        fill: #1967D2;\n",
              "        height: 32px;\n",
              "        padding: 0 0 0 0;\n",
              "        width: 32px;\n",
              "      }\n",
              "\n",
              "      .colab-df-generate:hover {\n",
              "        background-color: #E2EBFA;\n",
              "        box-shadow: 0px 1px 2px rgba(60, 64, 67, 0.3), 0px 1px 3px 1px rgba(60, 64, 67, 0.15);\n",
              "        fill: #174EA6;\n",
              "      }\n",
              "\n",
              "      [theme=dark] .colab-df-generate {\n",
              "        background-color: #3B4455;\n",
              "        fill: #D2E3FC;\n",
              "      }\n",
              "\n",
              "      [theme=dark] .colab-df-generate:hover {\n",
              "        background-color: #434B5C;\n",
              "        box-shadow: 0px 1px 3px 1px rgba(0, 0, 0, 0.15);\n",
              "        filter: drop-shadow(0px 1px 2px rgba(0, 0, 0, 0.3));\n",
              "        fill: #FFFFFF;\n",
              "      }\n",
              "    </style>\n",
              "    <button class=\"colab-df-generate\" onclick=\"generateWithVariable('df_features')\"\n",
              "            title=\"Generate code using this dataframe.\"\n",
              "            style=\"display:none;\">\n",
              "\n",
              "  <svg xmlns=\"http://www.w3.org/2000/svg\" height=\"24px\"viewBox=\"0 0 24 24\"\n",
              "       width=\"24px\">\n",
              "    <path d=\"M7,19H8.4L18.45,9,17,7.55,7,17.6ZM5,21V16.75L18.45,3.32a2,2,0,0,1,2.83,0l1.4,1.43a1.91,1.91,0,0,1,.58,1.4,1.91,1.91,0,0,1-.58,1.4L9.25,21ZM18.45,9,17,7.55Zm-12,3A5.31,5.31,0,0,0,4.9,8.1,5.31,5.31,0,0,0,1,6.5,5.31,5.31,0,0,0,4.9,4.9,5.31,5.31,0,0,0,6.5,1,5.31,5.31,0,0,0,8.1,4.9,5.31,5.31,0,0,0,12,6.5,5.46,5.46,0,0,0,6.5,12Z\"/>\n",
              "  </svg>\n",
              "    </button>\n",
              "    <script>\n",
              "      (() => {\n",
              "      const buttonEl =\n",
              "        document.querySelector('#id_9a9b51c9-406e-494c-bba0-8cd93ae736b3 button.colab-df-generate');\n",
              "      buttonEl.style.display =\n",
              "        google.colab.kernel.accessAllowed ? 'block' : 'none';\n",
              "\n",
              "      buttonEl.onclick = () => {\n",
              "        google.colab.notebook.generateWithVariable('df_features');\n",
              "      }\n",
              "      })();\n",
              "    </script>\n",
              "  </div>\n",
              "\n",
              "    </div>\n",
              "  </div>\n"
            ],
            "application/vnd.google.colaboratory.intrinsic+json": {
              "type": "dataframe",
              "variable_name": "df_features",
              "summary": "{\n  \"name\": \"df_features\",\n  \"rows\": 4760,\n  \"fields\": [\n    {\n      \"column\": \"Movie_Genre\",\n      \"properties\": {\n        \"dtype\": \"category\",\n        \"num_unique_values\": 1164,\n        \"samples\": [\n          \"Family Animation Adventure\",\n          \"Adventure Science Fiction Action\",\n          \"Action Crime Drama Romance Thriller\"\n        ],\n        \"semantic_type\": \"\",\n        \"description\": \"\"\n      }\n    },\n    {\n      \"column\": \"Movie_Keywords\",\n      \"properties\": {\n        \"dtype\": \"string\",\n        \"num_unique_values\": 4203,\n        \"samples\": [\n          \"canada nazis sequel spin off ancient evil\",\n          \"sex professor wedding woman director columbia university\",\n          \"prophecy sea beach gold small town\"\n        ],\n        \"semantic_type\": \"\",\n        \"description\": \"\"\n      }\n    },\n    {\n      \"column\": \"Movie_Tagline\",\n      \"properties\": {\n        \"dtype\": \"string\",\n        \"num_unique_values\": 3928,\n        \"samples\": [\n          \"The messenger must be silenced.\",\n          \"It's not the house that's haunted.\",\n          \"The final hunt begins.\"\n        ],\n        \"semantic_type\": \"\",\n        \"description\": \"\"\n      }\n    },\n    {\n      \"column\": \"Movie_Cast\",\n      \"properties\": {\n        \"dtype\": \"string\",\n        \"num_unique_values\": 4715,\n        \"samples\": [\n          \"Robin Tunney Fairuza Balk Neve Campbell Rachel True Skeet Ulrich\",\n          \"Peter Sellers Christopher Plummer Herbert Lom Catherine Schell Peter Arne\",\n          \"John Wayne Laraine Day Cedric Hardwicke Judith Anderson Anthony Quinn\"\n        ],\n        \"semantic_type\": \"\",\n        \"description\": \"\"\n      }\n    },\n    {\n      \"column\": \"Movie_Director\",\n      \"properties\": {\n        \"dtype\": \"category\",\n        \"num_unique_values\": 2332,\n        \"samples\": [\n          \"Rob McKittrick\",\n          \"Terron R. Parsons\",\n          \"Cyrus Nowrasteh\"\n        ],\n        \"semantic_type\": \"\",\n        \"description\": \"\"\n      }\n    }\n  ]\n}"
            }
          },
          "metadata": {},
          "execution_count": 38
        }
      ]
    },
    {
      "cell_type": "code",
      "source": [
        "x=df_features['Movie_Genre'] + ' ' + df_features['Movie_Keywords'] + ' '+ df_features['Movie_Tagline'] +' '+ df_features['Movie_Cast']+' '"
      ],
      "metadata": {
        "id": "y1mvzgFSQab8"
      },
      "execution_count": null,
      "outputs": []
    },
    {
      "cell_type": "code",
      "source": [
        "x"
      ],
      "metadata": {
        "colab": {
          "base_uri": "https://localhost:8080/",
          "height": 458
        },
        "id": "vdzwghyhROoq",
        "outputId": "95fe4696-c86a-439a-d195-3f0295bca838"
      },
      "execution_count": null,
      "outputs": [
        {
          "output_type": "execute_result",
          "data": {
            "text/plain": [
              "0       Crime Comedy hotel new year's eve witch bet ho...\n",
              "1       Adventure Action Science Fiction android galax...\n",
              "2       Animation Family father son relationship harbo...\n",
              "3       Comedy Drama Romance vietnam veteran hippie me...\n",
              "4       Drama male nudity female nudity adultery midli...\n",
              "                              ...                        \n",
              "4755    Horror  The hot spot where Satan's waitin'. Li...\n",
              "4756    Comedy Family Drama  It’s better to stand out ...\n",
              "4757    Thriller Drama christian film sex trafficking ...\n",
              "4758                                           Family    \n",
              "4759    Documentary music actors legendary perfomer cl...\n",
              "Length: 4760, dtype: object"
            ],
            "text/html": [
              "<div>\n",
              "<style scoped>\n",
              "    .dataframe tbody tr th:only-of-type {\n",
              "        vertical-align: middle;\n",
              "    }\n",
              "\n",
              "    .dataframe tbody tr th {\n",
              "        vertical-align: top;\n",
              "    }\n",
              "\n",
              "    .dataframe thead th {\n",
              "        text-align: right;\n",
              "    }\n",
              "</style>\n",
              "<table border=\"1\" class=\"dataframe\">\n",
              "  <thead>\n",
              "    <tr style=\"text-align: right;\">\n",
              "      <th></th>\n",
              "      <th>0</th>\n",
              "    </tr>\n",
              "  </thead>\n",
              "  <tbody>\n",
              "    <tr>\n",
              "      <th>0</th>\n",
              "      <td>Crime Comedy hotel new year's eve witch bet ho...</td>\n",
              "    </tr>\n",
              "    <tr>\n",
              "      <th>1</th>\n",
              "      <td>Adventure Action Science Fiction android galax...</td>\n",
              "    </tr>\n",
              "    <tr>\n",
              "      <th>2</th>\n",
              "      <td>Animation Family father son relationship harbo...</td>\n",
              "    </tr>\n",
              "    <tr>\n",
              "      <th>3</th>\n",
              "      <td>Comedy Drama Romance vietnam veteran hippie me...</td>\n",
              "    </tr>\n",
              "    <tr>\n",
              "      <th>4</th>\n",
              "      <td>Drama male nudity female nudity adultery midli...</td>\n",
              "    </tr>\n",
              "    <tr>\n",
              "      <th>...</th>\n",
              "      <td>...</td>\n",
              "    </tr>\n",
              "    <tr>\n",
              "      <th>4755</th>\n",
              "      <td>Horror  The hot spot where Satan's waitin'. Li...</td>\n",
              "    </tr>\n",
              "    <tr>\n",
              "      <th>4756</th>\n",
              "      <td>Comedy Family Drama  It’s better to stand out ...</td>\n",
              "    </tr>\n",
              "    <tr>\n",
              "      <th>4757</th>\n",
              "      <td>Thriller Drama christian film sex trafficking ...</td>\n",
              "    </tr>\n",
              "    <tr>\n",
              "      <th>4758</th>\n",
              "      <td>Family</td>\n",
              "    </tr>\n",
              "    <tr>\n",
              "      <th>4759</th>\n",
              "      <td>Documentary music actors legendary perfomer cl...</td>\n",
              "    </tr>\n",
              "  </tbody>\n",
              "</table>\n",
              "<p>4760 rows × 1 columns</p>\n",
              "</div><br><label><b>dtype:</b> object</label>"
            ]
          },
          "metadata": {},
          "execution_count": 40
        }
      ]
    },
    {
      "cell_type": "code",
      "source": [
        "x.shape"
      ],
      "metadata": {
        "colab": {
          "base_uri": "https://localhost:8080/"
        },
        "id": "u2_GDbS4RSXP",
        "outputId": "70dd7b2f-d2a3-49aa-b0bc-1aa869bb2950"
      },
      "execution_count": null,
      "outputs": [
        {
          "output_type": "execute_result",
          "data": {
            "text/plain": [
              "(4760,)"
            ]
          },
          "metadata": {},
          "execution_count": 41
        }
      ]
    },
    {
      "cell_type": "code",
      "source": [
        "from sklearn.feature_extraction.text import TfidfVectorizer"
      ],
      "metadata": {
        "id": "xiVxx-mbRYdz"
      },
      "execution_count": null,
      "outputs": []
    },
    {
      "cell_type": "code",
      "source": [
        "tfidf= TfidfVectorizer()"
      ],
      "metadata": {
        "id": "TfQ5-4_GR6TC"
      },
      "execution_count": null,
      "outputs": []
    },
    {
      "cell_type": "code",
      "source": [
        "x=tfidf.fit_transform(x)"
      ],
      "metadata": {
        "id": "wUlOmJ6ASCOf"
      },
      "execution_count": null,
      "outputs": []
    },
    {
      "cell_type": "code",
      "source": [
        "x.shape"
      ],
      "metadata": {
        "colab": {
          "base_uri": "https://localhost:8080/"
        },
        "id": "kYMk6P1jSK-U",
        "outputId": "78949eb9-29d8-42b8-e15f-cd3ebf870e12"
      },
      "execution_count": null,
      "outputs": [
        {
          "output_type": "execute_result",
          "data": {
            "text/plain": [
              "(4760, 15808)"
            ]
          },
          "metadata": {},
          "execution_count": 46
        }
      ]
    },
    {
      "cell_type": "code",
      "source": [
        "print(x)"
      ],
      "metadata": {
        "colab": {
          "base_uri": "https://localhost:8080/"
        },
        "id": "_DCqLCBxSNiD",
        "outputId": "8b580cf2-67c3-4c54-e5e4-9902b2fbd8ed"
      },
      "execution_count": null,
      "outputs": [
        {
          "output_type": "stream",
          "name": "stdout",
          "text": [
            "  (0, 3308)\t0.06626218766005414\n",
            "  (0, 2981)\t0.046244217257097826\n",
            "  (0, 6635)\t0.25687326164977686\n",
            "  (0, 9976)\t0.18004659296511993\n",
            "  (0, 15633)\t0.26640281079024736\n",
            "  (0, 4676)\t0.30188813912721724\n",
            "  (0, 15454)\t0.13043331193034316\n",
            "  (0, 1466)\t0.16024842203210496\n",
            "  (0, 11975)\t0.14970336975089715\n",
            "  (0, 14398)\t0.18033811543506267\n",
            "  (0, 10396)\t0.19206021323932151\n",
            "  (0, 5952)\t0.19206021323932151\n",
            "  (0, 5230)\t0.14970336975089715\n",
            "  (0, 12347)\t0.20136456570781783\n",
            "  (0, 11672)\t0.20136456570781783\n",
            "  (0, 579)\t0.07806931513717677\n",
            "  (0, 10286)\t0.08440617994344181\n",
            "  (0, 8442)\t0.15841165346722827\n",
            "  (0, 1384)\t0.20136456570781783\n",
            "  (0, 6858)\t0.15062665069458964\n",
            "  (0, 6500)\t0.20248597042328226\n",
            "  (0, 5082)\t0.11700318282288548\n",
            "  (0, 3580)\t0.12256363639502295\n",
            "  (0, 10284)\t0.07434259755092588\n",
            "  (0, 13946)\t0.10011181800449043\n",
            "  :\t:\n",
            "  (4757, 5040)\t0.13629090975840574\n",
            "  (4757, 10017)\t0.2044053511083612\n",
            "  (4757, 12596)\t0.16316424635740465\n",
            "  (4757, 12687)\t0.1795792300786589\n",
            "  (4757, 6130)\t0.23764260944651153\n",
            "  (4757, 3216)\t0.21729939684171823\n",
            "  (4757, 1101)\t0.2061112221582306\n",
            "  (4757, 13344)\t0.2694227235794707\n",
            "  (4757, 14213)\t0.26464009355869644\n",
            "  (4757, 5352)\t0.26464009355869644\n",
            "  (4757, 767)\t0.2997699857773603\n",
            "  (4757, 13002)\t0.314292335618101\n",
            "  (4757, 2042)\t0.314292335618101\n",
            "  (4758, 4847)\t1.0\n",
            "  (4759, 9762)\t0.17417596245073477\n",
            "  (4759, 14138)\t0.23237603412005664\n",
            "  (4759, 4019)\t0.20068640761988096\n",
            "  (4759, 5256)\t0.23737125423206903\n",
            "  (4759, 6556)\t0.289626902623047\n",
            "  (4759, 2811)\t0.30836518558570425\n",
            "  (4759, 12876)\t0.35495772048749535\n",
            "  (4759, 8175)\t0.33329342549503665\n",
            "  (4759, 203)\t0.35495772048749535\n",
            "  (4759, 10714)\t0.37215363882542984\n",
            "  (4759, 10305)\t0.37215363882542984\n"
          ]
        }
      ]
    },
    {
      "cell_type": "code",
      "source": [
        "from sklearn.metrics.pairwise import cosine_similarity"
      ],
      "metadata": {
        "id": "PoO78zDYSTq_"
      },
      "execution_count": null,
      "outputs": []
    },
    {
      "cell_type": "code",
      "source": [
        "Similarity_Score = cosine_similarity(x)"
      ],
      "metadata": {
        "id": "JB2QMGW_SgiA"
      },
      "execution_count": null,
      "outputs": []
    },
    {
      "cell_type": "code",
      "source": [
        "Similarity_Score"
      ],
      "metadata": {
        "colab": {
          "base_uri": "https://localhost:8080/"
        },
        "id": "N834aqVySu7j",
        "outputId": "8c9344f7-d6d9-4ee0-8730-98c01ccb7c3e"
      },
      "execution_count": null,
      "outputs": [
        {
          "output_type": "execute_result",
          "data": {
            "text/plain": [
              "array([[1.        , 0.01403469, 0.03732481, ..., 0.        , 0.        ,\n",
              "        0.        ],\n",
              "       [0.01403469, 1.        , 0.00839394, ..., 0.        , 0.        ,\n",
              "        0.        ],\n",
              "       [0.03732481, 0.00839394, 1.        , ..., 0.        , 0.08202211,\n",
              "        0.        ],\n",
              "       ...,\n",
              "       [0.        , 0.        , 0.        , ..., 1.        , 0.        ,\n",
              "        0.        ],\n",
              "       [0.        , 0.        , 0.08202211, ..., 0.        , 1.        ,\n",
              "        0.        ],\n",
              "       [0.        , 0.        , 0.        , ..., 0.        , 0.        ,\n",
              "        1.        ]])"
            ]
          },
          "metadata": {},
          "execution_count": 50
        }
      ]
    },
    {
      "cell_type": "code",
      "source": [
        "Similarity_Score.shape"
      ],
      "metadata": {
        "colab": {
          "base_uri": "https://localhost:8080/"
        },
        "id": "g_EQOWwES0CS",
        "outputId": "89e751fb-dec3-42a1-bc38-621b7e0c4d43"
      },
      "execution_count": null,
      "outputs": [
        {
          "output_type": "execute_result",
          "data": {
            "text/plain": [
              "(4760, 4760)"
            ]
          },
          "metadata": {},
          "execution_count": 51
        }
      ]
    },
    {
      "cell_type": "code",
      "source": [
        "Fav_Movie_Name = input('Enter your favourite movie name:')"
      ],
      "metadata": {
        "colab": {
          "base_uri": "https://localhost:8080/"
        },
        "collapsed": true,
        "id": "vUL6AqB-Xb4u",
        "outputId": "b9b0819d-58d9-4785-caec-2315f69f17a6"
      },
      "execution_count": null,
      "outputs": [
        {
          "name": "stdout",
          "output_type": "stream",
          "text": [
            "Enter your favourite movie name:Avatar\n"
          ]
        }
      ]
    },
    {
      "cell_type": "code",
      "source": [
        "All_Movies_Title_List=df['Movie_Title'].tolist()"
      ],
      "metadata": {
        "id": "tS0vwbuuZSKs"
      },
      "execution_count": null,
      "outputs": []
    },
    {
      "cell_type": "code",
      "source": [
        "import difflib"
      ],
      "metadata": {
        "id": "dxkCjtTMZqeG"
      },
      "execution_count": null,
      "outputs": []
    },
    {
      "cell_type": "code",
      "source": [
        "Movie_Recommendation = difflib.get_close_matches(Fav_Movie_Name,All_Movies_Title_List)\n",
        "print (Movie_Recommendation)"
      ],
      "metadata": {
        "colab": {
          "base_uri": "https://localhost:8080/"
        },
        "id": "et6qT0xiZt5j",
        "outputId": "0d3aaa14-4430-4d50-afbf-4d0beb352d11"
      },
      "execution_count": null,
      "outputs": [
        {
          "output_type": "stream",
          "name": "stdout",
          "text": [
            "['Avatar']\n"
          ]
        }
      ]
    },
    {
      "cell_type": "code",
      "source": [
        "Close_Match = Movie_Recommendation[0]\n",
        "print(Close_Match)"
      ],
      "metadata": {
        "colab": {
          "base_uri": "https://localhost:8080/"
        },
        "id": "2cs1M156bO6s",
        "outputId": "4dfe4ce0-073d-41c2-b1b3-38ea0bd38342"
      },
      "execution_count": null,
      "outputs": [
        {
          "output_type": "stream",
          "name": "stdout",
          "text": [
            "Avatar\n"
          ]
        }
      ]
    },
    {
      "cell_type": "code",
      "source": [
        "Index_of_Close_Match_Movie=df[df.Movie_Title==Close_Match]['Movie_ID'].values[0]\n",
        "print(Index_of_Close_Match_Movie)"
      ],
      "metadata": {
        "colab": {
          "base_uri": "https://localhost:8080/"
        },
        "id": "V_NiGvmht9le",
        "outputId": "ace01274-47d9-4e9f-e38c-46f95757decd"
      },
      "execution_count": null,
      "outputs": [
        {
          "output_type": "stream",
          "name": "stdout",
          "text": [
            "2692\n"
          ]
        }
      ]
    },
    {
      "cell_type": "code",
      "source": [
        "Recommendation_Score=list(enumerate(Similarity_Score[Index_of_Close_Match_Movie]))\n",
        "print(Recommendation_Score)"
      ],
      "metadata": {
        "colab": {
          "base_uri": "https://localhost:8080/"
        },
        "id": "UTdcnw43u0wU",
        "outputId": "b36a0616-b8c6-4081-b940-a0a851e24bfd"
      },
      "execution_count": null,
      "outputs": [
        {
          "output_type": "stream",
          "name": "stdout",
          "text": [
            "[(0, 0.010235530862251636), (1, 0.0), (2, 0.0), (3, 0.00833511290658874), (4, 0.00280541020207052), (5, 0.010657109616002535), (6, 0.005383177054781019), (7, 0.01398040681461746), (8, 0.003035314173324459), (9, 0.006461466958477293), (10, 0.008161281747557637), (11, 0.002749924442296492), (12, 0.0029445281336986577), (13, 0.014239854453442441), (14, 0.0), (15, 0.02403295286645154), (16, 0.006713828191485267), (17, 0.0), (18, 0.014301232854996314), (19, 0.009331788217465452), (20, 0.0028417094276719343), (21, 0.017712255977826958), (22, 0.00693936950223218), (23, 0.002788185254600267), (24, 0.001766851934192554), (25, 0.028432570725615676), (26, 0.002617516942632874), (27, 0.005029802618894248), (28, 0.0), (29, 0.024432260963824757), (30, 0.004874172948814157), (31, 0.007017337069406354), (32, 0.008780634544985792), (33, 0.01943428784544687), (34, 0.007888470870324283), (35, 0.006307016817553152), (36, 0.0), (37, 0.0), (38, 0.008631481355570136), (39, 0.004846797865685523), (40, 0.015880901649255305), (41, 0.002946006576546404), (42, 0.007628137943542605), (43, 0.015458702684794268), (44, 0.041521730937745915), (45, 0.09414497223074919), (46, 0.0193593721273893), (47, 0.01085116058181449), (48, 0.01682894199269297), (49, 0.0), (50, 0.007369285331875115), (51, 0.015600821649151213), (52, 0.014671267004849201), (53, 0.0), (54, 0.0), (55, 0.0), (56, 0.006976460884016378), (57, 0.011525937789179833), (58, 0.0), (59, 0.0), (60, 0.008178513659278094), (61, 0.018374506168127795), (62, 0.06941711943881074), (63, 0.007556238975649146), (64, 0.0), (65, 0.03319096801568383), (66, 0.002711239072386878), (67, 0.04728755182805107), (68, 0.02392684348625158), (69, 0.0062269114687121254), (70, 0.013516296969803035), (71, 0.0027302009339908247), (72, 0.011876048887147205), (73, 0.0), (74, 0.0029337408872032317), (75, 0.014539141369042712), (76, 0.003901015867191091), (77, 0.0036083005513895803), (78, 0.01034349745936445), (79, 0.009479952930106377), (80, 0.004438000878207157), (81, 0.00735954770148661), (82, 0.012466964073377726), (83, 0.01990478885858127), (84, 0.0654248914091692), (85, 0.016254327748999143), (86, 0.012392225950118454), (87, 0.01455183307927186), (88, 0.023148903939415114), (89, 0.045003408520807205), (90, 0.004706187404078124), (91, 0.0), (92, 0.0024750651716028598), (93, 0.005020747951275522), (94, 0.004768612919010488), (95, 0.005031281230861061), (96, 0.0092743508298422), (97, 0.0023227553465668496), (98, 0.0026196925877366023), (99, 0.010844264442339425), (100, 0.0), (101, 0.0), (102, 0.005237665405839251), (103, 0.0024541031078377257), (104, 0.009635310191240129), (105, 0.010268717524501127), (106, 0.0184313961921411), (107, 0.008736305607521484), (108, 0.040131305664981826), (109, 0.041514733088147564), (110, 0.0902773662687555), (111, 0.00952418274915539), (112, 0.03137279197827057), (113, 0.007808263822491266), (114, 0.0026654759379469988), (115, 0.002756393778155059), (116, 0.025599807860292777), (117, 0.0), (118, 0.00489022510680238), (119, 0.0093006710642031), (120, 0.010574410591260429), (121, 0.0024193966029235937), (122, 0.006797747807826893), (123, 0.01935554227917092), (124, 0.026140421535758185), (125, 0.014090454859500053), (126, 0.04010611854860763), (127, 0.002732913214882996), (128, 0.005306052533507276), (129, 0.0018042133905351587), (130, 0.012669361297707555), (131, 0.007087914718916564), (132, 0.002353573003281569), (133, 0.0), (134, 0.0), (135, 0.004903336278079768), (136, 0.002469953160915663), (137, 0.05537667258789335), (138, 0.03711817326919062), (139, 0.00841556085348599), (140, 0.0025652892482485533), (141, 0.0), (142, 0.02210574848384291), (143, 0.00787375698530006), (144, 0.01798477190583769), (145, 0.020188425235032247), (146, 0.0), (147, 0.018795669903509567), (148, 0.011017512866855785), (149, 0.0141108632963103), (150, 0.0), (151, 0.0), (152, 0.004717966236745519), (153, 0.0), (154, 0.002488240427493659), (155, 0.005145531368211731), (156, 0.007745377360484386), (157, 0.0026192027901413306), (158, 0.002492090922650063), (159, 0.007563036276199956), (160, 0.019073659003556512), (161, 0.014655143973070326), (162, 0.008181312078906829), (163, 0.0), (164, 0.009134842379707398), (165, 0.0023222142045449877), (166, 0.033735226497851344), (167, 0.002600052151208809), (168, 0.0053861334692996915), (169, 0.0027392837929092043), (170, 0.011241763840080386), (171, 0.0), (172, 0.04374050934306399), (173, 0.017936131782277133), (174, 0.0389450705249326), (175, 0.024535533919935917), (176, 0.030799590509277556), (177, 0.005811874137714268), (178, 0.00283789356094775), (179, 0.03264523973060375), (180, 0.008013351456041576), (181, 0.014845597502431026), (182, 0.009668974098510214), (183, 0.00887955158479728), (184, 0.0023302243133906464), (185, 0.04378711050162967), (186, 0.0), (187, 0.004301885098070328), (188, 0.0), (189, 0.004850369955626959), (190, 0.012893975124329165), (191, 0.004344011700821239), (192, 0.0029342105506584316), (193, 0.030627937058345114), (194, 0.0021536440057835712), (195, 0.00227452583096234), (196, 0.0022273857499561555), (197, 0.009155672730464694), (198, 0.0028043742618201546), (199, 0.021739546136829824), (200, 0.006694833664907812), (201, 0.012852040943549092), (202, 0.0017376977169426533), (203, 0.018383391829206352), (204, 0.01998593442778962), (205, 0.0), (206, 0.010871420574129466), (207, 0.014288563356231417), (208, 0.015672010986390476), (209, 0.017704272977740295), (210, 0.044151568259118604), (211, 0.002777176850904277), (212, 0.01778687937532981), (213, 0.05411035995648256), (214, 0.0), (215, 0.002607546288872964), (216, 0.01043879612018275), (217, 0.007316248681457808), (218, 0.017080322892404774), (219, 0.0), (220, 0.00511316193214524), (221, 0.002581061981850724), (222, 0.018697723420209006), (223, 0.0), (224, 0.007646373915526698), (225, 0.0), (226, 0.0026898803113064103), (227, 0.05556940664265922), (228, 0.0020114687983408853), (229, 0.0024715034207233935), (230, 0.0067460106306938125), (231, 0.014564867932446804), (232, 0.007506290304645788), (233, 0.004759342389597597), (234, 0.004140040748888007), (235, 0.0030121413400188103), (236, 0.01413534522090576), (237, 0.0), (238, 0.007993494227047518), (239, 0.005133569590110383), (240, 0.030845370832029217), (241, 0.004895419788109261), (242, 0.008534354257889844), (243, 0.010494463216635969), (244, 0.011991791626675602), (245, 0.0), (246, 0.0028597598065552327), (247, 0.0026315716628232035), (248, 0.0065557565791687445), (249, 0.002379359876700898), (250, 0.033464357347368384), (251, 0.015087728497908216), (252, 0.01498604196286564), (253, 0.002922343981176362), (254, 0.06576406967301204), (255, 0.00781632722681851), (256, 0.007536923944436428), (257, 0.0), (258, 0.0), (259, 0.0), (260, 0.004694074700739606), (261, 0.02397762669337418), (262, 0.002853106327806568), (263, 0.006568637812347376), (264, 0.0), (265, 0.0), (266, 0.010922515891572894), (267, 0.0022761606852599557), (268, 0.002361296260922895), (269, 0.025931112152694908), (270, 0.010721582661636132), (271, 0.01096799897723565), (272, 0.0), (273, 0.01160597313372049), (274, 0.011664800347397735), (275, 0.0), (276, 0.014117417291553226), (277, 0.04519378176673224), (278, 0.002297804685389678), (279, 0.017550082264836148), (280, 0.016960812322225433), (281, 0.011780899012742443), (282, 0.0362727604885692), (283, 0.006887568565698537), (284, 0.030802609245762), (285, 0.009113992170051221), (286, 0.002297995241564216), (287, 0.016199516959475878), (288, 0.009921588481362638), (289, 0.0038593381954171945), (290, 0.003926645177754018), (291, 0.011488537162800929), (292, 0.055398181611169744), (293, 0.0018853518360183118), (294, 0.0038494484315407113), (295, 0.003888781262589758), (296, 0.01610425969767957), (297, 0.0), (298, 0.0), (299, 0.0), (300, 0.006593161803965805), (301, 0.007356775670927187), (302, 0.0), (303, 0.005287911647564084), (304, 0.01148453823170286), (305, 0.004808005588849367), (306, 0.004434472292222076), (307, 0.008930019571308019), (308, 0.0029847236525235364), (309, 0.00791009140241593), (310, 0.004671462068784823), (311, 0.006920975477047173), (312, 0.0), (313, 0.012391062745480559), (314, 0.0040319007009722895), (315, 0.004807251515962294), (316, 0.00443184630528652), (317, 0.014616134952179106), (318, 0.0031177362623192066), (319, 0.0), (320, 0.005046010374394024), (321, 0.011382094839517274), (322, 0.011487271981672473), (323, 0.0042896833735983995), (324, 0.002519061171533375), (325, 0.0025253073226953397), (326, 0.003393065095206937), (327, 0.010611005158379327), (328, 0.045372557356797016), (329, 0.02080689984620876), (330, 0.02095461834505779), (331, 0.0), (332, 0.013787137135620709), (333, 0.010925163960107447), (334, 0.03359597669662011), (335, 0.0), (336, 0.005220348992821711), (337, 0.0), (338, 0.0), (339, 0.0), (340, 0.0074568688270163835), (341, 0.012918196097474587), (342, 0.01857323283318341), (343, 0.016746192107410643), (344, 0.0), (345, 0.025925175145546958), (346, 0.009688123213651943), (347, 0.004927009316679784), (348, 0.0026426241309547706), (349, 0.002583004330225618), (350, 0.00837345032942408), (351, 0.0020094922316657906), (352, 0.0), (353, 0.009728401435159979), (354, 0.01068704476281133), (355, 0.0024755835021968422), (356, 0.013931032521604008), (357, 0.002291873147702319), (358, 0.01618408865059776), (359, 0.002443466944976591), (360, 0.04332898110125079), (361, 0.0), (362, 0.0), (363, 0.007457141378674003), (364, 0.019122518733694544), (365, 0.0), (366, 0.0), (367, 0.007118429433583733), (368, 0.009065361784992999), (369, 0.005634174214397815), (370, 0.014938335076977328), (371, 0.02960821971236855), (372, 0.0025079497712865812), (373, 0.002589457323680574), (374, 0.01630188956073043), (375, 0.004892847938393263), (376, 0.0), (377, 0.0027101443229622887), (378, 0.002658430420224), (379, 0.0), (380, 0.005604844014921898), (381, 0.026899435925105207), (382, 0.0), (383, 0.02195950476174933), (384, 0.030879223215803615), (385, 0.008282903891657508), (386, 0.007209509475550382), (387, 0.03398072385509242), (388, 0.0025215580496131943), (389, 0.004916318540221348), (390, 0.0), (391, 0.0), (392, 0.0), (393, 0.0), (394, 0.0), (395, 0.0029027990121664074), (396, 0.009783669212830599), (397, 0.004471812459473998), (398, 0.02580279667934601), (399, 0.00246339899490401), (400, 0.0026828304776302337), (401, 0.0), (402, 0.011891879104626982), (403, 0.008158576379925394), (404, 0.0), (405, 0.0), (406, 0.014643368988324195), (407, 0.013106668083183151), (408, 0.04645078429591192), (409, 0.017830751005354965), (410, 0.002455949767868678), (411, 0.0), (412, 0.046769439046480954), (413, 0.007521924139610777), (414, 0.005135803193614026), (415, 0.0), (416, 0.002456552086269268), (417, 0.011308625057163735), (418, 0.013008390998245845), (419, 0.003044567415880954), (420, 0.005174740606697834), (421, 0.03029402142336627), (422, 0.007073823848603337), (423, 0.0), (424, 0.03477494861938141), (425, 0.005526769868465452), (426, 0.004487192867380985), (427, 0.0), (428, 0.008848006986270262), (429, 0.01621935975149154), (430, 0.0326246427857821), (431, 0.003188494913509463), (432, 0.0022623484474020663), (433, 0.017199227429045016), (434, 0.00940109005344406), (435, 0.009876036959635095), (436, 0.008535604839378892), (437, 0.01598648371697209), (438, 0.045976079539731575), (439, 0.0), (440, 0.0), (441, 0.007978465188107464), (442, 0.022415585435872812), (443, 0.008814847253410751), (444, 0.0030227718385874617), (445, 0.008839125873745215), (446, 0.00937595842821169), (447, 0.015710012265417187), (448, 0.003137671574936457), (449, 0.00912158377577386), (450, 0.016575465852049893), (451, 0.00484977198434478), (452, 0.012307176897992909), (453, 0.002262082385282907), (454, 0.0), (455, 0.04432226352867556), (456, 0.0028483600841367183), (457, 0.0026029112493148017), (458, 0.016832748256695618), (459, 0.028447389375508846), (460, 0.004813634473281611), (461, 0.009268923607904735), (462, 0.0), (463, 0.02046902490681985), (464, 0.009606155311485964), (465, 0.029816046643492685), (466, 0.002651549606359768), (467, 0.00490981972471536), (468, 0.01098509673152355), (469, 0.003969254487486706), (470, 0.015413635430707364), (471, 0.0024821763742756053), (472, 0.010043812093417327), (473, 0.002761949419071414), (474, 0.007833719229508379), (475, 0.0032839014156923045), (476, 0.0030256369007101488), (477, 0.005492477633989664), (478, 0.0030470730441616517), (479, 0.05512707036648731), (480, 0.0023782384547403604), (481, 0.016747191903394583), (482, 0.015100382289717898), (483, 0.010758428534976746), (484, 0.0), (485, 0.01081420986565871), (486, 0.0), (487, 0.0028736697400840775), (488, 0.0025875672172095865), (489, 0.003244793694390623), (490, 0.0026800201196263136), (491, 0.0), (492, 0.0), (493, 0.008181171399060124), (494, 0.0075549847938752275), (495, 0.002381294341473385), (496, 0.013957637790423924), (497, 0.0066473683280566485), (498, 0.0), (499, 0.002894845881716978), (500, 0.011778489718343381), (501, 0.011055461352271534), (502, 0.01542889839415764), (503, 0.00718138923563157), (504, 0.002724784795557488), (505, 0.0025519740313034913), (506, 0.0), (507, 0.002545981987278743), (508, 0.003137760612598639), (509, 0.007753860666411178), (510, 0.015271323792612259), (511, 0.017632220800499802), (512, 0.006079996501437242), (513, 0.00529490150943489), (514, 0.005361048705289152), (515, 0.023463506153529105), (516, 0.0), (517, 0.0), (518, 0.003127686497031212), (519, 0.05209484927228217), (520, 0.0), (521, 0.006593161438444196), (522, 0.002598041378050829), (523, 0.012370892231133584), (524, 0.0025377403638104238), (525, 0.0), (526, 0.0035909538788435834), (527, 0.01318374972307986), (528, 0.0), (529, 0.0), (530, 0.031139675477405038), (531, 0.0), (532, 0.011624814940977838), (533, 0.017162889356759116), (534, 0.015222082299082926), (535, 0.0), (536, 0.0), (537, 0.01344941949675318), (538, 0.011379348196644379), (539, 0.007495334085440877), (540, 0.03705495477179746), (541, 0.0025972492038310708), (542, 0.010433994262563697), (543, 0.015679297528792737), (544, 0.010320494383452712), (545, 0.014043837084685335), (546, 0.0), (547, 0.036264991220693425), (548, 0.0), (549, 0.0), (550, 0.005357206426813648), (551, 0.01727928380449316), (552, 0.0), (553, 0.019431752326439428), (554, 0.0), (555, 0.011217224190925126), (556, 0.0), (557, 0.0), (558, 0.009609076108749759), (559, 0.004407362727344581), (560, 0.012275793828620468), (561, 0.0050143745496210165), (562, 0.005665564008377005), (563, 0.006830641499754746), (564, 0.0028419022103286415), (565, 0.0), (566, 0.019819237992301352), (567, 0.0), (568, 0.006448472793398861), (569, 0.0), (570, 0.0), (571, 0.005736623976025059), (572, 0.0), (573, 0.0), (574, 0.0), (575, 0.0), (576, 0.00307909867231891), (577, 0.0), (578, 0.03531992918725892), (579, 0.002767014384974401), (580, 0.007960994715018686), (581, 0.006768963787991295), (582, 0.008236980351261084), (583, 0.0062266045284853615), (584, 0.015727319644382003), (585, 0.0), (586, 0.01663159946956847), (587, 0.0029238570275185224), (588, 0.002821828036812246), (589, 0.0025552255179237906), (590, 0.06556912950676472), (591, 0.0), (592, 0.0), (593, 0.03196735811335836), (594, 0.0023979522869272915), (595, 0.005377263455693864), (596, 0.003000396321891348), (597, 0.008581070986047063), (598, 0.0025124834629060098), (599, 0.0), (600, 0.007374284334497494), (601, 0.0), (602, 0.0), (603, 0.0), (604, 0.013668901689930162), (605, 0.0023228832740512084), (606, 0.008015805861388874), (607, 0.002029747912075286), (608, 0.006759109685952536), (609, 0.013070604731882), (610, 0.0), (611, 0.0043931414004975645), (612, 0.0028776899443126377), (613, 0.0232617708679708), (614, 0.003087524506086357), (615, 0.04819981584933456), (616, 0.007964932529395355), (617, 0.006537498878170135), (618, 0.033843179602604384), (619, 0.004833783062384905), (620, 0.016470060238704988), (621, 0.010262124958344686), (622, 0.01581429508021545), (623, 0.0028731689019539956), (624, 0.002534926117716592), (625, 0.004199957925498584), (626, 0.002224527892320516), (627, 0.004019743088634994), (628, 0.08770569629406248), (629, 0.03143649191913103), (630, 0.0), (631, 0.009802686825783268), (632, 0.04351862680472636), (633, 0.0049181430536470614), (634, 0.004937321347790172), (635, 0.012696611251235007), (636, 0.007811863634295658), (637, 0.04865918150672539), (638, 0.01816141414701087), (639, 0.0040234389265562855), (640, 0.004115676492659198), (641, 0.006870067270281563), (642, 0.0064715978885611074), (643, 0.020967297344354964), (644, 0.007652267969381737), (645, 0.0022317995565902435), (646, 0.0026155316781452725), (647, 0.002360466355254333), (648, 0.012942873130492957), (649, 0.0), (650, 0.0), (651, 0.009340074893347879), (652, 0.016474033541848274), (653, 0.013128567154209674), (654, 0.013103183054646396), (655, 0.002551752771257449), (656, 0.0), (657, 0.025708535402621545), (658, 0.0), (659, 0.0024640676135243376), (660, 0.007956603332140058), (661, 0.004653079238224007), (662, 0.0), (663, 0.0), (664, 0.012727589840990398), (665, 0.0), (666, 0.005596480315383752), (667, 0.013599343181343022), (668, 0.009783084504042455), (669, 0.02029407373685469), (670, 0.03033882910663223), (671, 0.007281872420484628), (672, 0.025187938915964058), (673, 0.016565064856933567), (674, 0.0), (675, 0.06627793849089327), (676, 0.014614270843624325), (677, 0.017566346781535087), (678, 0.01367486710065875), (679, 0.0), (680, 0.0029085921534431703), (681, 0.0), (682, 0.04678205020072265), (683, 0.011510930383348383), (684, 0.012461996887666027), (685, 0.005004799884704518), (686, 0.0), (687, 0.005561343619714704), (688, 0.008504658993545407), (689, 0.019594124643429273), (690, 0.004527220366595812), (691, 0.0242880545202417), (692, 0.016405310238781924), (693, 0.0027315809197726183), (694, 0.0373543234253592), (695, 0.011289246369830974), (696, 0.007594825957667183), (697, 0.009471874295493333), (698, 0.0025986671279333673), (699, 0.0), (700, 0.0), (701, 0.016782173046901248), (702, 0.0), (703, 0.0023766193476908704), (704, 0.0), (705, 0.008452276249393646), (706, 0.02391800585559915), (707, 0.0022147118404637436), (708, 0.0), (709, 0.0), (710, 0.03796109336413333), (711, 0.0), (712, 0.002367496342034888), (713, 0.0), (714, 0.0), (715, 0.011009264216760711), (716, 0.007979384990614171), (717, 0.002831426292511066), (718, 0.0), (719, 0.011906193862099658), (720, 0.0), (721, 0.03602750407051586), (722, 0.002389728446621959), (723, 0.004102701880952196), (724, 0.0), (725, 0.0), (726, 0.0), (727, 0.007471875648428177), (728, 0.008163990078901952), (729, 0.008467281463538288), (730, 0.0), (731, 0.002547587289255302), (732, 0.012842736483582683), (733, 0.012851947577860668), (734, 0.008907957227724497), (735, 0.003900888722700687), (736, 0.0), (737, 0.010952252460867836), (738, 0.004003164084627939), (739, 0.0031135648868047634), (740, 0.0018018851121132033), (741, 0.0), (742, 0.013364440891957933), (743, 0.0077875251232302194), (744, 0.006915564388783619), (745, 0.006929268523816188), (746, 0.0), (747, 0.0), (748, 0.007485470473014423), (749, 0.002686233521310955), (750, 0.007742731884540014), (751, 0.0), (752, 0.007230483575982614), (753, 0.013753588198932638), (754, 0.0), (755, 0.0025999392482386093), (756, 0.004167154029930927), (757, 0.01905978257238178), (758, 0.006845681886898833), (759, 0.0025668804973019593), (760, 0.015332012124360115), (761, 0.035027383566040675), (762, 0.016105804471236527), (763, 0.021859260907643358), (764, 0.0), (765, 0.005128688132202946), (766, 0.009090797461260812), (767, 0.0026197369596292854), (768, 0.01969599503124927), (769, 0.00767888825505941), (770, 0.0), (771, 0.0), (772, 0.0), (773, 0.0), (774, 0.0028297872738454045), (775, 0.014473140465009388), (776, 0.018072097786880285), (777, 0.003287730916592062), (778, 0.007071766597235197), (779, 0.021154179519604605), (780, 0.0), (781, 0.0), (782, 0.009022946560742744), (783, 0.0028619448258071327), (784, 0.0), (785, 0.0), (786, 0.0), (787, 0.015975267989566347), (788, 0.040630914982626054), (789, 0.0), (790, 0.011996030244417179), (791, 0.0029291397214110124), (792, 0.010786693057817407), (793, 0.005069671648116154), (794, 0.01783095066695226), (795, 0.01781494962553163), (796, 0.018384469404964285), (797, 0.0), (798, 0.002524806990828754), (799, 0.01457995034322047), (800, 0.012886888311825401), (801, 0.011337797026103016), (802, 0.005315048988192437), (803, 0.004331243367120705), (804, 0.006772345992860779), (805, 0.0024604872198874684), (806, 0.010493506876433684), (807, 0.0), (808, 0.018747571179007355), (809, 0.011995447593379421), (810, 0.0045480582452349086), (811, 0.004963834914668661), (812, 0.033726019428423314), (813, 0.003038379081843507), (814, 0.014214843266850656), (815, 0.0023719026231468977), (816, 0.009075865637607605), (817, 0.009661421688654234), (818, 0.03663320214176731), (819, 0.0), (820, 0.0), (821, 0.006979647440258749), (822, 0.0), (823, 0.00311897801436305), (824, 0.0256066841316988), (825, 0.011863995957030237), (826, 0.0028637420241051973), (827, 0.011753684727091077), (828, 0.009701710470184763), (829, 0.01360282483951795), (830, 0.03631482484500998), (831, 0.005496553068697689), (832, 0.027524730956745774), (833, 0.01347050581115837), (834, 0.006920645681394335), (835, 0.006546570062390971), (836, 0.029640172102037492), (837, 0.0), (838, 0.009145358655851607), (839, 0.0), (840, 0.0), (841, 0.0), (842, 0.0151763448345896), (843, 0.007776416155641657), (844, 0.0131792627294497), (845, 0.007903423109143194), (846, 0.0), (847, 0.01110127688255661), (848, 0.002680718640640371), (849, 0.004889512764592609), (850, 0.00973564465347454), (851, 0.008908211279140663), (852, 0.002557886057720595), (853, 0.016859780897458494), (854, 0.0025567313863249543), (855, 0.005606600906933409), (856, 0.0024688230856301815), (857, 0.00309706810704258), (858, 0.02045628294646932), (859, 0.0), (860, 0.01746047719773529), (861, 0.006614601996050062), (862, 0.0064217822215723004), (863, 0.006785980770745072), (864, 0.03354889943036747), (865, 0.002746493885703994), (866, 0.01467582649691039), (867, 0.01636540671355156), (868, 0.007195354043631858), (869, 0.007695604328551291), (870, 0.021255607812822187), (871, 0.00278372777732173), (872, 0.002831979195470954), (873, 0.054044352355894845), (874, 0.014760710063190987), (875, 0.013681343231759612), (876, 0.01713433776194761), (877, 0.05385239939741954), (878, 0.014152171802030596), (879, 0.015581132783585468), (880, 0.007409918685860726), (881, 0.0), (882, 0.0), (883, 0.002663074172955265), (884, 0.002796572051680715), (885, 0.02770587475162135), (886, 0.0024981079696600223), (887, 0.002899453917518227), (888, 0.016878460142679182), (889, 0.0035602269536229984), (890, 0.002838625444759012), (891, 0.0053240416901607695), (892, 0.0), (893, 0.0044089141411622745), (894, 0.009995419942861395), (895, 0.015555542089411602), (896, 0.01626453569011602), (897, 0.009617366544595251), (898, 0.004303038313871647), (899, 0.015219398820360537), (900, 0.013640309234919082), (901, 0.0022537693756319297), (902, 0.005158065348349577), (903, 0.03220888505839557), (904, 0.04943440760698531), (905, 0.014572402189698862), (906, 0.013729437835811466), (907, 0.0025375779217414077), (908, 0.007639140178224464), (909, 0.0), (910, 0.006879350149166212), (911, 0.03791667196272233), (912, 0.0), (913, 0.0), (914, 0.0), (915, 0.011692752842721414), (916, 0.017848855236610058), (917, 0.025288984646527273), (918, 0.012918948990659861), (919, 0.005352702304748615), (920, 0.0), (921, 0.009713779036839336), (922, 0.0030935714298751422), (923, 0.007391227646462021), (924, 0.008254606550156763), (925, 0.003144260603854778), (926, 0.0), (927, 0.0048100543610548096), (928, 0.012824010418231179), (929, 0.01855358466036272), (930, 0.008228100725342857), (931, 0.01245246248976017), (932, 0.004352877683080609), (933, 0.0028487080608865342), (934, 0.014980589282021372), (935, 0.033417511295309635), (936, 0.012897720282374462), (937, 0.017608376815381733), (938, 0.0), (939, 0.009506919612462757), (940, 0.0066505336556797155), (941, 0.0025948265034428336), (942, 0.02502916441762101), (943, 0.0), (944, 0.0024897579452404003), (945, 0.0), (946, 0.0), (947, 0.021875042535615605), (948, 0.00978574558619539), (949, 0.011445281804597168), (950, 0.0), (951, 0.002270856614013183), (952, 0.0309310103055984), (953, 0.006000409913612755), (954, 0.0), (955, 0.0), (956, 0.0), (957, 0.015253815915160186), (958, 0.006690280347290404), (959, 0.0027008473453166864), (960, 0.0), (961, 0.0), (962, 0.009486680636147915), (963, 0.01345425388931055), (964, 0.0), (965, 0.0), (966, 0.009109815440722747), (967, 0.02690675076358401), (968, 0.01970844556704408), (969, 0.0027316204156217386), (970, 0.010119818923779868), (971, 0.0), (972, 0.0), (973, 0.002646292588606486), (974, 0.004633754611701852), (975, 0.0025097451100628615), (976, 0.029913014314403803), (977, 0.0), (978, 0.0), (979, 0.010426710649606777), (980, 0.007857674107053524), (981, 0.006835079342251376), (982, 0.0), (983, 0.0), (984, 0.002555996093718612), (985, 0.003130581723836912), (986, 0.015601814893412674), (987, 0.0028560323356445908), (988, 0.014973427306440945), (989, 0.014743124189679891), (990, 0.0), (991, 0.008187940968393904), (992, 0.005175376103847247), (993, 0.002663560856396252), (994, 0.010493394723020053), (995, 0.0), (996, 0.00707671770947175), (997, 0.004429182932176198), (998, 0.0030298011833820183), (999, 0.0030902583620925584), (1000, 0.013525231076401772), (1001, 0.007100429204240866), (1002, 0.002576889148656416), (1003, 0.022233251947110032), (1004, 0.002398912009573837), (1005, 0.013364392800862957), (1006, 0.009945249663519083), (1007, 0.002910465416371236), (1008, 0.0), (1009, 0.012767711172938019), (1010, 0.0), (1011, 0.0), (1012, 0.011656875524014936), (1013, 0.0), (1014, 0.00837086611492263), (1015, 0.024134925936145704), (1016, 0.0), (1017, 0.02163076230676044), (1018, 0.016763602176936274), (1019, 0.012053435083992354), (1020, 0.009522784371209611), (1021, 0.06393586231599901), (1022, 0.0), (1023, 0.04934057620996331), (1024, 0.04224823333273439), (1025, 0.0), (1026, 0.002664151485968763), (1027, 0.0026088456841530136), (1028, 0.0), (1029, 0.0), (1030, 0.05490972082289958), (1031, 0.0), (1032, 0.0025867946069116033), (1033, 0.022261424609337117), (1034, 0.0025878835094813825), (1035, 0.014484276472843711), (1036, 0.002549488043761182), (1037, 0.008197509993682944), (1038, 0.0), (1039, 0.0), (1040, 0.0023776687290924144), (1041, 0.007061887523481672), (1042, 0.0022195459982699236), (1043, 0.03140327094794865), (1044, 0.00716180791881627), (1045, 0.016770590218080108), (1046, 0.03034297765687441), (1047, 0.012957850372913873), (1048, 0.010054856827514128), (1049, 0.0031813316989567405), (1050, 0.009186814664698208), (1051, 0.0), (1052, 0.02058508845054551), (1053, 0.012566892598057794), (1054, 0.011496731890565376), (1055, 0.0), (1056, 0.0), (1057, 0.0), (1058, 0.01596792416826241), (1059, 0.030714702062315778), (1060, 0.002606492117045701), (1061, 0.011042816313842931), (1062, 0.0), (1063, 0.03604141148142953), (1064, 0.019611489190824352), (1065, 0.006959862287776726), (1066, 0.0), (1067, 0.0), (1068, 0.032702870142750834), (1069, 0.007952792079026239), (1070, 0.09649789650498664), (1071, 0.007974268261496515), (1072, 0.002670872100546454), (1073, 0.0), (1074, 0.019138041210609802), (1075, 0.010123683848838168), (1076, 0.007127284926690459), (1077, 0.009770139875033768), (1078, 0.008420590732742898), (1079, 0.0024103736245329383), (1080, 0.002404689211454961), (1081, 0.0), (1082, 0.004710315195013011), (1083, 0.008081019958517963), (1084, 0.0026215327864437263), (1085, 0.0408386932352384), (1086, 0.0), (1087, 0.009702018844366932), (1088, 0.002300379223524165), (1089, 0.0), (1090, 0.012114258582437218), (1091, 0.0), (1092, 0.010280664654952813), (1093, 0.0), (1094, 0.006737095788577622), (1095, 0.030731863315902632), (1096, 0.009307553331885042), (1097, 0.0), (1098, 0.024109585977200414), (1099, 0.012548393180676447), (1100, 0.00261764602246799), (1101, 0.0), (1102, 0.053632722899315116), (1103, 0.0), (1104, 0.013204906477523246), (1105, 0.0), (1106, 0.0), (1107, 0.013930385368837152), (1108, 0.0), (1109, 0.003004222388546969), (1110, 0.002578451509775647), (1111, 0.0070684945294948445), (1112, 0.018765584132540272), (1113, 0.0), (1114, 0.015377598415136447), (1115, 0.01686943988920194), (1116, 0.015514281183359076), (1117, 0.0025900644680184235), (1118, 0.06555514114549138), (1119, 0.016340072145389153), (1120, 0.00411647715505451), (1121, 0.003388236950635136), (1122, 0.0027994074011609697), (1123, 0.007187516638338182), (1124, 0.010116923817787274), (1125, 0.007960718740151307), (1126, 0.0), (1127, 0.004890024759920749), (1128, 0.014212781210192135), (1129, 0.018836027290515048), (1130, 0.0), (1131, 0.0027148889376481756), (1132, 0.021161269924824422), (1133, 0.0), (1134, 0.06390649862971409), (1135, 0.0), (1136, 0.008308871072672856), (1137, 0.03036539268794916), (1138, 0.007605794737332767), (1139, 0.0), (1140, 0.008002742235962389), (1141, 0.023703490144119564), (1142, 0.0), (1143, 0.0), (1144, 0.007703348151387989), (1145, 0.0038336203778368116), (1146, 0.0364664646075088), (1147, 0.0), (1148, 0.053946879838716655), (1149, 0.0), (1150, 0.005286377761750779), (1151, 0.0), (1152, 0.015106909837180734), (1153, 0.003399371063239028), (1154, 0.004343717896359322), (1155, 0.0), (1156, 0.0), (1157, 0.012560195276743432), (1158, 0.005569088189115155), (1159, 0.0), (1160, 0.00992050532973181), (1161, 0.002759043228611484), (1162, 0.029685559032109534), (1163, 0.002662472365099743), (1164, 0.003941446028320219), (1165, 0.0), (1166, 0.0), (1167, 0.0054312244477733645), (1168, 0.0033185843646308987), (1169, 0.0031603096275185536), (1170, 0.0027094888160218546), (1171, 0.0), (1172, 0.006934499781888852), (1173, 0.03162388786724102), (1174, 0.007531111992539372), (1175, 0.019082546462175824), (1176, 0.002767730201931218), (1177, 0.007071179592755085), (1178, 0.0), (1179, 0.007672599125169235), (1180, 0.0), (1181, 0.004835512415794694), (1182, 0.010313181653424049), (1183, 0.014361222770671395), (1184, 0.017322709452602177), (1185, 0.013158456716070624), (1186, 0.026972731772030377), (1187, 0.003227142731069493), (1188, 0.008468376270427316), (1189, 0.0), (1190, 0.0), (1191, 0.007476175347196895), (1192, 0.01542603750175868), (1193, 0.0), (1194, 0.012513984373824404), (1195, 0.03627642908561489), (1196, 0.0), (1197, 0.004466467965219231), (1198, 0.0), (1199, 0.0023345928944428027), (1200, 0.0), (1201, 0.0), (1202, 0.019869938116216648), (1203, 0.045513026238276126), (1204, 0.002773079469669292), (1205, 0.0), (1206, 0.008895386184339197), (1207, 0.004609925096760414), (1208, 0.0035620146349862685), (1209, 0.0022526694761326577), (1210, 0.0035972948114511363), (1211, 0.004736486091518337), (1212, 0.0), (1213, 0.007256280302206635), (1214, 0.006272802709010517), (1215, 0.012291738089951975), (1216, 0.016979746732892872), (1217, 0.0023069311686762964), (1218, 0.0), (1219, 0.002435068671939551), (1220, 0.012978002098066491), (1221, 0.0), (1222, 0.0), (1223, 0.0076187784404049864), (1224, 0.01604993203966546), (1225, 0.008023231044259145), (1226, 0.01888965389588337), (1227, 0.0), (1228, 0.0), (1229, 0.007894599328102046), (1230, 0.011825726244953505), (1231, 0.00716542605940641), (1232, 0.016136534665737515), (1233, 0.0), (1234, 0.010848438061774806), (1235, 0.0), (1236, 0.011246553732656445), (1237, 0.013509224674895754), (1238, 0.006880988950377236), (1239, 0.013612160690901447), (1240, 0.0), (1241, 0.03955033072802411), (1242, 0.0), (1243, 0.058110246150312864), (1244, 0.0), (1245, 0.01833376554268808), (1246, 0.0), (1247, 0.0025992011281553125), (1248, 0.04624536267653864), (1249, 0.011935725719992596), (1250, 0.007075711799889113), (1251, 0.002343756181594788), (1252, 0.01524315482592378), (1253, 0.0), (1254, 0.017196875407703916), (1255, 0.01369157343203175), (1256, 0.0), (1257, 0.02135486086744599), (1258, 0.0), (1259, 0.011318655303657596), (1260, 0.00826158232878505), (1261, 0.021439823285180747), (1262, 0.011345792300262392), (1263, 0.0), (1264, 0.012484247662793317), (1265, 0.0), (1266, 0.012205103922103602), (1267, 0.006724277130977973), (1268, 0.0), (1269, 0.0), (1270, 0.022400363946959875), (1271, 0.0), (1272, 0.037316918736251904), (1273, 0.0025092428079371873), (1274, 0.01852792922811582), (1275, 0.01757157765881024), (1276, 0.00900371195192833), (1277, 0.002091407800585045), (1278, 0.015256500626493561), (1279, 0.009838234132453463), (1280, 0.005327199084295629), (1281, 0.00443179764866447), (1282, 0.008023323080606451), (1283, 0.024963609836076556), (1284, 0.002577741588924696), (1285, 0.0), (1286, 0.0026079332144672974), (1287, 0.0), (1288, 0.0), (1289, 0.0), (1290, 0.015403265167253386), (1291, 0.0), (1292, 0.04631041071103935), (1293, 0.013407279827574765), (1294, 0.0027831476720959055), (1295, 0.0), (1296, 0.0), (1297, 0.0), (1298, 0.002652446536698215), (1299, 0.0), (1300, 0.010421304000828698), (1301, 0.0023201908121777315), (1302, 0.04711755755270755), (1303, 0.011959692708330003), (1304, 0.0026373024376985348), (1305, 0.0021851054590688226), (1306, 0.006882610216465131), (1307, 0.0065522132171644265), (1308, 0.008666631486635979), (1309, 0.0041446413001955075), (1310, 0.012403131444990589), (1311, 0.03627655439114377), (1312, 0.008684545300985697), (1313, 0.0026514541382451334), (1314, 0.02777157109440167), (1315, 0.0), (1316, 0.006231346603779939), (1317, 0.014613751588974443), (1318, 0.0023514916516157746), (1319, 0.0026073567315784275), (1320, 0.0426026041146139), (1321, 0.0), (1322, 0.0), (1323, 0.0), (1324, 0.002898296428499454), (1325, 0.016650125325522167), (1326, 0.0), (1327, 0.006580420496152973), (1328, 0.0), (1329, 0.006996291261674408), (1330, 0.0073290304990890984), (1331, 0.014766642585040221), (1332, 0.005515673586565634), (1333, 0.0), (1334, 0.01041811803402531), (1335, 0.014863756280399343), (1336, 0.0), (1337, 0.015195296174755981), (1338, 0.010040212490136443), (1339, 0.010758392786963207), (1340, 0.0022572560157441235), (1341, 0.08111716711811959), (1342, 0.013253972553371284), (1343, 0.01512172490281731), (1344, 0.005999515084801709), (1345, 0.006803027486048636), (1346, 0.0), (1347, 0.004644021995032048), (1348, 0.010704183254246498), (1349, 0.003047788314349148), (1350, 0.0027792792316488433), (1351, 0.02631831917644157), (1352, 0.0022747486592224644), (1353, 0.0), (1354, 0.0), (1355, 0.0027290704602553812), (1356, 0.0062499258546967595), (1357, 0.002493648884514554), (1358, 0.04611758771852059), (1359, 0.010279728610270142), (1360, 0.014481060079863313), (1361, 0.01679432610349771), (1362, 0.023586988098601224), (1363, 0.030151293348842104), (1364, 0.002905658684199516), (1365, 0.018787490754916446), (1366, 0.002414482492585747), (1367, 0.03599133292713373), (1368, 0.0), (1369, 0.04456299565583309), (1370, 0.0022955192298361486), (1371, 0.008541322574974388), (1372, 0.0025235527399108046), (1373, 0.0), (1374, 0.0069229805084958206), (1375, 0.007105687423860436), (1376, 0.013020714126268316), (1377, 0.017495855115641605), (1378, 0.002693327923253335), (1379, 0.0365198498876469), (1380, 0.005168544983981879), (1381, 0.005607882106876469), (1382, 0.009939111577325898), (1383, 0.09154258478712948), (1384, 0.019930997608666866), (1385, 0.02127363993998776), (1386, 0.01982380313412527), (1387, 0.009028201062751873), (1388, 0.007670282453824059), (1389, 0.0363090789888299), (1390, 0.0), (1391, 0.005490773569849893), (1392, 0.002334484182072629), (1393, 0.04398599035125886), (1394, 0.0023669378158728024), (1395, 0.0038804629183380236), (1396, 0.012175118885793954), (1397, 0.0245129618207372), (1398, 0.03192530537235768), (1399, 0.0), (1400, 0.008058092565426802), (1401, 0.014840699936498171), (1402, 0.0028463693765920913), (1403, 0.01782672893163241), (1404, 0.0025513038156022723), (1405, 0.03032546342498925), (1406, 0.012262691392621466), (1407, 0.012749837321652096), (1408, 0.002609578790462084), (1409, 0.00296428661372297), (1410, 0.0027693741047294745), (1411, 0.0027568559098529464), (1412, 0.024820574526561067), (1413, 0.015542394032074342), (1414, 0.0067018296837779425), (1415, 0.0024793178758559966), (1416, 0.0026147447087140497), (1417, 0.016923489373068454), (1418, 0.010567020878797982), (1419, 0.012560343919979707), (1420, 0.011739056580592516), (1421, 0.007814138335865722), (1422, 0.002598808099356684), (1423, 0.002352838172808328), (1424, 0.0), (1425, 0.007019983157587067), (1426, 0.0051534151852185225), (1427, 0.002160585712001537), (1428, 0.004587968025192737), (1429, 0.009524533921821277), (1430, 0.004534404479864915), (1431, 0.005021980867141545), (1432, 0.012724285616452578), (1433, 0.006996033652972591), (1434, 0.0024178671414022733), (1435, 0.004987721566421471), (1436, 0.012986639886524608), (1437, 0.0), (1438, 0.010032743591983789), (1439, 0.0027961309275107973), (1440, 0.010519397380876176), (1441, 0.0), (1442, 0.01045498453750492), (1443, 0.01965612745901213), (1444, 0.0), (1445, 0.01701452000213296), (1446, 0.009304925947770474), (1447, 0.0), (1448, 0.006986265634967197), (1449, 0.0052422797004350544), (1450, 0.0022859207385057304), (1451, 0.0046398032517373155), (1452, 0.005120592204461681), (1453, 0.005518269622033923), (1454, 0.008185437103771703), (1455, 0.012206508196369672), (1456, 0.0024851763494216175), (1457, 0.0), (1458, 0.004056090472517851), (1459, 0.0), (1460, 0.0), (1461, 0.014740977708964773), (1462, 0.006959741630111905), (1463, 0.0026057915407835123), (1464, 0.03441629153762362), (1465, 0.014195798675425815), (1466, 0.0), (1467, 0.0), (1468, 0.0), (1469, 0.005025976407383226), (1470, 0.0), (1471, 0.021094822165224493), (1472, 0.007667846456232694), (1473, 0.0), (1474, 0.0030292309519656803), (1475, 0.009903965987121923), (1476, 0.0026964212376481976), (1477, 0.008809934695085272), (1478, 0.014454145743493931), (1479, 0.00299392988079671), (1480, 0.00455386166306129), (1481, 0.014559931017505242), (1482, 0.0), (1483, 0.014965631734320882), (1484, 0.007904643134710215), (1485, 0.0), (1486, 0.007703909818035006), (1487, 0.0), (1488, 0.00741152084792993), (1489, 0.008580858058522529), (1490, 0.0), (1491, 0.0), (1492, 0.023175858782606418), (1493, 0.018281232182485747), (1494, 0.010355554745714219), (1495, 0.0), (1496, 0.0), (1497, 0.0030979167665171237), (1498, 0.008691233648753082), (1499, 0.0030434606348164507), (1500, 0.028832971820235392), (1501, 0.006960960031809576), (1502, 0.005274068817464244), (1503, 0.0025113901570765155), (1504, 0.007287978210549856), (1505, 0.02329645736388349), (1506, 0.04395859342344712), (1507, 0.008717920463460848), (1508, 0.0), (1509, 0.014804644524853548), (1510, 0.02140638859320264), (1511, 0.0), (1512, 0.016363011303079152), (1513, 0.010750469234525991), (1514, 0.009002878218155012), (1515, 0.023417305518046615), (1516, 0.0027335533545504685), (1517, 0.0), (1518, 0.002962970291573547), (1519, 0.013821881719333153), (1520, 0.0), (1521, 0.0), (1522, 0.0), (1523, 0.016542396935197337), (1524, 0.0), (1525, 0.0), (1526, 0.007295144289100344), (1527, 0.04157137511802351), (1528, 0.0024444351217930574), (1529, 0.0), (1530, 0.003985050042244501), (1531, 0.005263440824382304), (1532, 0.0), (1533, 0.0027597043523976813), (1534, 0.0), (1535, 0.0), (1536, 0.007782290108049711), (1537, 0.00813400091691032), (1538, 0.008689032769584477), (1539, 0.008553180960610614), (1540, 0.008980287279560819), (1541, 0.0), (1542, 0.012651938682085868), (1543, 0.002471645500758605), (1544, 0.025638813444051188), (1545, 0.0), (1546, 0.004208466402253064), (1547, 0.003260160340848611), (1548, 0.0), (1549, 0.0), (1550, 0.002611541386074565), (1551, 0.011477644682093648), (1552, 0.006551224918158662), (1553, 0.008404580139228263), (1554, 0.005333903734712771), (1555, 0.006928558802782242), (1556, 0.0), (1557, 0.0), (1558, 0.002518721621489876), (1559, 0.004216839099781918), (1560, 0.0), (1561, 0.0), (1562, 0.004485180843252545), (1563, 0.0), (1564, 0.0), (1565, 0.0025110574842429276), (1566, 0.004884612591771479), (1567, 0.014362396342806161), (1568, 0.035960454275774725), (1569, 0.0), (1570, 0.0027896512064601218), (1571, 0.007960181692126925), (1572, 0.027426925462313345), (1573, 0.0048271583605831725), (1574, 0.0026909582476442205), (1575, 0.0053888512678265995), (1576, 0.003925171408262099), (1577, 0.0), (1578, 0.0), (1579, 0.01831475032939249), (1580, 0.0031024709410522136), (1581, 0.0), (1582, 0.009782943023443005), (1583, 0.007564077902864849), (1584, 0.0), (1585, 0.02466465242404604), (1586, 0.0), (1587, 0.004927591156289484), (1588, 0.005045364354024068), (1589, 0.0), (1590, 0.004226818162412877), (1591, 0.014148688275543657), (1592, 0.0), (1593, 0.00330149735854884), (1594, 0.00308085482321729), (1595, 0.014446985773738551), (1596, 0.0), (1597, 0.0026065651487765487), (1598, 0.0026985961175806455), (1599, 0.0), (1600, 0.0), (1601, 0.0), (1602, 0.0), (1603, 0.0), (1604, 0.0), (1605, 0.0023942478645335866), (1606, 0.0), (1607, 0.0), (1608, 0.006636129103431141), (1609, 0.01760935238004992), (1610, 0.0), (1611, 0.0), (1612, 0.009733283613352297), (1613, 0.0), (1614, 0.005367168057768999), (1615, 0.0), (1616, 0.0023385013423197214), (1617, 0.0026716053571676232), (1618, 0.0), (1619, 0.010212915721445096), (1620, 0.009529498128013332), (1621, 0.014742136676909167), (1622, 0.004915638571485967), (1623, 0.00452492070375418), (1624, 0.0021504446224033945), (1625, 0.0024510218821177476), (1626, 0.0), (1627, 0.0066413909989696), (1628, 0.0027699345968814977), (1629, 0.022426951848696905), (1630, 0.011579663785587314), (1631, 0.00471014362408993), (1632, 0.004720586408487113), (1633, 0.004567464144384981), (1634, 0.0026746361043729493), (1635, 0.004786614106537068), (1636, 0.0), (1637, 0.0028771929077464477), (1638, 0.0), (1639, 0.0), (1640, 0.0), (1641, 0.002581010229974775), (1642, 0.002462767051507224), (1643, 0.008282599172013193), (1644, 0.007183910448350897), (1645, 0.0025457844929546287), (1646, 0.0), (1647, 0.0995036752406058), (1648, 0.03340861219408918), (1649, 0.0), (1650, 0.008773796578510976), (1651, 0.0), (1652, 0.024321681167142235), (1653, 0.00736480525046695), (1654, 0.013233387387618633), (1655, 0.011756118115846922), (1656, 0.003088622627555402), (1657, 0.02326308293485873), (1658, 0.011044422636714749), (1659, 0.0052249266797244195), (1660, 0.0027744221944547877), (1661, 0.005883884248845213), (1662, 0.010862969301231873), (1663, 0.0026654091676281584), (1664, 0.0065407730857279175), (1665, 0.013908671402608128), (1666, 0.0026306095403617466), (1667, 0.013805141239463787), (1668, 0.0), (1669, 0.0), (1670, 0.002773014866965975), (1671, 0.02211526793708851), (1672, 0.002480942927633302), (1673, 0.0), (1674, 0.008895586976854912), (1675, 0.04408708703903948), (1676, 0.03818657883938868), (1677, 0.002069347861081811), (1678, 0.021991651349687384), (1679, 0.0), (1680, 0.013778689734251259), (1681, 0.013805617465884662), (1682, 0.015415586559128764), (1683, 0.002862609498800831), (1684, 0.006121717782230738), (1685, 0.010180003668113155), (1686, 0.0), (1687, 0.01596993415392254), (1688, 0.009787593595012963), (1689, 0.0), (1690, 0.00876455047145517), (1691, 0.0022799657104452644), (1692, 0.006923167094137023), (1693, 0.002501748711678864), (1694, 0.011000153102615904), (1695, 0.0055623243571762265), (1696, 0.011398774459844848), (1697, 0.0), (1698, 0.0), (1699, 0.004221412420207025), (1700, 0.0), (1701, 0.009155324323070934), (1702, 0.0), (1703, 0.0027616722487423667), (1704, 0.0), (1705, 0.008049274719653086), (1706, 0.002679505553783425), (1707, 0.022995235313530402), (1708, 0.010492281380880241), (1709, 0.0), (1710, 0.009010976484436963), (1711, 0.0034626155096487924), (1712, 0.011600384383183724), (1713, 0.014356560554425583), (1714, 0.012855814966152764), (1715, 0.0062790449847759605), (1716, 0.017260100984540637), (1717, 0.0028003875091436752), (1718, 0.007433056660471344), (1719, 0.0023766278988121337), (1720, 0.029191589353576897), (1721, 0.028012971063078863), (1722, 0.002723618448485473), (1723, 0.011085676786903767), (1724, 0.005235656744843807), (1725, 0.0), (1726, 0.0), (1727, 0.01065377470623579), (1728, 0.0), (1729, 0.0), (1730, 0.00882522845342387), (1731, 0.0), (1732, 0.005425440063222348), (1733, 0.0028900505851655995), (1734, 0.0), (1735, 0.007945644506056964), (1736, 0.010932933922203295), (1737, 0.007399650738408077), (1738, 0.007019113204528139), (1739, 0.01341907647062604), (1740, 0.015294172109395474), (1741, 0.016228193091276166), (1742, 0.002602444238214219), (1743, 0.008086853339990227), (1744, 0.002560891616246755), (1745, 0.0), (1746, 0.006544490514566097), (1747, 0.0074622354229238914), (1748, 0.0032325933859938924), (1749, 0.028448409511227603), (1750, 0.032504354109636174), (1751, 0.0), (1752, 0.013205520436552612), (1753, 0.004308614456081641), (1754, 0.011168109773546365), (1755, 0.0), (1756, 0.0), (1757, 0.024684003392568852), (1758, 0.0), (1759, 0.017985019393292796), (1760, 0.006958301549614071), (1761, 0.01222961372520059), (1762, 0.008432923203776331), (1763, 0.027402201494469744), (1764, 0.008855741804469483), (1765, 0.0028273539548731336), (1766, 0.0), (1767, 0.0), (1768, 0.0027861152027375), (1769, 0.0), (1770, 0.007547165668632224), (1771, 0.0), (1772, 0.004431919492745932), (1773, 0.01157922502267993), (1774, 0.016520532213973496), (1775, 0.0), (1776, 0.008903541320627996), (1777, 0.0), (1778, 0.0), (1779, 0.015611825561184404), (1780, 0.001727190733412317), (1781, 0.01036673962649324), (1782, 0.0024531263623986995), (1783, 0.0), (1784, 0.004419119072020616), (1785, 0.0), (1786, 0.0), (1787, 0.013221096700727845), (1788, 0.03056261517920356), (1789, 0.01136375415236791), (1790, 0.008528009385165805), (1791, 0.0051212659185539055), (1792, 0.0031746639727508984), (1793, 0.009076472241412706), (1794, 0.0), (1795, 0.031141361120471465), (1796, 0.013671719551320769), (1797, 0.006597123559023883), (1798, 0.010638041135009092), (1799, 0.01309524499400707), (1800, 0.0), (1801, 0.002228515133731856), (1802, 0.013572202583359826), (1803, 0.0), (1804, 0.0), (1805, 0.0029776166308934826), (1806, 0.00828820319256811), (1807, 0.009506155409475017), (1808, 0.002373712410333643), (1809, 0.056770832719087616), (1810, 0.0), (1811, 0.0073876705268427914), (1812, 0.012931311118564444), (1813, 0.0026541644637591323), (1814, 0.002468485088837883), (1815, 0.014838692011882102), (1816, 0.006706963861375623), (1817, 0.022467426429121043), (1818, 0.0065327607762714545), (1819, 0.007148445130993889), (1820, 0.0), (1821, 0.04651883443719055), (1822, 0.002916786951693628), (1823, 0.0), (1824, 0.0), (1825, 0.0), (1826, 0.0024508978187753466), (1827, 0.0024376333458711844), (1828, 0.002294230420843381), (1829, 0.005418042349950791), (1830, 0.0023982188113774085), (1831, 0.002692618613905189), (1832, 0.01305538606700309), (1833, 0.008200841486202853), (1834, 0.0), (1835, 0.0), (1836, 0.0), (1837, 0.0), (1838, 0.02103923882084433), (1839, 0.0), (1840, 0.00440596640421761), (1841, 0.00727333393925401), (1842, 0.0), (1843, 0.019269086830771002), (1844, 0.0), (1845, 0.02884515361468526), (1846, 0.0046761122095320615), (1847, 0.028453748864352202), (1848, 0.002931708658958444), (1849, 0.006811004071518766), (1850, 0.04357900069660235), (1851, 0.002827928911073512), (1852, 0.011563424212863884), (1853, 0.016159247018382547), (1854, 0.009684596538165693), (1855, 0.0), (1856, 0.0), (1857, 0.004839174390347995), (1858, 0.011660584962918117), (1859, 0.005192688249572626), (1860, 0.009938164829788494), (1861, 0.022658254114756658), (1862, 0.002979356792611611), (1863, 0.0061364078662283685), (1864, 0.013934981095049835), (1865, 0.024555523831812275), (1866, 0.008388929206080132), (1867, 0.007017801850931538), (1868, 0.03207077730996471), (1869, 0.0024197894025986856), (1870, 0.012378793165061639), (1871, 0.04322560732813305), (1872, 0.01980654531738272), (1873, 0.011886648599435622), (1874, 0.010956092734690032), (1875, 0.008867683571074775), (1876, 0.014396878085439742), (1877, 0.0025880812269876495), (1878, 0.017941230909804), (1879, 0.0), (1880, 0.01605902824680894), (1881, 0.005138218530398332), (1882, 0.002575413921759234), (1883, 0.0), (1884, 0.0025164061205687907), (1885, 0.03636112910697628), (1886, 0.06715693917496049), (1887, 0.003030262178195377), (1888, 0.0), (1889, 0.0), (1890, 0.0030084462414108975), (1891, 0.0026711838666670243), (1892, 0.007088857785360776), (1893, 0.002854817135891596), (1894, 0.0), (1895, 0.015375316471265927), (1896, 0.0029187616365781844), (1897, 0.015921091443009662), (1898, 0.0), (1899, 0.0), (1900, 0.009453255328763049), (1901, 0.004961551221846552), (1902, 0.007897519119567938), (1903, 0.006449299259115134), (1904, 0.005187413892709613), (1905, 0.002922875318004928), (1906, 0.016350471961392377), (1907, 0.0029510377580378925), (1908, 0.007173514309763241), (1909, 0.0030319444827476244), (1910, 0.004165151775220452), (1911, 0.007189096213070856), (1912, 0.0), (1913, 0.006789211831626544), (1914, 0.0046151101332925154), (1915, 0.0), (1916, 0.0028007217068776904), (1917, 0.0), (1918, 0.007960743284561866), (1919, 0.015206785962803369), (1920, 0.008787638739695881), (1921, 0.0024199179485399664), (1922, 0.010137708823998509), (1923, 0.011317115176129931), (1924, 0.008674262237962799), (1925, 0.004202279023986064), (1926, 0.0), (1927, 0.020915901599844536), (1928, 0.0), (1929, 0.002565987555578612), (1930, 0.004931053160592313), (1931, 0.007802901146277155), (1932, 0.0), (1933, 0.005030133580027659), (1934, 0.012727783139672806), (1935, 0.025367718728908355), (1936, 0.009793049379513787), (1937, 0.01939814321953163), (1938, 0.0), (1939, 0.0066779443340418436), (1940, 0.00573390837005042), (1941, 0.005853197274569242), (1942, 0.022265405146106865), (1943, 0.0023033962990169016), (1944, 0.0), (1945, 0.014723044620995253), (1946, 0.0027811673836556786), (1947, 0.0031775718921386266), (1948, 0.00943573525656982), (1949, 0.012947716329913064), (1950, 0.007806652030643886), (1951, 0.010362662232312284), (1952, 0.005334857786249378), (1953, 0.004812716966133221), (1954, 0.0023756573816348416), (1955, 0.0), (1956, 0.0), (1957, 0.011570747497454986), (1958, 0.012690958343929774), (1959, 0.0029803513674290095), (1960, 0.008564578395436152), (1961, 0.0), (1962, 0.005511408017424396), (1963, 0.0), (1964, 0.006704804613406767), (1965, 0.0), (1966, 0.0), (1967, 0.014444475389642303), (1968, 0.008934519674893272), (1969, 0.002543495969709045), (1970, 0.02921753332686175), (1971, 0.00851398835484498), (1972, 0.0), (1973, 0.007051204224595788), (1974, 0.0), (1975, 0.005208210509852992), (1976, 0.03355967283750174), (1977, 0.07968516653104613), (1978, 0.0), (1979, 0.0), (1980, 0.002378210904364889), (1981, 0.006238370902445789), (1982, 0.07759822735858993), (1983, 0.015888753566060097), (1984, 0.0), (1985, 0.022014049470547782), (1986, 0.014201038892102192), (1987, 0.006902298680885883), (1988, 0.013174323332609698), (1989, 0.011916620543728136), (1990, 0.030227568874069854), (1991, 0.03981982266073059), (1992, 0.011411789576927626), (1993, 0.004992430369248755), (1994, 0.08722724139356541), (1995, 0.0029133235723906867), (1996, 0.02323165257405081), (1997, 0.024348279173501543), (1998, 0.005091331632483684), (1999, 0.028711170458422548), (2000, 0.013330047636292298), (2001, 0.0), (2002, 0.0), (2003, 0.0), (2004, 0.002543908715939348), (2005, 0.012415762051089744), (2006, 0.0), (2007, 0.0), (2008, 0.01411172400241504), (2009, 0.0), (2010, 0.002152604839506645), (2011, 0.02650986008691479), (2012, 0.005628383769239132), (2013, 0.029370632792762898), (2014, 0.03162882846293175), (2015, 0.0050366811664101785), (2016, 0.010541273138378986), (2017, 0.0), (2018, 0.021909430088113174), (2019, 0.0), (2020, 0.027415481649407356), (2021, 0.0), (2022, 0.005490860093488599), (2023, 0.03245621994272091), (2024, 0.014514133770626315), (2025, 0.0), (2026, 0.05550488714542792), (2027, 0.01589455306245938), (2028, 0.0), (2029, 0.00987996345914463), (2030, 0.0), (2031, 0.00686527919632676), (2032, 0.0), (2033, 0.0), (2034, 0.00224529381128484), (2035, 0.018732950884802497), (2036, 0.0), (2037, 0.03208065617331832), (2038, 0.0), (2039, 0.0022216037795833392), (2040, 0.02423361786171478), (2041, 0.0), (2042, 0.0), (2043, 0.0), (2044, 0.005185423748278423), (2045, 0.014464309054547222), (2046, 0.0), (2047, 0.0023386885333878697), (2048, 0.002791602310326736), (2049, 0.01098911645995775), (2050, 0.0), (2051, 0.011101662594123034), (2052, 0.013891963353530568), (2053, 0.01608003973941592), (2054, 0.0), (2055, 0.02161600007331046), (2056, 0.00657657975367895), (2057, 0.011997129046101812), (2058, 0.006288505661424564), (2059, 0.0), (2060, 0.002632703374304516), (2061, 0.007659393201633559), (2062, 0.011592663054665168), (2063, 0.0), (2064, 0.005072147500648375), (2065, 0.009037403011450444), (2066, 0.013890233936551031), (2067, 0.002694083596922017), (2068, 0.0027646570941001884), (2069, 0.007415349351042365), (2070, 0.018862551680266255), (2071, 0.0), (2072, 0.0029042210718115474), (2073, 0.0027368173672789042), (2074, 0.010519711385506742), (2075, 0.01000906565279142), (2076, 0.008676171117532912), (2077, 0.009764603441021796), (2078, 0.0038230772686426136), (2079, 0.0), (2080, 0.010102694536566054), (2081, 0.0), (2082, 0.035450401688725874), (2083, 0.002769849607822819), (2084, 0.005310163393698102), (2085, 0.0), (2086, 0.0), (2087, 0.009336794882855673), (2088, 0.007847191284962488), (2089, 0.009008466886336759), (2090, 0.0), (2091, 0.007563715157120086), (2092, 0.0), (2093, 0.018781171104901368), (2094, 0.026870036120039766), (2095, 0.006758920694500283), (2096, 0.025260699430304318), (2097, 0.01120446394023582), (2098, 0.006513958671444449), (2099, 0.0024986741842591143), (2100, 0.0), (2101, 0.00767870264723552), (2102, 0.03050467676664399), (2103, 0.00938131397037816), (2104, 0.008226082731216538), (2105, 0.0028900705388311024), (2106, 0.0), (2107, 0.0), (2108, 0.0032843575329641736), (2109, 0.00974844117699894), (2110, 0.018523621328645604), (2111, 0.0026026039939722385), (2112, 0.0670341713694599), (2113, 0.006423240362710388), (2114, 0.03106377768596248), (2115, 0.0), (2116, 0.011315654540760386), (2117, 0.0026298892844285604), (2118, 0.0), (2119, 0.01904078991393383), (2120, 0.0), (2121, 0.013728887619139391), (2122, 0.03550413004422954), (2123, 0.03621582633799454), (2124, 0.0), (2125, 0.0), (2126, 0.010958981362200242), (2127, 0.002211262525371803), (2128, 0.0), (2129, 0.0024763984120273717), (2130, 0.004935523470665495), (2131, 0.002529118694717336), (2132, 0.0022127978110153884), (2133, 0.05341955503718297), (2134, 0.002992257871875742), (2135, 0.0), (2136, 0.00536538800771171), (2137, 0.0038909451535253017), (2138, 0.0), (2139, 0.004571588604484444), (2140, 0.0), (2141, 0.0028437409073060363), (2142, 0.003159761165318861), (2143, 0.009162126609705895), (2144, 0.010166916395273076), (2145, 0.012909010018110265), (2146, 0.00244838948733633), (2147, 0.033990846857105454), (2148, 0.0027849464692023354), (2149, 0.017797058740717436), (2150, 0.0), (2151, 0.04773358012909177), (2152, 0.0), (2153, 0.0), (2154, 0.02835489174856332), (2155, 0.04279096645926061), (2156, 0.0061386864894308335), (2157, 0.025455531797907115), (2158, 0.00878679182499644), (2159, 0.0029280147558574518), (2160, 0.006747172902000669), (2161, 0.017366347117232384), (2162, 0.011635727358735182), (2163, 0.002570567671258344), (2164, 0.0), (2165, 0.0), (2166, 0.002519644013453256), (2167, 0.019190027792765338), (2168, 0.0), (2169, 0.002791697678390357), (2170, 0.0), (2171, 0.0), (2172, 0.0), (2173, 0.0026698300199916552), (2174, 0.021997073914225417), (2175, 0.00637280947682853), (2176, 0.003004148147940414), (2177, 0.013676654879892638), (2178, 0.012164950925082787), (2179, 0.0), (2180, 0.0), (2181, 0.005519677404346968), (2182, 0.0), (2183, 0.0), (2184, 0.007076789895320067), (2185, 0.006159643004931308), (2186, 0.0), (2187, 0.04026667334324364), (2188, 0.009341298558978126), (2189, 0.004047870950183861), (2190, 0.0029932991516985223), (2191, 0.05412245155647355), (2192, 0.0027702366327281495), (2193, 0.009759567250259546), (2194, 0.0), (2195, 0.0026707144242323648), (2196, 0.01596943783894268), (2197, 0.009843959280728315), (2198, 0.032600956928981524), (2199, 0.003620334485938054), (2200, 0.0), (2201, 0.002494047810520738), (2202, 0.006555335124344493), (2203, 0.006494486753156091), (2204, 0.0), (2205, 0.006568165961577601), (2206, 0.011913081475920451), (2207, 0.019526197789636077), (2208, 0.005335927531865267), (2209, 0.011017991218119501), (2210, 0.023098780555808305), (2211, 0.008146898389195432), (2212, 0.03900798543366601), (2213, 0.0025199603594346447), (2214, 0.051871430669248035), (2215, 0.0), (2216, 0.014872333069385962), (2217, 0.0), (2218, 0.0), (2219, 0.0), (2220, 0.0), (2221, 0.029670720155306293), (2222, 0.0), (2223, 0.003139267195825155), (2224, 0.014333160992268184), (2225, 0.0), (2226, 0.0026358123475155593), (2227, 0.0), (2228, 0.009792908413026933), (2229, 0.017490253853152924), (2230, 0.0029336426343801294), (2231, 0.0053820940979558175), (2232, 0.0047250581267894885), (2233, 0.0), (2234, 0.0), (2235, 0.013018926746146438), (2236, 0.008608597941050858), (2237, 0.019526136053126742), (2238, 0.0), (2239, 0.006874014507135281), (2240, 0.0023588425902597086), (2241, 0.0), (2242, 0.002636106483002412), (2243, 0.0), (2244, 0.00779058389475442), (2245, 0.0046760672387144205), (2246, 0.004932733757654824), (2247, 0.0), (2248, 0.04957016681988914), (2249, 0.0), (2250, 0.010223279092801884), (2251, 0.0037813374851994757), (2252, 0.013248122744891795), (2253, 0.0), (2254, 0.01667026357287405), (2255, 0.010373702642704038), (2256, 0.0), (2257, 0.003658031186430261), (2258, 0.017922860991974092), (2259, 0.0), (2260, 0.002957462453883573), (2261, 0.0), (2262, 0.0), (2263, 0.0), (2264, 0.008885144614526264), (2265, 0.009189133089780062), (2266, 0.003440730549738228), (2267, 0.0), (2268, 0.002634425211211829), (2269, 0.0030932300307639393), (2270, 0.002289772850602353), (2271, 0.0), (2272, 0.0), (2273, 0.005882279473801883), (2274, 0.0), (2275, 0.01699245123818418), (2276, 0.027562282511030777), (2277, 0.009815390821747837), (2278, 0.005038407956171075), (2279, 0.009987487975134327), (2280, 0.012061085760179833), (2281, 0.0), (2282, 0.0), (2283, 0.0052552599548919415), (2284, 0.014989889978023242), (2285, 0.008552745061975026), (2286, 0.0036756995865978234), (2287, 0.0021926117601344464), (2288, 0.002950263150199983), (2289, 0.0027891179881145483), (2290, 0.01727479688688186), (2291, 0.006033364498379897), (2292, 0.002852856800179568), (2293, 0.0029898021606955412), (2294, 0.05251031510567413), (2295, 0.01638100317966998), (2296, 0.0), (2297, 0.0), (2298, 0.016011389167054656), (2299, 0.004462332445222304), (2300, 0.0), (2301, 0.021457573050328586), (2302, 0.003120550893829662), (2303, 0.009874777298984843), (2304, 0.008478203947216366), (2305, 0.0), (2306, 0.012501064086224842), (2307, 0.0), (2308, 0.04015214632743371), (2309, 0.009165189181368844), (2310, 0.0036769346960329875), (2311, 0.0), (2312, 0.0), (2313, 0.0026965901076374164), (2314, 0.005358610305083723), (2315, 0.0), (2316, 0.03902855723151007), (2317, 0.0027012726405377255), (2318, 0.06224633646528957), (2319, 0.002789011580785065), (2320, 0.003276993863631878), (2321, 0.04320786333958419), (2322, 0.0), (2323, 0.002424428756598448), (2324, 0.007277522651818792), (2325, 0.0), (2326, 0.0043128465040703475), (2327, 0.0), (2328, 0.006395819925298624), (2329, 0.0), (2330, 0.005094909709490137), (2331, 0.0), (2332, 0.0), (2333, 0.0), (2334, 0.01589078515409734), (2335, 0.007148867690083087), (2336, 0.01211986099671818), (2337, 0.0), (2338, 0.002405139571803802), (2339, 0.00794500664695373), (2340, 0.0027231738629427105), (2341, 0.0), (2342, 0.0), (2343, 0.0), (2344, 0.00788711788463208), (2345, 0.0), (2346, 0.011622079459527064), (2347, 0.017223920790510924), (2348, 0.00825989334605952), (2349, 0.003948964078985705), (2350, 0.003503670353091073), (2351, 0.0), (2352, 0.0), (2353, 0.016727975043683438), (2354, 0.002672429053156846), (2355, 0.006904147573618196), (2356, 0.003138654703033463), (2357, 0.0), (2358, 0.0), (2359, 0.0022294084300313963), (2360, 0.0), (2361, 0.0028283219097589196), (2362, 0.020870027769328413), (2363, 0.00972193170697694), (2364, 0.0), (2365, 0.03788867136704277), (2366, 0.014427397188030678), (2367, 0.0025378403120971836), (2368, 0.020654309454717894), (2369, 0.0), (2370, 0.002769487634803946), (2371, 0.0), (2372, 0.0), (2373, 0.0), (2374, 0.05023286410088901), (2375, 0.03862749161110206), (2376, 0.016067955203046342), (2377, 0.0), (2378, 0.0030905091700494515), (2379, 0.003942024535876471), (2380, 0.0), (2381, 0.0), (2382, 0.002265443444678523), (2383, 0.014247593352930027), (2384, 0.0), (2385, 0.002826691620787042), (2386, 0.00296386820050613), (2387, 0.002690465508559524), (2388, 0.007025350332464223), (2389, 0.0), (2390, 0.0029791861969639135), (2391, 0.0029845222748094593), (2392, 0.0038947272415875527), (2393, 0.0028847774930521207), (2394, 0.0029091455586262188), (2395, 0.0), (2396, 0.0027285490283368774), (2397, 0.002661390204646283), (2398, 0.0), (2399, 0.0025407020827719648), (2400, 0.0031564005643129386), (2401, 0.002719543114202406), (2402, 0.002897959657468405), (2403, 0.011519275764226396), (2404, 0.003914698421620491), (2405, 0.0028488212803420006), (2406, 0.01767690751541661), (2407, 0.0038042744638481034), (2408, 0.0), (2409, 0.0), (2410, 0.0030156469580335265), (2411, 0.0030726123618580107), (2412, 0.01292811317371688), (2413, 0.03454644925972651), (2414, 0.0), (2415, 0.00361664056145959), (2416, 0.0026371416957310656), (2417, 0.011413053847213101), (2418, 0.010285644158067967), (2419, 0.0027891642136175596), (2420, 0.0), (2421, 0.012069266367046746), (2422, 0.0026355538481760365), (2423, 0.003430700245995905), (2424, 0.006891959997743799), (2425, 0.003564682794833399), (2426, 0.006386753346501176), (2427, 0.008843750437783923), (2428, 0.008547093233889452), (2429, 0.011262998586960615), (2430, 0.0027021234977383226), (2431, 0.0), (2432, 0.004711295785176578), (2433, 0.0), (2434, 0.003208890226129973), (2435, 0.0), (2436, 0.010863120328884123), (2437, 0.0032577744779170286), (2438, 0.0034432994974402985), (2439, 0.005641161959786418), (2440, 0.022853093534545267), (2441, 0.002238951804032435), (2442, 0.0046041090005872485), (2443, 0.030697271256942743), (2444, 0.007795981093150482), (2445, 0.0), (2446, 0.002510519702799327), (2447, 0.012836220091316847), (2448, 0.003463101459165087), (2449, 0.025776479290535604), (2450, 0.0), (2451, 0.0), (2452, 0.0), (2453, 0.0024744194278288577), (2454, 0.0033244500678974134), (2455, 0.0), (2456, 0.0), (2457, 0.0024578150687849837), (2458, 0.0), (2459, 0.009448366332439641), (2460, 0.015185189020802395), (2461, 0.002607922083153553), (2462, 0.0), (2463, 0.009402142775569859), (2464, 0.012372596918873532), (2465, 0.0), (2466, 0.002757720103100995), (2467, 0.02896311342959658), (2468, 0.016159795967323965), (2469, 0.019851321565515993), (2470, 0.0), (2471, 0.0), (2472, 0.0), (2473, 0.009229197140424047), (2474, 0.012943538785392193), (2475, 0.002973204451556921), (2476, 0.005616834395578317), (2477, 0.008304327228420803), (2478, 0.003136318132821547), (2479, 0.0), (2480, 0.011651459805632779), (2481, 0.030184226227475488), (2482, 0.0024801646012010347), (2483, 0.0), (2484, 0.027554842292087815), (2485, 0.0), (2486, 0.014320468084803296), (2487, 0.0297795192973436), (2488, 0.0034032667174920973), (2489, 0.010337676425643497), (2490, 0.003891701091153529), (2491, 0.0), (2492, 0.0026960749244013343), (2493, 0.0), (2494, 0.010442494142155805), (2495, 0.002720065705551029), (2496, 0.007158684162991557), (2497, 0.0), (2498, 0.0), (2499, 0.0), (2500, 0.0), (2501, 0.021729165843464557), (2502, 0.0023526787235793305), (2503, 0.006995479358418252), (2504, 0.0), (2505, 0.011023820021169183), (2506, 0.005515024333324301), (2507, 0.0029194698732888293), (2508, 0.0), (2509, 0.0022798776453103425), (2510, 0.00798370775183017), (2511, 0.0), (2512, 0.01009992881410245), (2513, 0.01922133719566714), (2514, 0.0), (2515, 0.0), (2516, 0.0), (2517, 0.034124756754201124), (2518, 0.0), (2519, 0.007797208698248771), (2520, 0.002318190976626653), (2521, 0.0), (2522, 0.016085370958077702), (2523, 0.0), (2524, 0.020966657579081498), (2525, 0.0024942934199218367), (2526, 0.0021965678414264432), (2527, 0.00232991967484915), (2528, 0.0024926781588968275), (2529, 0.00404246408275744), (2530, 0.00350964966872345), (2531, 0.002844843081332024), (2532, 0.0), (2533, 0.002915897643373492), (2534, 0.0011621824517870473), (2535, 0.003282622725133521), (2536, 0.0), (2537, 0.0037936893295579008), (2538, 0.07060881234512183), (2539, 0.0), (2540, 0.039530523874720974), (2541, 0.004083725905078281), (2542, 0.0), (2543, 0.0), (2544, 0.0032802132134383093), (2545, 0.010687890798981841), (2546, 0.01080050453990115), (2547, 0.0), (2548, 0.0), (2549, 0.0), (2550, 0.050187465596476744), (2551, 0.0), (2552, 0.0024826417322703397), (2553, 0.018615393272908624), (2554, 0.0027450223365546407), (2555, 0.011840036168687503), (2556, 0.002643294739221239), (2557, 0.003331319644422102), (2558, 0.08758690601676822), (2559, 0.0037873474729200355), (2560, 0.025129597485833727), (2561, 0.0030444943319389447), (2562, 0.0), (2563, 0.007931976441458963), (2564, 0.0), (2565, 0.010105149801985656), (2566, 0.0), (2567, 0.005844552092001534), (2568, 0.013635078398656441), (2569, 0.0026687959915892433), (2570, 0.0033276880606016783), (2571, 0.002565445314198719), (2572, 0.009199489194053542), (2573, 0.003927105870529544), (2574, 0.0), (2575, 0.0), (2576, 0.00577780624332846), (2577, 0.0), (2578, 0.0), (2579, 0.052030540880709165), (2580, 0.0067274398895874575), (2581, 0.009551965524204113), (2582, 0.0209159767275463), (2583, 0.0), (2584, 0.0), (2585, 0.003100321756299267), (2586, 0.0), (2587, 0.008457887557049033), (2588, 0.0), (2589, 0.0), (2590, 0.0), (2591, 0.002397110489122722), (2592, 0.002954071565326164), (2593, 0.0025363966520785984), (2594, 0.0), (2595, 0.00289810077072984), (2596, 0.0), (2597, 0.0), (2598, 0.022498333485115242), (2599, 0.005199764456953336), (2600, 0.010222273727789919), (2601, 0.01049661487542784), (2602, 0.01285927668502102), (2603, 0.007993374043724768), (2604, 0.0), (2605, 0.0), (2606, 0.007581637747437024), (2607, 0.019364560145703237), (2608, 0.0), (2609, 0.002857505385600005), (2610, 0.0028254617075026615), (2611, 0.002454926027597615), (2612, 0.002669033550624422), (2613, 0.0031781232303538113), (2614, 0.006199756859781824), (2615, 0.0), (2616, 0.0), (2617, 0.013298938091208653), (2618, 0.020142382650579316), (2619, 0.003318322070919433), (2620, 0.0), (2621, 0.03244584340147395), (2622, 0.03881761277012938), (2623, 0.0030622539694940857), (2624, 0.003012818519098994), (2625, 0.012429703047209608), (2626, 0.005426674444153981), (2627, 0.0), (2628, 0.0037492170323823143), (2629, 0.0031164951410743596), (2630, 0.053170277210815665), (2631, 0.0), (2632, 0.01431640503311862), (2633, 0.011188881999666679), (2634, 0.0025408098847300403), (2635, 0.008952869021522095), (2636, 0.0019658337886034887), (2637, 0.0), (2638, 0.025296946107150105), (2639, 0.015890905889548126), (2640, 0.009935416508403551), (2641, 0.0), (2642, 0.0025772981825575463), (2643, 0.0035094030328953743), (2644, 0.015636532109440385), (2645, 0.020750543444103847), (2646, 0.022857824273470027), (2647, 0.024109416519683964), (2648, 0.0), (2649, 0.02497612157547651), (2650, 0.01967327089480856), (2651, 0.0027075040780200955), (2652, 0.0029256367833704958), (2653, 0.0488110576267555), (2654, 0.017876005011541286), (2655, 0.010613755763739803), (2656, 0.0), (2657, 0.0), (2658, 0.0), (2659, 0.0), (2660, 0.004502152711677646), (2661, 0.0028591086064035055), (2662, 0.0), (2663, 0.0), (2664, 0.0028857347646085206), (2665, 0.005710512068219832), (2666, 0.0), (2667, 0.0), (2668, 0.022713297982763905), (2669, 0.0), (2670, 0.0), (2671, 0.0), (2672, 0.0), (2673, 0.003432575602644718), (2674, 0.0025687777777546592), (2675, 0.0), (2676, 0.0), (2677, 0.0), (2678, 0.004456842778779822), (2679, 0.002530352889258202), (2680, 0.01142370170049265), (2681, 0.0), (2682, 0.004539697325876214), (2683, 0.005594615991889604), (2684, 0.0), (2685, 0.0), (2686, 0.0), (2687, 0.03004110853295342), (2688, 0.011926705618495854), (2689, 0.026217901569259367), (2690, 0.0), (2691, 0.0070541708906478795), (2692, 1.0000000000000007), (2693, 0.0), (2694, 0.047193731411876036), (2695, 0.01528907922846448), (2696, 0.0035040988770835427), (2697, 0.012871897186465453), (2698, 0.00956458882886382), (2699, 0.0), (2700, 0.0058821959714361405), (2701, 0.0), (2702, 0.0031468032531461834), (2703, 0.0), (2704, 0.0), (2705, 0.003211049094517108), (2706, 0.03287365196085235), (2707, 0.0031927347380468806), (2708, 0.007348451416024786), (2709, 0.0), (2710, 0.033844820759631494), (2711, 0.0046495201172133), (2712, 0.018728875529138354), (2713, 0.0), (2714, 0.008185938594721059), (2715, 0.0), (2716, 0.03803621205996803), (2717, 0.0), (2718, 0.024635840105959376), (2719, 0.0), (2720, 0.003136543661468799), (2721, 0.0022998593702387156), (2722, 0.0039170319862599666), (2723, 0.03276522322830751), (2724, 0.006688366333658951), (2725, 0.0028859743368670264), (2726, 0.007271063327837447), (2727, 0.014708330391321951), (2728, 0.0024421124257159635), (2729, 0.0), (2730, 0.0), (2731, 0.0037226048459772514), (2732, 0.007087356465296537), (2733, 0.005491400043586866), (2734, 0.0), (2735, 0.0024998930103087113), (2736, 0.020918039947118473), (2737, 0.0), (2738, 0.003315804227816077), (2739, 0.011085986451267502), (2740, 0.010868663201995138), (2741, 0.002489944469346701), (2742, 0.01798639025637548), (2743, 0.0023477715691694943), (2744, 0.01007398712708359), (2745, 0.01920872580817498), (2746, 0.002805648947139176), (2747, 0.0023776834821243307), (2748, 0.0030368212846945603), (2749, 0.0), (2750, 0.0), (2751, 0.03406435843711106), (2752, 0.009914494870031449), (2753, 0.0023382777461297896), (2754, 0.0), (2755, 0.0028901283291213778), (2756, 0.0), (2757, 0.004141990947042358), (2758, 0.0021909860846032548), (2759, 0.013090995687588383), (2760, 0.020911631390063322), (2761, 0.0023010424023040157), (2762, 0.02748972248356283), (2763, 0.0), (2764, 0.00397392475094163), (2765, 0.002561178160455941), (2766, 0.0020906856980378967), (2767, 0.021468909017312163), (2768, 0.022275425422446652), (2769, 0.011816040035719741), (2770, 0.0), (2771, 0.012625538715069384), (2772, 0.0032537067803374343), (2773, 0.0), (2774, 0.00548641975997106), (2775, 0.004109917703531876), (2776, 0.0029553495811358347), (2777, 0.023016096290517495), (2778, 0.009495103414894896), (2779, 0.002583713129850152), (2780, 0.012948627917860049), (2781, 0.0), (2782, 0.033891399126306156), (2783, 0.0029433357603815924), (2784, 0.015314214976815309), (2785, 0.0), (2786, 0.0029627628291634934), (2787, 0.0046737706639078), (2788, 0.012830119894557342), (2789, 0.009994441185555553), (2790, 0.005029366305432834), (2791, 0.028928434983150342), (2792, 0.0028790485787195306), (2793, 0.0), (2794, 0.0), (2795, 0.019522049527311833), (2796, 0.0030934696935832956), (2797, 0.0033372967684994373), (2798, 0.009908656982345089), (2799, 0.0), (2800, 0.0025094532650624317), (2801, 0.00418816137077414), (2802, 0.0027163546976310383), (2803, 0.01307176470565533), (2804, 0.0), (2805, 0.014117828621375275), (2806, 0.0), (2807, 0.03654292582953055), (2808, 0.022148794647547234), (2809, 0.005757530100170379), (2810, 0.0), (2811, 0.0), (2812, 0.009158222184923048), (2813, 0.0), (2814, 0.0), (2815, 0.014937905354783156), (2816, 0.007059013828681079), (2817, 0.0), (2818, 0.0), (2819, 0.005294832417219171), (2820, 0.01053327171986361), (2821, 0.0028329409429564815), (2822, 0.0), (2823, 0.018841053056860724), (2824, 0.0), (2825, 0.007217059502930196), (2826, 0.002671210840985154), (2827, 0.0), (2828, 0.0), (2829, 0.0), (2830, 0.0030033782422808856), (2831, 0.00975395224444503), (2832, 0.004087100365275079), (2833, 0.006666713227436597), (2834, 0.0034057199997399945), (2835, 0.0), (2836, 0.0), (2837, 0.0), (2838, 0.0034723197969259716), (2839, 0.0), (2840, 0.008557936791715038), (2841, 0.020415220312736675), (2842, 0.0), (2843, 0.007816814352514056), (2844, 0.007744019128242187), (2845, 0.002438179760682298), (2846, 0.04738562011403036), (2847, 0.004757540360093409), (2848, 0.003306548211570808), (2849, 0.011295552230902102), (2850, 0.0), (2851, 0.0), (2852, 0.0), (2853, 0.002676986319412542), (2854, 0.008605198380096005), (2855, 0.0), (2856, 0.0), (2857, 0.0033146987956178854), (2858, 0.0038681772543134843), (2859, 0.041736019636999355), (2860, 0.0), (2861, 0.003910525882385234), (2862, 0.002487358398881743), (2863, 0.0028348694965644704), (2864, 0.0), (2865, 0.0), (2866, 0.0), (2867, 0.020525033198379845), (2868, 0.03834729885195355), (2869, 0.04287412728988955), (2870, 0.003949273543996234), (2871, 0.011199866335070842), (2872, 0.0035180300680914345), (2873, 0.007816363773303973), (2874, 0.01324207654362188), (2875, 0.0), (2876, 0.03189912090084324), (2877, 0.0), (2878, 0.002773626776804802), (2879, 0.00980275868539775), (2880, 0.0), (2881, 0.008838869770183007), (2882, 0.0029360846789368536), (2883, 0.003798838198252431), (2884, 0.0030887067147218534), (2885, 0.021786620972784408), (2886, 0.010174475629069655), (2887, 0.032035974232897294), (2888, 0.002940153240193155), (2889, 0.003770798902786821), (2890, 0.003002609273921535), (2891, 0.0), (2892, 0.002537757390035009), (2893, 0.04957578594738974), (2894, 0.002770564222495661), (2895, 0.0032842970056908604), (2896, 0.0), (2897, 0.007218243675887614), (2898, 0.0), (2899, 0.007239751319337093), (2900, 0.0027611882340651114), (2901, 0.0037869384285298046), (2902, 0.0019275796618018082), (2903, 0.10734902250595194), (2904, 0.0027588394229236665), (2905, 0.0), (2906, 0.0), (2907, 0.002544819249241197), (2908, 0.036171232009496776), (2909, 0.0025915014499153276), (2910, 0.014806387386882076), (2911, 0.0027282022948970667), (2912, 0.0025775597415521804), (2913, 0.01378706783309389), (2914, 0.0034010374763393768), (2915, 0.0105736281682309), (2916, 0.0028908058306664408), (2917, 0.017049992552536582), (2918, 0.011989907380607887), (2919, 0.01585373583147514), (2920, 0.02976651348680841), (2921, 0.0), (2922, 0.0), (2923, 0.0038031640018520102), (2924, 0.0031793076010825203), (2925, 0.01192754362424673), (2926, 0.003067411882926925), (2927, 0.0), (2928, 0.0), (2929, 0.010638396197950317), (2930, 0.0), (2931, 0.016232080370740545), (2932, 0.026387986718523992), (2933, 0.008338573155580321), (2934, 0.010390911338927548), (2935, 0.00629904590769752), (2936, 0.010830390626675717), (2937, 0.003981787684630081), (2938, 0.0), (2939, 0.016189491391479592), (2940, 0.002877927531249155), (2941, 0.0), (2942, 0.008315692836142075), (2943, 0.0027808889377607267), (2944, 0.05584071448278763), (2945, 0.0027075193241302654), (2946, 0.0027594251116678957), (2947, 0.005185798850338608), (2948, 0.010076346824249564), (2949, 0.007911101875625132), (2950, 0.0), (2951, 0.0), (2952, 0.0), (2953, 0.0028614616061494024), (2954, 0.0024103335652598873), (2955, 0.0), (2956, 0.0), (2957, 0.003347145285429122), (2958, 0.0), (2959, 0.005215681458984498), (2960, 0.00545548961499924), (2961, 0.01503024807349123), (2962, 0.00709388419016341), (2963, 0.013098397699200882), (2964, 0.010350732879776506), (2965, 0.002644559124021943), (2966, 0.003286954312090273), (2967, 0.0), (2968, 0.0), (2969, 0.013508001312372234), (2970, 0.003040077856972947), (2971, 0.030261898081989074), (2972, 0.0025975124713991157), (2973, 0.0), (2974, 0.0031272052103796873), (2975, 0.008438952373379162), (2976, 0.002433618423054147), (2977, 0.010270120561800392), (2978, 0.014094678483639548), (2979, 0.0), (2980, 0.0097719393986162), (2981, 0.037225328398700915), (2982, 0.0), (2983, 0.0), (2984, 0.00450037386963707), (2985, 0.059397843400724515), (2986, 0.0032172330757885372), (2987, 0.0032057313219482), (2988, 0.01491985156654025), (2989, 0.0039566397588589475), (2990, 0.0), (2991, 0.004940087704135966), (2992, 0.01108286981721661), (2993, 0.003261475953815944), (2994, 0.007776148682598981), (2995, 0.0209646306730937), (2996, 0.01662053609837825), (2997, 0.002592456819988642), (2998, 0.004273587095011685), (2999, 0.0027192684896785845), (3000, 0.01955592789389505), (3001, 0.0), (3002, 0.0), (3003, 0.0030726986765753474), (3004, 0.03792321578943982), (3005, 0.004880536695539227), (3006, 0.0), (3007, 0.003225165763582382), (3008, 0.007844276940888444), (3009, 0.0), (3010, 0.026784977217846083), (3011, 0.00478629452598376), (3012, 0.017187534342646305), (3013, 0.003092272750555331), (3014, 0.002539484350797421), (3015, 0.003585005699678652), (3016, 0.00280795161316178), (3017, 0.03300450207743695), (3018, 0.007784270812168132), (3019, 0.018838035215202407), (3020, 0.00338882799687839), (3021, 0.0), (3022, 0.005886188559802325), (3023, 0.048477939286194816), (3024, 0.00220039283009092), (3025, 0.0), (3026, 0.0031397633472001326), (3027, 0.0024726732194346734), (3028, 0.0026094285188992474), (3029, 0.0), (3030, 0.003811108331632413), (3031, 0.0032601640111824667), (3032, 0.008615882579650765), (3033, 0.00689197490746081), (3034, 0.0), (3035, 0.00813386562478892), (3036, 0.017939374876117197), (3037, 0.0029952227772993673), (3038, 0.0), (3039, 0.00792723907926902), (3040, 0.003867696653560959), (3041, 0.0), (3042, 0.0037068752697929767), (3043, 0.017442328032789656), (3044, 0.003041808894088268), (3045, 0.03731095166311895), (3046, 0.009407719946442092), (3047, 0.0), (3048, 0.0), (3049, 0.006933520830396755), (3050, 0.0026362267268970336), (3051, 0.0039567068855022), (3052, 0.003737375526453963), (3053, 0.0798482171064467), (3054, 0.0), (3055, 0.004001711701168574), (3056, 0.0021999437813775484), (3057, 0.0025376877453068317), (3058, 0.0), (3059, 0.0), (3060, 0.0), (3061, 0.0), (3062, 0.0031355791126991927), (3063, 0.0), (3064, 0.0030353594277584286), (3065, 0.012841870923304742), (3066, 0.006961761077669032), (3067, 0.010620893630538227), (3068, 0.0), (3069, 0.002724232144268205), (3070, 0.010985651107004349), (3071, 0.0025506293838780895), (3072, 0.0032380063968233644), (3073, 0.0), (3074, 0.003423334026251135), (3075, 0.0026775146354953276), (3076, 0.013355374821194936), (3077, 0.0), (3078, 0.0), (3079, 0.004574394859267934), (3080, 0.0), (3081, 0.0034228444048908816), (3082, 0.0), (3083, 0.02334196159393063), (3084, 0.0028296396297526664), (3085, 0.018204727508749192), (3086, 0.016497907918017675), (3087, 0.0), (3088, 0.0), (3089, 0.0), (3090, 0.0), (3091, 0.01861049130165183), (3092, 0.0), (3093, 0.002693099068254106), (3094, 0.011149348040681281), (3095, 0.024146753327643416), (3096, 0.008316855441471014), (3097, 0.019801315564882363), (3098, 0.017851931416149398), (3099, 0.010936933726503943), (3100, 0.004817601120771942), (3101, 0.002977315623824472), (3102, 0.03695349756952504), (3103, 0.0), (3104, 0.0), (3105, 0.0), (3106, 0.0), (3107, 0.0), (3108, 0.013095562043140382), (3109, 0.0), (3110, 0.014354325058717907), (3111, 0.019891711823873007), (3112, 0.008104610912652611), (3113, 0.002746262626911894), (3114, 0.0062985255190285425), (3115, 0.0), (3116, 0.002968118806049841), (3117, 0.005636703284042111), (3118, 0.01177389886920989), (3119, 0.014049364213009218), (3120, 0.009354442667514153), (3121, 0.0), (3122, 0.0077125498984411765), (3123, 0.00952048663453467), (3124, 0.004996406760652929), (3125, 0.007678696129441894), (3126, 0.004778484923907556), (3127, 0.03831053593967976), (3128, 0.003697573219212718), (3129, 0.017955178295058754), (3130, 0.0), (3131, 0.005269380801624574), (3132, 0.0), (3133, 0.004581786513840387), (3134, 0.0051704748041563955), (3135, 0.004555247712416641), (3136, 0.0046356348062220505), (3137, 0.03473465669724108), (3138, 0.0), (3139, 0.003847556220219725), (3140, 0.0033453309660460583), (3141, 0.0), (3142, 0.011059482337504806), (3143, 0.004428506462543155), (3144, 0.021180256473074675), (3145, 0.0), (3146, 0.0345140403195562), (3147, 0.002498650495101904), (3148, 0.003155940710200929), (3149, 0.007146329382533437), (3150, 0.0028110289804526107), (3151, 0.009385914780503539), (3152, 0.0076151085277304815), (3153, 0.02498571117157187), (3154, 0.027990167848274124), (3155, 0.010140056474327211), (3156, 0.029811755751118472), (3157, 0.033390560629599095), (3158, 0.005421339732636814), (3159, 0.0034410648650622052), (3160, 0.004301300726771445), (3161, 0.005262047361427523), (3162, 0.0), (3163, 0.005302052393510521), (3164, 0.005814496409427223), (3165, 0.003270863970467179), (3166, 0.003781623247793831), (3167, 0.02765661159036722), (3168, 0.005537571311530144), (3169, 0.0), (3170, 0.0026253223430876037), (3171, 0.00965700106207985), (3172, 0.0), (3173, 0.0027033081151991924), (3174, 0.002728198071521129), (3175, 0.0), (3176, 0.0), (3177, 0.0), (3178, 0.004364950499980435), (3179, 0.005036831491035884), (3180, 0.005545862540850055), (3181, 0.0), (3182, 0.0028482512300919216), (3183, 0.0030492314116212873), (3184, 0.0029075272989981097), (3185, 0.007697246198864033), (3186, 0.0030212405925034605), (3187, 0.002891250289928034), (3188, 0.0), (3189, 0.0), (3190, 0.0), (3191, 0.0049635518138775436), (3192, 0.008287664081904988), (3193, 0.0), (3194, 0.0025468992365083707), (3195, 0.007531538698933879), (3196, 0.008685539400067707), (3197, 0.0), (3198, 0.0027738817499317853), (3199, 0.002125126886678637), (3200, 0.002252489647397858), (3201, 0.0), (3202, 0.0), (3203, 0.053781892735298355), (3204, 0.0), (3205, 0.005090706927608975), (3206, 0.0033537980793940585), (3207, 0.0), (3208, 0.0), (3209, 0.04304854940223059), (3210, 0.015470802625080828), (3211, 0.002381814322895731), (3212, 0.0), (3213, 0.017550975213619535), (3214, 0.0027638703121546345), (3215, 0.009807058355807202), (3216, 0.002735131362584773), (3217, 0.0), (3218, 0.0103207415009093), (3219, 0.0036723151930847155), (3220, 0.0026336458627271605), (3221, 0.0), (3222, 0.02185933316131199), (3223, 0.0), (3224, 0.002830775885328647), (3225, 0.0027278261302374116), (3226, 0.018699311146684917), (3227, 0.007854272502818019), (3228, 0.017948903544803524), (3229, 0.0), (3230, 0.003159749447994006), (3231, 0.0), (3232, 0.010703847395806642), (3233, 0.00779383533692268), (3234, 0.0029099856968542166), (3235, 0.0030050782114616316), (3236, 0.0), (3237, 0.009601137507363813), (3238, 0.0023177728909196675), (3239, 0.003522237276566658), (3240, 0.012077773402768093), (3241, 0.002829504359091701), (3242, 0.002829532356288251), (3243, 0.0025461924995253816), (3244, 0.006314167259766159), (3245, 0.008457941441451431), (3246, 0.009064735935430444), (3247, 0.004478719139383393), (3248, 0.07648202973093282), (3249, 0.04480966938522242), (3250, 0.0), (3251, 0.0), (3252, 0.0022173174195940473), (3253, 0.015502830084250942), (3254, 0.0023228592641426683), (3255, 0.03678975362526137), (3256, 0.008250983769497374), (3257, 0.003978854124333469), (3258, 0.0031056714349821796), (3259, 0.008032378120549638), (3260, 0.029850213465920674), (3261, 0.0), (3262, 0.003716299670795008), (3263, 0.005572381300758331), (3264, 0.010554923350395467), (3265, 0.007140956004004809), (3266, 0.0), (3267, 0.0093012045955129), (3268, 0.0026414415344011054), (3269, 0.0029328959475118342), (3270, 0.0), (3271, 0.0028656832149476204), (3272, 0.0), (3273, 0.003014712992092187), (3274, 0.0034203584775819636), (3275, 0.018199941668297612), (3276, 0.13782620175827817), (3277, 0.0), (3278, 0.0024072312331480626), (3279, 0.018065639317306478), (3280, 0.03845606265977272), (3281, 0.0), (3282, 0.0034593793844813923), (3283, 0.0028528199749699337), (3284, 0.01985469819613997), (3285, 0.026679405511854302), (3286, 0.0), (3287, 0.0), (3288, 0.006860707429738927), (3289, 0.002733890941330128), (3290, 0.002765982050820613), (3291, 0.004079249714719095), (3292, 0.0035184011966294376), (3293, 0.009721813257986014), (3294, 0.04829586845465156), (3295, 0.01507620596816654), (3296, 0.0032106186131809914), (3297, 0.010846557045247895), (3298, 0.002594422052924444), (3299, 0.0166478302971258), (3300, 0.0025398230367602945), (3301, 0.0020589238823476596), (3302, 0.0033357434209490403), (3303, 0.007719934545109323), (3304, 0.0024312314173498663), (3305, 0.0), (3306, 0.016041107878908268), (3307, 0.0031083510479589533), (3308, 0.003159438707526234), (3309, 0.006800776591392956), (3310, 0.0), (3311, 0.0023951784350536303), (3312, 0.014713632709626681), (3313, 0.02964219349267792), (3314, 0.0028640616340816914), (3315, 0.002553537390035063), (3316, 0.007292293094058949), (3317, 0.012270646493605692), (3318, 0.013472001171821481), (3319, 0.02333593611151288), (3320, 0.0), (3321, 0.0), (3322, 0.0037497872712311487), (3323, 0.0), (3324, 0.0), (3325, 0.01303152945986506), (3326, 0.002834714838016267), (3327, 0.0023663098170314317), (3328, 0.014306406207479362), (3329, 0.008837507569312567), (3330, 0.036424528339583005), (3331, 0.00631329285550121), (3332, 0.0), (3333, 0.0), (3334, 0.012988102751184148), (3335, 0.002698315700148959), (3336, 0.002404895914125493), (3337, 0.003087447330729662), (3338, 0.004623114901018022), (3339, 0.00411544855848551), (3340, 0.0), (3341, 0.0026825833653936343), (3342, 0.006969116174279947), (3343, 0.0), (3344, 0.028975192499517785), (3345, 0.02315098439190615), (3346, 0.00959536348592756), (3347, 0.0022666781579267076), (3348, 0.0024795537455079993), (3349, 0.008018841861337889), (3350, 0.0), (3351, 0.0359473803535639), (3352, 0.02156642229116836), (3353, 0.002789050326926416), (3354, 0.00347845643934638), (3355, 0.003155227311788136), (3356, 0.014540282256916275), (3357, 0.0034022506389909746), (3358, 0.003408961171602449), (3359, 0.0032762211103862294), (3360, 0.05378726863900754), (3361, 0.004581933341586834), (3362, 0.04061072781826692), (3363, 0.003366540525766817), (3364, 0.0031629929720295175), (3365, 0.001969639568948942), (3366, 0.0), (3367, 0.004789844884105704), (3368, 0.0), (3369, 0.0024591175449942748), (3370, 0.01451979508290347), (3371, 0.0), (3372, 0.0029140996536814847), (3373, 0.011486676661297393), (3374, 0.050873485596780926), (3375, 0.015840785832234756), (3376, 0.033287796121738475), (3377, 0.03440347630057343), (3378, 0.0), (3379, 0.0026164712628425992), (3380, 0.0024014911772468374), (3381, 0.0025904522473340756), (3382, 0.01070140468755718), (3383, 0.0), (3384, 0.02295180965837345), (3385, 0.062217290964137854), (3386, 0.009992125307114874), (3387, 0.013172857614592472), (3388, 0.0028084772991504043), (3389, 0.00892195376056141), (3390, 0.0025808548508444696), (3391, 0.0061477362551306996), (3392, 0.0018248844539760119), (3393, 0.002298139356504025), (3394, 0.0), (3395, 0.019177327599811084), (3396, 0.003823061650030491), (3397, 0.0), (3398, 0.005207978510621707), (3399, 0.009135325852554065), (3400, 0.0), (3401, 0.0), (3402, 0.002558351083303348), (3403, 0.019746162937810244), (3404, 0.005017578216022825), (3405, 0.00407142654475394), (3406, 0.0028966463211667686), (3407, 0.016241024001690637), (3408, 0.04778656207073858), (3409, 0.008198698784302185), (3410, 0.007590809235486091), (3411, 0.0), (3412, 0.002596669176859221), (3413, 0.003265633792219878), (3414, 0.003119282700373891), (3415, 0.0), (3416, 0.019366690340282953), (3417, 0.0029718612738212297), (3418, 0.01007442238393994), (3419, 0.003329118443725127), (3420, 0.0298924284572133), (3421, 0.01675252727228598), (3422, 0.0), (3423, 0.011414210600747043), (3424, 0.0), (3425, 0.003186753409423288), (3426, 0.011095809108955395), (3427, 0.045525191680683474), (3428, 0.028426703117531902), (3429, 0.0032239595472966435), (3430, 0.036685057784235774), (3431, 0.0022268085372751565), (3432, 0.005085426243124963), (3433, 0.02339452931177688), (3434, 0.002985218098241875), (3435, 0.007457203609145551), (3436, 0.007586401257111734), (3437, 0.01593777965246407), (3438, 0.0055036099811452514), (3439, 0.0), (3440, 0.005566577992538551), (3441, 0.0026524756966720873), (3442, 0.0), (3443, 0.0048114971153545944), (3444, 0.0), (3445, 0.002778848815991425), (3446, 0.024983503813860813), (3447, 0.02860699821707239), (3448, 0.006147424375823735), (3449, 0.0029522040390918976), (3450, 0.026297294136969154), (3451, 0.005284158789161795), (3452, 0.007325833420660306), (3453, 0.008389839079497832), (3454, 0.0), (3455, 0.0024983654248682974), (3456, 0.007958528269671172), (3457, 0.007647402100407996), (3458, 0.006595049567317164), (3459, 0.0), (3460, 0.007141235646818568), (3461, 0.0), (3462, 0.06180589054329034), (3463, 0.0377003839693843), (3464, 0.007927128693656423), (3465, 0.08020140611812662), (3466, 0.03508946589088055), (3467, 0.0), (3468, 0.005326819592567457), (3469, 0.021915588398134477), (3470, 0.03805960473708499), (3471, 0.02152007020077082), (3472, 0.0), (3473, 0.0), (3474, 0.0069002050373063485), (3475, 0.0), (3476, 0.0), (3477, 0.0026710480362726174), (3478, 0.0026771782280636193), (3479, 0.0037451933832894926), (3480, 0.0708537717538835), (3481, 0.0), (3482, 0.0), (3483, 0.023612091983862975), (3484, 0.004197809057232832), (3485, 0.0), (3486, 0.03894537415013299), (3487, 0.0072635974861771984), (3488, 0.03266294483849252), (3489, 0.0), (3490, 0.0), (3491, 0.002705704752963913), (3492, 0.022263078569381686), (3493, 0.002855228838519496), (3494, 0.0), (3495, 0.004346482618137086), (3496, 0.002898385597241595), (3497, 0.003261083597052617), (3498, 0.03861728398894457), (3499, 0.007387170242655879), (3500, 0.0024907267114960617), (3501, 0.008693963858080501), (3502, 0.006158887674655168), (3503, 0.0025530127624478986), (3504, 0.02109969781633249), (3505, 0.0), (3506, 0.003195692305565123), (3507, 0.012863717115271038), (3508, 0.0208936041049076), (3509, 0.005990916086843715), (3510, 0.0), (3511, 0.0029026177581307367), (3512, 0.004483522122073121), (3513, 0.006071012585353764), (3514, 0.00797503287488952), (3515, 0.007838156509739338), (3516, 0.008349566679256374), (3517, 0.0027963769607855355), (3518, 0.04620681314142651), (3519, 0.0), (3520, 0.004862949176070436), (3521, 0.009165823320313517), (3522, 0.0), (3523, 0.0041724635992064826), (3524, 0.011677355903385195), (3525, 0.0), (3526, 0.0027568565643680135), (3527, 0.002982179891776003), (3528, 0.018472708896063717), (3529, 0.0), (3530, 0.0), (3531, 0.007307991268901203), (3532, 0.0), (3533, 0.0), (3534, 0.00473246784858622), (3535, 0.015505430091411025), (3536, 0.009833518533947736), (3537, 0.003428387659759067), (3538, 0.0022976804493783187), (3539, 0.0), (3540, 0.003230883742545239), (3541, 0.01673612078751562), (3542, 0.0027792265858159245), (3543, 0.0), (3544, 0.003452694328365438), (3545, 0.0), (3546, 0.001974180670884458), (3547, 0.0), (3548, 0.002170720067691335), (3549, 0.0), (3550, 0.0), (3551, 0.0027050142594234198), (3552, 0.04756511939617036), (3553, 0.02162955596659638), (3554, 0.0), (3555, 0.004713976260128376), (3556, 0.03562654159960805), (3557, 0.002643948758765789), (3558, 0.01575020669911078), (3559, 0.027997182558118373), (3560, 0.00297255979067213), (3561, 0.0037314840928000265), (3562, 0.0), (3563, 0.0024940469226882615), (3564, 0.002716125147308702), (3565, 0.002643548850987214), (3566, 0.006382779712876379), (3567, 0.0), (3568, 0.0), (3569, 0.002271473306959119), (3570, 0.007695142556689828), (3571, 0.0077670504727998385), (3572, 0.03202375198969932), (3573, 0.0), (3574, 0.0297412190714264), (3575, 0.002183342769873955), (3576, 0.005146969422195003), (3577, 0.0033232796952332258), (3578, 0.0), (3579, 0.008518172720495744), (3580, 0.015783730793747508), (3581, 0.0), (3582, 0.01171868545713432), (3583, 0.0047542214723048605), (3584, 0.0054051305549232525), (3585, 0.0), (3586, 0.00810524986252943), (3587, 0.0030734127327396847), (3588, 0.006076240549105038), (3589, 0.0), (3590, 0.0028672690188179272), (3591, 0.0), (3592, 0.0), (3593, 0.0030177658890468517), (3594, 0.007158515329892359), (3595, 0.0), (3596, 0.00970534099644315), (3597, 0.032168511802398395), (3598, 0.006150279436245561), (3599, 0.010551359397673044), (3600, 0.0), (3601, 0.0029467041309562455), (3602, 0.004821266163398658), (3603, 0.0), (3604, 0.005360899832344904), (3605, 0.03146396183359832), (3606, 0.0027766572384357348), (3607, 0.0), (3608, 0.0017447800340719846), (3609, 0.0), (3610, 0.0), (3611, 0.0030302355917311142), (3612, 0.01008387188394321), (3613, 0.003395604222058936), (3614, 0.002467853383484889), (3615, 0.0026126398371283535), (3616, 0.0033773836279032536), (3617, 0.0), (3618, 0.00816425951907752), (3619, 0.004209927717437942), (3620, 0.0034560291815394174), (3621, 0.00326091628413302), (3622, 0.0), (3623, 0.007897887461834108), (3624, 0.007559518975975955), (3625, 0.0), (3626, 0.0021027480852531238), (3627, 0.002815769458896922), (3628, 0.0), (3629, 0.002319295476207884), (3630, 0.014123656688234187), (3631, 0.0), (3632, 0.007046325792863928), (3633, 0.0), (3634, 0.008349814397479123), (3635, 0.010581830676511085), (3636, 0.0029102423403532694), (3637, 0.01307110955481285), (3638, 0.00961009032980402), (3639, 0.00313692563161382), (3640, 0.01746352281319046), (3641, 0.002641993236799979), (3642, 0.016770593953011968), (3643, 0.00974595593788102), (3644, 0.0), (3645, 0.007695077817178708), (3646, 0.00256958661487399), (3647, 0.0026937089367688265), (3648, 0.007264294936269542), (3649, 0.0), (3650, 0.0), (3651, 0.0030213118677988784), (3652, 0.041963557506469615), (3653, 0.007858892999183244), (3654, 0.0029225613479400294), (3655, 0.05380090551648941), (3656, 0.03519496169765537), (3657, 0.002286167959691283), (3658, 0.006251037290950359), (3659, 0.013645266721484082), (3660, 0.014987209846631284), (3661, 0.016676434823308606), (3662, 0.0), (3663, 0.0), (3664, 0.0046558664200567175), (3665, 0.022085957244865506), (3666, 0.007752852002042481), (3667, 0.009349029470391505), (3668, 0.0023154289058446393), (3669, 0.0023434423799189785), (3670, 0.01506912782080851), (3671, 0.0), (3672, 0.004389744369818375), (3673, 0.00277880392843651), (3674, 0.010428152455882918), (3675, 0.01816999118207686), (3676, 0.0), (3677, 0.0029918295363702474), (3678, 0.0028529973482944674), (3679, 0.024110137403365), (3680, 0.00872605243586708), (3681, 0.0), (3682, 0.0), (3683, 0.0), (3684, 0.027624033850366523), (3685, 0.0), (3686, 0.0), (3687, 0.003446040396042348), (3688, 0.0), (3689, 0.010155236042719189), (3690, 0.0), (3691, 0.0025292841118128837), (3692, 0.026269625772418204), (3693, 0.0), (3694, 0.01676683325273739), (3695, 0.0), (3696, 0.007564843518900643), (3697, 0.0), (3698, 0.0), (3699, 0.015764187075579264), (3700, 0.0), (3701, 0.00274273081469233), (3702, 0.0), (3703, 0.0), (3704, 0.008301401774152225), (3705, 0.006790774218590834), (3706, 0.00266508180328564), (3707, 0.0027579629487884724), (3708, 0.014434334852467985), (3709, 0.0), (3710, 0.005200507630852934), (3711, 0.026127548753493827), (3712, 0.0), (3713, 0.016309310858099387), (3714, 0.003008379128201516), (3715, 0.007102306517332143), (3716, 0.0), (3717, 0.0), (3718, 0.0), (3719, 0.0031436586012038637), (3720, 0.03252675051960925), (3721, 0.006945479424353481), (3722, 0.0), (3723, 0.0045395406611134425), (3724, 0.0), (3725, 0.002599293616962101), (3726, 0.0), (3727, 0.0075972103122919025), (3728, 0.059992594728246106), (3729, 0.00326600930246516), (3730, 0.0), (3731, 0.03811432261081519), (3732, 0.0), (3733, 0.00971066391922064), (3734, 0.0071108512410399255), (3735, 0.0), (3736, 0.0), (3737, 0.0033188027269563875), (3738, 0.0), (3739, 0.002686023578255635), (3740, 0.0), (3741, 0.015087921708157452), (3742, 0.002443071479447159), (3743, 0.0), (3744, 0.006065189058430955), (3745, 0.0032251048887223556), (3746, 0.0), (3747, 0.012613780104272112), (3748, 0.006285321276235769), (3749, 0.002938622875602782), (3750, 0.013947452892620874), (3751, 0.03026072627972789), (3752, 0.005895986157083296), (3753, 0.04717270122923457), (3754, 0.0031062354687289833), (3755, 0.002499094237973203), (3756, 0.012118625626638055), (3757, 0.0029877755376363016), (3758, 0.0), (3759, 0.0), (3760, 0.0), (3761, 0.0), (3762, 0.0037630570955642247), (3763, 0.0031778153447245645), (3764, 0.0), (3765, 0.0025921767107216893), (3766, 0.019519986156590674), (3767, 0.03224401768155681), (3768, 0.01343192646009829), (3769, 0.005054663693582336), (3770, 0.0029518407466880585), (3771, 0.008520710230838804), (3772, 0.0030937417006839107), (3773, 0.0), (3774, 0.0055437343621662595), (3775, 0.0114810126495897), (3776, 0.004134802721623481), (3777, 0.01587998782260565), (3778, 0.023681146736359834), (3779, 0.11059995873590034), (3780, 0.008439109398330721), (3781, 0.0028891424426377094), (3782, 0.005199475779931346), (3783, 0.0), (3784, 0.00910163157792597), (3785, 0.0), (3786, 0.0), (3787, 0.005279585385496122), (3788, 0.004576980858778784), (3789, 0.0), (3790, 0.0), (3791, 0.0), (3792, 0.002719910180688347), (3793, 0.047851420833820824), (3794, 0.012199121703506302), (3795, 0.0023441504602225768), (3796, 0.0), (3797, 0.01626458172411479), (3798, 0.0), (3799, 0.002686962600927883), (3800, 0.0), (3801, 0.025928033251310753), (3802, 0.005333075151800234), (3803, 0.0), (3804, 0.003026152259550726), (3805, 0.0), (3806, 0.004209550921026231), (3807, 0.016028363800839752), (3808, 0.0), (3809, 0.00272911303840847), (3810, 0.0259252066445199), (3811, 0.002510797218797892), (3812, 0.0), (3813, 0.002987384347021184), (3814, 0.005209463164979266), (3815, 0.004913514620538181), (3816, 0.0), (3817, 0.0), (3818, 0.0), (3819, 0.01466919552270311), (3820, 0.0), (3821, 0.008135576820158467), (3822, 0.010981706472379001), (3823, 0.00464656503856928), (3824, 0.0046858120525655874), (3825, 0.0063764066210024025), (3826, 0.009327353574938718), (3827, 0.0026830333474512622), (3828, 0.019812625600890692), (3829, 0.008985313839654042), (3830, 0.0), (3831, 0.0), (3832, 0.003509653840339683), (3833, 0.005015414506256383), (3834, 0.0), (3835, 0.024737303077291332), (3836, 0.0), (3837, 0.0), (3838, 0.0), (3839, 0.024129612315753335), (3840, 0.0), (3841, 0.00695421888728767), (3842, 0.006822298266559632), (3843, 0.0), (3844, 0.006197510256493231), (3845, 0.002810497845461989), (3846, 0.0), (3847, 0.0), (3848, 0.003480542698960513), (3849, 0.01314389552711957), (3850, 0.036607828810269964), (3851, 0.0), (3852, 0.029032076888762297), (3853, 0.019888312121367865), (3854, 0.06398886758768003), (3855, 0.0022626755824193987), (3856, 0.0), (3857, 0.02142553352871015), (3858, 0.0), (3859, 0.0), (3860, 0.011331787544329164), (3861, 0.014539848076683381), (3862, 0.01611999820287352), (3863, 0.002404602378939144), (3864, 0.006523249373231076), (3865, 0.006120665082944647), (3866, 0.003024714948564979), (3867, 0.003041021230293943), (3868, 0.026487701382518526), (3869, 0.0), (3870, 0.0), (3871, 0.030186426059864515), (3872, 0.0), (3873, 0.002941258359581307), (3874, 0.003479683496283334), (3875, 0.01876168137003569), (3876, 0.006985336082452089), (3877, 0.0030729915792357915), (3878, 0.0036852303984358354), (3879, 0.0), (3880, 0.00853910933207759), (3881, 0.005292844173372532), (3882, 0.0029863309856645822), (3883, 0.017721677098662167), (3884, 0.003132438041303435), (3885, 0.0), (3886, 0.0046141910924846095), (3887, 0.0), (3888, 0.010141202791135891), (3889, 0.002958013645180157), (3890, 0.002585540113492993), (3891, 0.0), (3892, 0.003650975085779513), (3893, 0.0029599302158228435), (3894, 0.002399751119991331), (3895, 0.016489920275703417), (3896, 0.0), (3897, 0.005883469005605997), (3898, 0.0026032899960389344), (3899, 0.008917095394888986), (3900, 0.002650353927951869), (3901, 0.00982314289514807), (3902, 0.0027858666327899226), (3903, 0.011277131839037785), (3904, 0.029773331554875444), (3905, 0.0079906597830426), (3906, 0.002618932102831014), (3907, 0.005016409772637147), (3908, 0.0049634193666812185), (3909, 0.006436483326055701), (3910, 0.006761935389431631), (3911, 0.003221802362443521), (3912, 0.0), (3913, 0.02527195414087234), (3914, 0.0), (3915, 0.002945084145506749), (3916, 0.0), (3917, 0.0025715580036901804), (3918, 0.0), (3919, 0.010558845712842768), (3920, 0.0028804839933634523), (3921, 0.0), (3922, 0.0036117283305271116), (3923, 0.02308613472479998), (3924, 0.011253848181518257), (3925, 0.004183679186329029), (3926, 0.00745698339313695), (3927, 0.021898764289096186), (3928, 0.0022416322053126036), (3929, 0.0), (3930, 0.0), (3931, 0.0), (3932, 0.004986272685151168), (3933, 0.0), (3934, 0.02154029905645136), (3935, 0.003420464384148835), (3936, 0.0), (3937, 0.0), (3938, 0.005276169811428), (3939, 0.003623646378573761), (3940, 0.00566686032554675), (3941, 0.009440101784988867), (3942, 0.006047299423861819), (3943, 0.0), (3944, 0.0038719846022808833), (3945, 0.04795806555683132), (3946, 0.0690524214888909), (3947, 0.04295044651612451), (3948, 0.0), (3949, 0.011335665801496746), (3950, 0.0), (3951, 0.0112746069400258), (3952, 0.003261635826279467), (3953, 0.002407810767156217), (3954, 0.008931057648108715), (3955, 0.04308013123326209), (3956, 0.009098199191200087), (3957, 0.011880056301382298), (3958, 0.014410077645350025), (3959, 0.029321390706299605), (3960, 0.008796596958538728), (3961, 0.034460742812585494), (3962, 0.0029558688852634185), (3963, 0.0), (3964, 0.0), (3965, 0.0), (3966, 0.004557083507381019), (3967, 0.0034812204383469253), (3968, 0.0), (3969, 0.0), (3970, 0.00473338908961359), (3971, 0.0), (3972, 0.0), (3973, 0.04382255565990696), (3974, 0.05077711086071781), (3975, 0.0063394201369903055), (3976, 0.018042700795007704), (3977, 0.0), (3978, 0.02278571315048689), (3979, 0.0), (3980, 0.0), (3981, 0.0), (3982, 0.0), (3983, 0.036977562837552165), (3984, 0.011632246317072539), (3985, 0.0), (3986, 0.002438965312879944), (3987, 0.002847754264717707), (3988, 0.0), (3989, 0.003963262482652367), (3990, 0.0038116425944510913), (3991, 0.0), (3992, 0.01085651673074864), (3993, 0.011554041000313925), (3994, 0.0), (3995, 0.0051682251294895495), (3996, 0.0), (3997, 0.005566281133503813), (3998, 0.006677244902948554), (3999, 0.012922539405560044), (4000, 0.014815121483185624), (4001, 0.007540000292646242), (4002, 0.0031721576551732114), (4003, 0.0), (4004, 0.0317359833284507), (4005, 0.03884953295477721), (4006, 0.0), (4007, 0.020815625641233446), (4008, 0.007237077335700262), (4009, 0.006376405022112148), (4010, 0.0), (4011, 0.0025074824481710976), (4012, 0.020373830587506723), (4013, 0.00793617245104777), (4014, 0.0028029380612319805), (4015, 0.0023748154251117533), (4016, 0.022139544615380556), (4017, 0.0037816561306593674), (4018, 0.0), (4019, 0.003749373777631089), (4020, 0.0026541247724184533), (4021, 0.0), (4022, 0.0), (4023, 0.04481984316675016), (4024, 0.002903397991281082), (4025, 0.010154355989196827), (4026, 0.0), (4027, 0.0), (4028, 0.02028000248584977), (4029, 0.0), (4030, 0.0033014234270763807), (4031, 0.0), (4032, 0.011560335710298774), (4033, 0.010491342178940781), (4034, 0.0), (4035, 0.03072472887016313), (4036, 0.002752612108047747), (4037, 0.0), (4038, 0.00820214759508577), (4039, 0.004810908918235945), (4040, 0.0), (4041, 0.0), (4042, 0.0030420362942245247), (4043, 0.005332606730480918), (4044, 0.004532776107449319), (4045, 0.007975790599052447), (4046, 0.008245537087343404), (4047, 0.006364506385692717), (4048, 0.012142889369583734), (4049, 0.0027028011820291265), (4050, 0.024814225490992492), (4051, 0.002994821860498166), (4052, 0.010374598568792038), (4053, 0.026352708898262012), (4054, 0.0028180930592009317), (4055, 0.006122948295635121), (4056, 0.00274958420696005), (4057, 0.0062279363750329985), (4058, 0.0), (4059, 0.002569148179675737), (4060, 0.009778545688888649), (4061, 0.00746197627142974), (4062, 0.06343967112686763), (4063, 0.0), (4064, 0.0), (4065, 0.0), (4066, 0.0024366413174714595), (4067, 0.0), (4068, 0.015180369791349936), (4069, 0.0026186797952433044), (4070, 0.0), (4071, 0.004770032100089846), (4072, 0.0), (4073, 0.0), (4074, 0.0023862189376321103), (4075, 0.0031509091643556956), (4076, 0.0054697136417500335), (4077, 0.00800524049730225), (4078, 0.0), (4079, 0.0028808717801025426), (4080, 0.0023817483603798925), (4081, 0.01879998043699029), (4082, 0.003956994680951216), (4083, 0.0029122932757256587), (4084, 0.0), (4085, 0.002590560115221602), (4086, 0.0), (4087, 0.0029865956841050568), (4088, 0.02012250459520773), (4089, 0.008326757508937611), (4090, 0.005451624706587001), (4091, 0.0051333625570487125), (4092, 0.008710523119935233), (4093, 0.008220442319694954), (4094, 0.008081082069875206), (4095, 0.012678968128410174), (4096, 0.010497441060949854), (4097, 0.0), (4098, 0.008636094200375909), (4099, 0.00699153977302069), (4100, 0.0), (4101, 0.0030778276324693998), (4102, 0.00372720857725108), (4103, 0.004884682937999684), (4104, 0.029702522074105703), (4105, 0.009060927128957305), (4106, 0.010440545502084795), (4107, 0.003438958041210926), (4108, 0.0), (4109, 0.0), (4110, 0.006172694727898207), (4111, 0.0029365220280000394), (4112, 0.0), (4113, 0.0030294052349605616), (4114, 0.0), (4115, 0.0), (4116, 0.07660287355296988), (4117, 0.0031109428683758844), (4118, 0.008100192249874093), (4119, 0.005478563741008972), (4120, 0.005875100606336227), (4121, 0.014415046137778836), (4122, 0.009665808632462254), (4123, 0.016277642739995664), (4124, 0.014296240424190584), (4125, 0.0), (4126, 0.0032374954533168324), (4127, 0.0), (4128, 0.02489171277493791), (4129, 0.0026884448461544125), (4130, 0.002906727730862573), (4131, 0.0), (4132, 0.0030195587763054235), (4133, 0.008410853627485775), (4134, 0.017384685193068263), (4135, 0.0027814042550029067), (4136, 0.002782511349815603), (4137, 0.04467139339919699), (4138, 0.002961345495359784), (4139, 0.0028662991671761103), (4140, 0.0029300669026239854), (4141, 0.02881551104491568), (4142, 0.0034860852399904723), (4143, 0.0024904956302278535), (4144, 0.0), (4145, 0.003165124763381598), (4146, 0.0), (4147, 0.0032506480031883576), (4148, 0.012502368140347499), (4149, 0.01954939022105196), (4150, 0.0), (4151, 0.004643847118949849), (4152, 0.002546285613369156), (4153, 0.0), (4154, 0.00700875588038569), (4155, 0.00257340447698149), (4156, 0.0205993816152385), (4157, 0.0), (4158, 0.01012526798474465), (4159, 0.0), (4160, 0.0031563752715951174), (4161, 0.0028921808369508), (4162, 0.005826328946702089), (4163, 0.009363849053203862), (4164, 0.011119465554024238), (4165, 0.037845611459216756), (4166, 0.0), (4167, 0.0), (4168, 0.0), (4169, 0.0029538458121329283), (4170, 0.0), (4171, 0.001902245440965543), (4172, 0.003916350094467289), (4173, 0.0), (4174, 0.0024203544656623828), (4175, 0.0028981014922592964), (4176, 0.021817022766476672), (4177, 0.030628513801980534), (4178, 0.015599871213827183), (4179, 0.0), (4180, 0.0), (4181, 0.0), (4182, 0.007463314403727561), (4183, 0.002596003577831875), (4184, 0.0075707540675738726), (4185, 0.0), (4186, 0.0), (4187, 0.01133366395157355), (4188, 0.0), (4189, 0.02198116908780757), (4190, 0.0), (4191, 0.0), (4192, 0.009777386492948795), (4193, 0.004420770841591575), (4194, 0.0), (4195, 0.0), (4196, 0.007747535337058706), (4197, 0.002749817717547151), (4198, 0.0), (4199, 0.0), (4200, 0.0022002719957998867), (4201, 0.0), (4202, 0.0038847576511137553), (4203, 0.019903605585210406), (4204, 0.0), (4205, 0.008743118816604813), (4206, 0.002714806783698887), (4207, 0.0), (4208, 0.006590922570597286), (4209, 0.003274928004788639), (4210, 0.006905657290132833), (4211, 0.004799769138751565), (4212, 0.0), (4213, 0.002627329612701248), (4214, 0.0), (4215, 0.0), (4216, 0.011970202320401267), (4217, 0.006616562549247743), (4218, 0.0), (4219, 0.006612535713392759), (4220, 0.0023895637492620057), (4221, 0.003697649055969786), (4222, 0.00378161421724489), (4223, 0.0), (4224, 0.0), (4225, 0.0028638960951511932), (4226, 0.007672325873659238), (4227, 0.013715173075121236), (4228, 0.0026557552739605215), (4229, 0.0), (4230, 0.0036290047756388157), (4231, 0.017446153124423876), (4232, 0.00898396223445776), (4233, 0.00800500030285563), (4234, 0.0), (4235, 0.011389189733854319), (4236, 0.00644145385858186), (4237, 0.0), (4238, 0.0), (4239, 0.0), (4240, 0.00551349273727288), (4241, 0.0), (4242, 0.029687767427992874), (4243, 0.0032649424219172558), (4244, 0.017272430347976354), (4245, 0.0029541204072792166), (4246, 0.016707318676828408), (4247, 0.00235016804250386), (4248, 0.005010207294112782), (4249, 0.008023865532576365), (4250, 0.0), (4251, 0.005184765252445264), (4252, 0.06392160193580372), (4253, 0.0), (4254, 0.002613081767831706), (4255, 0.014644522231137418), (4256, 0.0), (4257, 0.009951033840742592), (4258, 0.0), (4259, 0.0029881726692101876), (4260, 0.0), (4261, 0.00552068619980894), (4262, 0.0028065482471791377), (4263, 0.002954704336681402), (4264, 0.004815761151486873), (4265, 0.012963224932138355), (4266, 0.0026854031258561665), (4267, 0.003136426069742934), (4268, 0.050825473134401375), (4269, 0.002889708232440821), (4270, 0.0), (4271, 0.0), (4272, 0.006561484220595689), (4273, 0.002783422708994234), (4274, 0.004469054479101703), (4275, 0.005219103826417682), (4276, 0.0), (4277, 0.002440611778510118), (4278, 0.0), (4279, 0.0), (4280, 0.0032109746477911845), (4281, 0.025097143836811015), (4282, 0.007127391906393768), (4283, 0.027432574105300617), (4284, 0.007713112324553205), (4285, 0.00563374167010761), (4286, 0.002842853558254549), (4287, 0.0027784591977438222), (4288, 0.023143949947773683), (4289, 0.00793177163900719), (4290, 0.00443021725798951), (4291, 0.0), (4292, 0.004737907709675753), (4293, 0.011641495352821347), (4294, 0.0), (4295, 0.0031041918083507935), (4296, 0.002455152958526992), (4297, 0.0), (4298, 0.0033560652273781602), (4299, 0.007290878476916705), (4300, 0.0), (4301, 0.00199329235146412), (4302, 0.0), (4303, 0.006796964558324849), (4304, 0.0027277522668624344), (4305, 0.0), (4306, 0.0034918841345175627), (4307, 0.005542327041959514), (4308, 0.0032419113510820086), (4309, 0.00754805276257733), (4310, 0.004914576174106465), (4311, 0.002218770165761345), (4312, 0.0053535822569213045), (4313, 0.0), (4314, 0.015885694438795638), (4315, 0.0), (4316, 0.0), (4317, 0.0), (4318, 0.002815989768876819), (4319, 0.0), (4320, 0.002683159891409205), (4321, 0.017843494400142303), (4322, 0.004455140924478213), (4323, 0.0), (4324, 0.0), (4325, 0.011772207766530353), (4326, 0.002697789824590356), (4327, 0.0), (4328, 0.004739662795305189), (4329, 0.0), (4330, 0.0026835487368271), (4331, 0.005851805302359267), (4332, 0.0), (4333, 0.0031696011157684497), (4334, 0.0028155150910814893), (4335, 0.008623452602550529), (4336, 0.009292115351063645), (4337, 0.013079805232792141), (4338, 0.0), (4339, 0.004472951910066755), (4340, 0.0027681195080749552), (4341, 0.0), (4342, 0.006374627759972044), (4343, 0.002427868554944393), (4344, 0.012254233217671065), (4345, 0.0025237316852747354), (4346, 0.0), (4347, 0.0), (4348, 0.002541242745033354), (4349, 0.019050784405897473), (4350, 0.002429703455979264), (4351, 0.007791391236727807), (4352, 0.0), (4353, 0.0), (4354, 0.002974234237115305), (4355, 0.002933456087397724), (4356, 0.00277257105954486), (4357, 0.0028124949990214173), (4358, 0.0), (4359, 0.002417513005445976), (4360, 0.004939912502929826), (4361, 0.002782442592908493), (4362, 0.039374748011106304), (4363, 0.0028318689284033863), (4364, 0.0), (4365, 0.004344940088681678), (4366, 0.011030335572294277), (4367, 0.006946418100893621), (4368, 0.003014639174351355), (4369, 0.0030513278734676653), (4370, 0.0), (4371, 0.01036901720365142), (4372, 0.0), (4373, 0.00520987274745142), (4374, 0.014142345472894741), (4375, 0.09589532295380371), (4376, 0.004929628537508014), (4377, 0.005310754345664895), (4378, 0.04737821897092004), (4379, 0.016455604264109875), (4380, 0.020610134795919194), (4381, 0.002689778294654342), (4382, 0.0210107458939594), (4383, 0.004967619089159918), (4384, 0.005329673377045091), (4385, 0.005992752408553769), (4386, 0.0028181134367383552), (4387, 0.014703982895681747), (4388, 0.00711063821552157), (4389, 0.06413780915940796), (4390, 0.007835262199796095), (4391, 0.002722833927597083), (4392, 0.005171983740926261), (4393, 0.0), (4394, 0.0026440005757963985), (4395, 0.02407542203103893), (4396, 0.03875135824268226), (4397, 0.003159081389865394), (4398, 0.023599947117331425), (4399, 0.01841583907586671), (4400, 0.003452554167442551), (4401, 0.0030041762020776314), (4402, 0.03307301082244536), (4403, 0.041732813668426884), (4404, 0.0), (4405, 0.0), (4406, 0.0), (4407, 0.0035783153506358696), (4408, 0.0), (4409, 0.002673427142967511), (4410, 0.0), (4411, 0.002335692946010294), (4412, 0.009688502239254538), (4413, 0.0), (4414, 0.0), (4415, 0.0), (4416, 0.0032582332980721994), (4417, 0.0), (4418, 0.003544292327067603), (4419, 0.0028810059262564026), (4420, 0.0028879548791289717), (4421, 0.0), (4422, 0.0027776102709331364), (4423, 0.0038105005677595578), (4424, 0.0), (4425, 0.0), (4426, 0.00421160642704536), (4427, 0.0026962158791624556), (4428, 0.0026947331481523094), (4429, 0.0024648699778797843), (4430, 0.007998075886033051), (4431, 0.00808065529085238), (4432, 0.006589000546618654), (4433, 0.0), (4434, 0.0), (4435, 0.01057865584621142), (4436, 0.02117369486049031), (4437, 0.0), (4438, 0.004932975769049727), (4439, 0.0), (4440, 0.019217766794533776), (4441, 0.00474524915548965), (4442, 0.009929164050483302), (4443, 0.041759896412576075), (4444, 0.009916958314898264), (4445, 0.0020452001389659265), (4446, 0.003012327498272609), (4447, 0.0), (4448, 0.0028767034057088445), (4449, 0.0), (4450, 0.02888752808060556), (4451, 0.0), (4452, 0.0), (4453, 0.0), (4454, 0.0), (4455, 0.0), (4456, 0.04746716275003289), (4457, 0.0), (4458, 0.003440094127212236), (4459, 0.006624127724798918), (4460, 0.0), (4461, 0.002741714389566004), (4462, 0.0057167367593981225), (4463, 0.0), (4464, 0.006320959879486671), (4465, 0.020018164388019878), (4466, 0.022055942771351596), (4467, 0.007195390280931622), (4468, 0.004596674744408476), (4469, 0.012845085541883152), (4470, 0.008099194308814688), (4471, 0.0031332926631993186), (4472, 0.00260905211106804), (4473, 0.002335660720638392), (4474, 0.01565301528597504), (4475, 0.014988002859020872), (4476, 0.0022490271866413575), (4477, 0.012336724333158739), (4478, 0.0), (4479, 0.0024482773951467218), (4480, 0.0), (4481, 0.01225912041082176), (4482, 0.016002727273282228), (4483, 0.0), (4484, 0.0036518046535755247), (4485, 0.0), (4486, 0.014860666776688132), (4487, 0.0027079108315862114), (4488, 0.04251447972946674), (4489, 0.002854189250971617), (4490, 0.009201904502343223), (4491, 0.0), (4492, 0.02094949185644114), (4493, 0.0), (4494, 0.008789505730796543), (4495, 0.003300391106236915), (4496, 0.0), (4497, 0.002901881891605188), (4498, 0.0), (4499, 0.0), (4500, 0.0), (4501, 0.0028023489793725697), (4502, 0.00931037113167502), (4503, 0.015369079706475115), (4504, 0.01855608942510544), (4505, 0.002866020434398259), (4506, 0.0), (4507, 0.003016081794425967), (4508, 0.0), (4509, 0.0), (4510, 0.013261228788773276), (4511, 0.009435792372564977), (4512, 0.014965350408305628), (4513, 0.004109924538524188), (4514, 0.0058882354725458925), (4515, 0.005356330504885409), (4516, 0.0031085862526318026), (4517, 0.008896837396301954), (4518, 0.005944821745864691), (4519, 0.0), (4520, 0.0027623245025299205), (4521, 0.0033893186287036353), (4522, 0.008585744941658651), (4523, 0.007969077616030504), (4524, 0.013990142279034582), (4525, 0.0), (4526, 0.0), (4527, 0.006743595263065055), (4528, 0.002962058674532962), (4529, 0.003741560948181169), (4530, 0.0027134175768348365), (4531, 0.017049304111417554), (4532, 0.0), (4533, 0.03583304119341953), (4534, 0.023383658487962873), (4535, 0.003003076414756512), (4536, 0.002569001629293616), (4537, 0.0064245857737728965), (4538, 0.0), (4539, 0.0), (4540, 0.0029254669628219674), (4541, 0.0), (4542, 0.0), (4543, 0.012279797254316473), (4544, 0.0035486470141683677), (4545, 0.002951758619428108), (4546, 0.010865048109803575), (4547, 0.0), (4548, 0.004687151402896538), (4549, 0.0), (4550, 0.002697574591077018), (4551, 0.01118181088390162), (4552, 0.005077178320171019), (4553, 0.010793310885327406), (4554, 0.026996862468072542), (4555, 0.004235072587935989), (4556, 0.0), (4557, 0.00798169556115084), (4558, 0.0), (4559, 0.0), (4560, 0.0), (4561, 0.0), (4562, 0.0), (4563, 0.0027818722617942064), (4564, 0.00674394538443272), (4565, 0.0), (4566, 0.002986038642189152), (4567, 0.002635548069442632), (4568, 0.0), (4569, 0.0), (4570, 0.0), (4571, 0.004354381453357534), (4572, 0.003642486810579191), (4573, 0.002830634136279122), (4574, 0.002859218172629217), (4575, 0.0029933569218187996), (4576, 0.013949402969075004), (4577, 0.0), (4578, 0.0), (4579, 0.00811116283165044), (4580, 0.0), (4581, 0.007511603831605697), (4582, 0.004335752879186332), (4583, 0.01679010842913209), (4584, 0.0032279170737140113), (4585, 0.004654658271420144), (4586, 0.005215298596351292), (4587, 0.00465959033766861), (4588, 0.0431890945587411), (4589, 0.003097247731618257), (4590, 0.032001652535659855), (4591, 0.007036930059644253), (4592, 0.0), (4593, 0.008803316390779406), (4594, 0.0031488529222765253), (4595, 0.005607974522780999), (4596, 0.012111832345312481), (4597, 0.0), (4598, 0.002367300336725931), (4599, 0.0), (4600, 0.0), (4601, 0.00832443461480984), (4602, 0.03450107774602842), (4603, 0.00925140109576372), (4604, 0.0027496457096441687), (4605, 0.01084851403757478), (4606, 0.003570737188798217), (4607, 0.003963545021425484), (4608, 0.024238935301720898), (4609, 0.0), (4610, 0.014354924402223659), (4611, 0.003651531176562598), (4612, 0.010094589663846742), (4613, 0.0), (4614, 0.10136993293852553), (4615, 0.0), (4616, 0.0024950157677912613), (4617, 0.014482024838647543), (4618, 0.0), (4619, 0.01192833508856722), (4620, 0.0024479131546816133), (4621, 0.005162202098004721), (4622, 0.0), (4623, 0.012452261931955203), (4624, 0.007893000974520996), (4625, 0.0030404586854447043), (4626, 0.0022067899033633705), (4627, 0.01599123391754473), (4628, 0.0), (4629, 0.007869396141479714), (4630, 0.005499217697716661), (4631, 0.0), (4632, 0.003383272682578894), (4633, 0.003198528926385699), (4634, 0.002545617782407321), (4635, 0.0), (4636, 0.0022731369094161308), (4637, 0.020313727014724257), (4638, 0.0026909159900985083), (4639, 0.005177632440466434), (4640, 0.018831088035825873), (4641, 0.03664407202674039), (4642, 0.006043108602984737), (4643, 0.0027631037434989983), (4644, 0.0), (4645, 0.0), (4646, 0.006655647482971206), (4647, 0.0), (4648, 0.0), (4649, 0.00867929728405084), (4650, 0.00314067014544333), (4651, 0.0), (4652, 0.008410177902145361), (4653, 0.006043349678491101), (4654, 0.0), (4655, 0.0), (4656, 0.00831251630541158), (4657, 0.002916902811045991), (4658, 0.021141276147637604), (4659, 0.027721055079003677), (4660, 0.009837577908689433), (4661, 0.006858290270400794), (4662, 0.0), (4663, 0.007766580110832906), (4664, 0.009611478282729709), (4665, 0.004876435544692742), (4666, 0.006748943053558988), (4667, 0.0), (4668, 0.0323082128996987), (4669, 0.016714317559134176), (4670, 0.007521154654388736), (4671, 0.0), (4672, 0.0), (4673, 0.01449499178501552), (4674, 0.006142895195921323), (4675, 0.0), (4676, 0.0), (4677, 0.00763400740869968), (4678, 0.004974782091366585), (4679, 0.02240717973247475), (4680, 0.0029780309867923744), (4681, 0.0), (4682, 0.051912387794619236), (4683, 0.0), (4684, 0.028800040934365733), (4685, 0.010312318387021164), (4686, 0.00273434171327431), (4687, 0.0026302611237204302), (4688, 0.0), (4689, 0.045695681583211085), (4690, 0.0), (4691, 0.006841357796246609), (4692, 0.0033925218414308355), (4693, 0.002837335179087639), (4694, 0.0032134181798250815), (4695, 0.012627911422915212), (4696, 0.003715067966057699), (4697, 0.004658557351076138), (4698, 0.006013149503810719), (4699, 0.008702301083606093), (4700, 0.0), (4701, 0.02845833951800757), (4702, 0.0), (4703, 0.0363340850204913), (4704, 0.00386889904008929), (4705, 0.004109410870457354), (4706, 0.0029724415065924305), (4707, 0.00879228648666142), (4708, 0.004923064007013796), (4709, 0.01807951327274257), (4710, 0.00977539798615822), (4711, 0.0), (4712, 0.0025479881835590206), (4713, 0.003224955752546287), (4714, 0.0), (4715, 0.00793116471968743), (4716, 0.0), (4717, 0.003599501745140911), (4718, 0.003097265438744727), (4719, 0.005016746410301034), (4720, 0.0), (4721, 0.04126792709769691), (4722, 0.021140464477341143), (4723, 0.0033633729703497956), (4724, 0.019389151595300944), (4725, 0.0), (4726, 0.006113107720235318), (4727, 0.035858714471591946), (4728, 0.0), (4729, 0.0026473579931370343), (4730, 0.0), (4731, 0.028876790827350854), (4732, 0.0029602462701576113), (4733, 0.006371715653556765), (4734, 0.002942436354421808), (4735, 0.01806178574897653), (4736, 0.0), (4737, 0.0), (4738, 0.007103098826443474), (4739, 0.03371743291906054), (4740, 0.0), (4741, 0.0), (4742, 0.0), (4743, 0.002630656427480309), (4744, 0.002338239553388683), (4745, 0.0), (4746, 0.005682542391565403), (4747, 0.014420786955276628), (4748, 0.008372805855194218), (4749, 0.0035745292133356693), (4750, 0.0), (4751, 0.0), (4752, 0.001891745174800094), (4753, 0.003824839375214665), (4754, 0.0), (4755, 0.0), (4756, 0.002828548560308829), (4757, 0.00837149574203708), (4758, 0.0), (4759, 0.0)]\n"
          ]
        }
      ]
    },
    {
      "cell_type": "code",
      "source": [
        "len(Recommendation_Score)"
      ],
      "metadata": {
        "colab": {
          "base_uri": "https://localhost:8080/"
        },
        "id": "nCRHVHKIvzKD",
        "outputId": "c108547a-cf7b-44c6-913e-f4f60c6f0f4c"
      },
      "execution_count": null,
      "outputs": [
        {
          "output_type": "execute_result",
          "data": {
            "text/plain": [
              "4760"
            ]
          },
          "metadata": {},
          "execution_count": 83
        }
      ]
    },
    {
      "cell_type": "code",
      "source": [
        "Sorted_Similar_Movies= sorted(Recommendation_Score,key=lambda x:x[1], reverse=True)\n",
        "print(Sorted_Similar_Movies)"
      ],
      "metadata": {
        "colab": {
          "base_uri": "https://localhost:8080/"
        },
        "id": "qHX_N5cZv5ir",
        "outputId": "873888bc-f6ea-4d8c-ee63-94105e821ac3"
      },
      "execution_count": null,
      "outputs": [
        {
          "output_type": "stream",
          "name": "stdout",
          "text": [
            "[(2692, 1.0000000000000007), (3276, 0.13782620175827817), (3779, 0.11059995873590034), (2903, 0.10734902250595194), (4614, 0.10136993293852553), (1647, 0.0995036752406058), (1070, 0.09649789650498664), (4375, 0.09589532295380371), (45, 0.09414497223074919), (1383, 0.09154258478712948), (110, 0.0902773662687555), (628, 0.08770569629406248), (2558, 0.08758690601676822), (1994, 0.08722724139356541), (1341, 0.08111716711811959), (3465, 0.08020140611812662), (3053, 0.0798482171064467), (1977, 0.07968516653104613), (1982, 0.07759822735858993), (4116, 0.07660287355296988), (3248, 0.07648202973093282), (3480, 0.0708537717538835), (2538, 0.07060881234512183), (62, 0.06941711943881074), (3946, 0.0690524214888909), (1886, 0.06715693917496049), (2112, 0.0670341713694599), (675, 0.06627793849089327), (254, 0.06576406967301204), (590, 0.06556912950676472), (1118, 0.06555514114549138), (84, 0.0654248914091692), (4389, 0.06413780915940796), (3854, 0.06398886758768003), (1021, 0.06393586231599901), (4252, 0.06392160193580372), (1134, 0.06390649862971409), (4062, 0.06343967112686763), (2318, 0.06224633646528957), (3385, 0.062217290964137854), (3462, 0.06180589054329034), (3728, 0.059992594728246106), (2985, 0.059397843400724515), (1243, 0.058110246150312864), (1809, 0.056770832719087616), (2944, 0.05584071448278763), (227, 0.05556940664265922), (2026, 0.05550488714542792), (292, 0.055398181611169744), (137, 0.05537667258789335), (479, 0.05512707036648731), (1030, 0.05490972082289958), (2191, 0.05412245155647355), (213, 0.05411035995648256), (873, 0.054044352355894845), (1148, 0.053946879838716655), (877, 0.05385239939741954), (3655, 0.05380090551648941), (3360, 0.05378726863900754), (3203, 0.053781892735298355), (1102, 0.053632722899315116), (2133, 0.05341955503718297), (2630, 0.053170277210815665), (2294, 0.05251031510567413), (519, 0.05209484927228217), (2579, 0.052030540880709165), (4682, 0.051912387794619236), (2214, 0.051871430669248035), (3374, 0.050873485596780926), (4268, 0.050825473134401375), (3974, 0.05077711086071781), (2374, 0.05023286410088901), (2550, 0.050187465596476744), (2893, 0.04957578594738974), (2248, 0.04957016681988914), (904, 0.04943440760698531), (1023, 0.04934057620996331), (2653, 0.0488110576267555), (637, 0.04865918150672539), (3023, 0.048477939286194816), (3294, 0.04829586845465156), (615, 0.04819981584933456), (3945, 0.04795806555683132), (3793, 0.047851420833820824), (3408, 0.04778656207073858), (2151, 0.04773358012909177), (3552, 0.04756511939617036), (4456, 0.04746716275003289), (2846, 0.04738562011403036), (4378, 0.04737821897092004), (67, 0.04728755182805107), (2694, 0.047193731411876036), (3753, 0.04717270122923457), (1302, 0.04711755755270755), (682, 0.04678205020072265), (412, 0.046769439046480954), (1821, 0.04651883443719055), (408, 0.04645078429591192), (1292, 0.04631041071103935), (1248, 0.04624536267653864), (3518, 0.04620681314142651), (1358, 0.04611758771852059), (438, 0.045976079539731575), (4689, 0.045695681583211085), (3427, 0.045525191680683474), (1203, 0.045513026238276126), (328, 0.045372557356797016), (277, 0.04519378176673224), (89, 0.045003408520807205), (4023, 0.04481984316675016), (3249, 0.04480966938522242), (4137, 0.04467139339919699), (1369, 0.04456299565583309), (455, 0.04432226352867556), (210, 0.044151568259118604), (1675, 0.04408708703903948), (1393, 0.04398599035125886), (1506, 0.04395859342344712), (3973, 0.04382255565990696), (185, 0.04378711050162967), (172, 0.04374050934306399), (1850, 0.04357900069660235), (632, 0.04351862680472636), (360, 0.04332898110125079), (1871, 0.04322560732813305), (2321, 0.04320786333958419), (4588, 0.0431890945587411), (3955, 0.04308013123326209), (3209, 0.04304854940223059), (3947, 0.04295044651612451), (2869, 0.04287412728988955), (2155, 0.04279096645926061), (1320, 0.0426026041146139), (4488, 0.04251447972946674), (1024, 0.04224823333273439), (3652, 0.041963557506469615), (4443, 0.041759896412576075), (2859, 0.041736019636999355), (4403, 0.041732813668426884), (1527, 0.04157137511802351), (44, 0.041521730937745915), (109, 0.041514733088147564), (4721, 0.04126792709769691), (1085, 0.0408386932352384), (788, 0.040630914982626054), (3362, 0.04061072781826692), (2187, 0.04026667334324364), (2308, 0.04015214632743371), (108, 0.040131305664981826), (126, 0.04010611854860763), (1991, 0.03981982266073059), (1241, 0.03955033072802411), (2540, 0.039530523874720974), (4362, 0.039374748011106304), (2316, 0.03902855723151007), (2212, 0.03900798543366601), (3486, 0.03894537415013299), (174, 0.0389450705249326), (4005, 0.03884953295477721), (2622, 0.03881761277012938), (4396, 0.03875135824268226), (2375, 0.03862749161110206), (3498, 0.03861728398894457), (3280, 0.03845606265977272), (2868, 0.03834729885195355), (3127, 0.03831053593967976), (1676, 0.03818657883938868), (3731, 0.03811432261081519), (3470, 0.03805960473708499), (2716, 0.03803621205996803), (710, 0.03796109336413333), (3004, 0.03792321578943982), (911, 0.03791667196272233), (2365, 0.03788867136704277), (4165, 0.037845611459216756), (3463, 0.0377003839693843), (694, 0.0373543234253592), (1272, 0.037316918736251904), (3045, 0.03731095166311895), (2981, 0.037225328398700915), (138, 0.03711817326919062), (540, 0.03705495477179746), (3983, 0.036977562837552165), (3102, 0.03695349756952504), (3255, 0.03678975362526137), (3430, 0.036685057784235774), (4641, 0.03664407202674039), (818, 0.03663320214176731), (3850, 0.036607828810269964), (2807, 0.03654292582953055), (1379, 0.0365198498876469), (1146, 0.0364664646075088), (3330, 0.036424528339583005), (1885, 0.03636112910697628), (4703, 0.0363340850204913), (830, 0.03631482484500998), (1389, 0.0363090789888299), (1311, 0.03627655439114377), (1195, 0.03627642908561489), (282, 0.0362727604885692), (547, 0.036264991220693425), (2123, 0.03621582633799454), (2908, 0.036171232009496776), (1063, 0.03604141148142953), (721, 0.03602750407051586), (1367, 0.03599133292713373), (1568, 0.035960454275774725), (3351, 0.0359473803535639), (4727, 0.035858714471591946), (4533, 0.03583304119341953), (3556, 0.03562654159960805), (2122, 0.03550413004422954), (2082, 0.035450401688725874), (578, 0.03531992918725892), (3656, 0.03519496169765537), (3466, 0.03508946589088055), (761, 0.035027383566040675), (424, 0.03477494861938141), (3137, 0.03473465669724108), (2413, 0.03454644925972651), (3146, 0.0345140403195562), (4602, 0.03450107774602842), (3961, 0.034460742812585494), (1464, 0.03441629153762362), (3377, 0.03440347630057343), (2517, 0.034124756754201124), (2751, 0.03406435843711106), (2147, 0.033990846857105454), (387, 0.03398072385509242), (2782, 0.033891399126306156), (2710, 0.033844820759631494), (618, 0.033843179602604384), (166, 0.033735226497851344), (812, 0.033726019428423314), (4739, 0.03371743291906054), (334, 0.03359597669662011), (1976, 0.03355967283750174), (864, 0.03354889943036747), (250, 0.033464357347368384), (935, 0.033417511295309635), (1648, 0.03340861219408918), (3157, 0.033390560629599095), (3376, 0.033287796121738475), (65, 0.03319096801568383), (4402, 0.03307301082244536), (3017, 0.03300450207743695), (2706, 0.03287365196085235), (2723, 0.03276522322830751), (1068, 0.032702870142750834), (3488, 0.03266294483849252), (179, 0.03264523973060375), (430, 0.0326246427857821), (2198, 0.032600956928981524), (3720, 0.03252675051960925), (1750, 0.032504354109636174), (2023, 0.03245621994272091), (2621, 0.03244584340147395), (4668, 0.0323082128996987), (3767, 0.03224401768155681), (903, 0.03220888505839557), (3597, 0.032168511802398395), (2037, 0.03208065617331832), (1868, 0.03207077730996471), (2887, 0.032035974232897294), (3572, 0.03202375198969932), (4590, 0.032001652535659855), (593, 0.03196735811335836), (1398, 0.03192530537235768), (2876, 0.03189912090084324), (4004, 0.0317359833284507), (2014, 0.03162882846293175), (1173, 0.03162388786724102), (3605, 0.03146396183359832), (629, 0.03143649191913103), (1043, 0.03140327094794865), (112, 0.03137279197827057), (1795, 0.031141361120471465), (530, 0.031139675477405038), (2114, 0.03106377768596248), (952, 0.0309310103055984), (384, 0.030879223215803615), (240, 0.030845370832029217), (284, 0.030802609245762), (176, 0.030799590509277556), (1095, 0.030731863315902632), (4035, 0.03072472887016313), (1059, 0.030714702062315778), (2443, 0.030697271256942743), (4177, 0.030628513801980534), (193, 0.030627937058345114), (1788, 0.03056261517920356), (2102, 0.03050467676664399), (1137, 0.03036539268794916), (1046, 0.03034297765687441), (670, 0.03033882910663223), (1405, 0.03032546342498925), (421, 0.03029402142336627), (2971, 0.030261898081989074), (3751, 0.03026072627972789), (1990, 0.030227568874069854), (3871, 0.030186426059864515), (2481, 0.030184226227475488), (1363, 0.030151293348842104), (2687, 0.03004110853295342), (976, 0.029913014314403803), (3420, 0.0298924284572133), (3260, 0.029850213465920674), (465, 0.029816046643492685), (3156, 0.029811755751118472), (2487, 0.0297795192973436), (3904, 0.029773331554875444), (2920, 0.02976651348680841), (3574, 0.0297412190714264), (4104, 0.029702522074105703), (4242, 0.029687767427992874), (1162, 0.029685559032109534), (2221, 0.029670720155306293), (3313, 0.02964219349267792), (836, 0.029640172102037492), (371, 0.02960821971236855), (2013, 0.029370632792762898), (3959, 0.029321390706299605), (1970, 0.02921753332686175), (1720, 0.029191589353576897), (3852, 0.029032076888762297), (3344, 0.028975192499517785), (2467, 0.02896311342959658), (2791, 0.028928434983150342), (4450, 0.02888752808060556), (4731, 0.028876790827350854), (1845, 0.02884515361468526), (1500, 0.028832971820235392), (4141, 0.02881551104491568), (4684, 0.028800040934365733), (1999, 0.028711170458422548), (3447, 0.02860699821707239), (4701, 0.02845833951800757), (1847, 0.028453748864352202), (1749, 0.028448409511227603), (459, 0.028447389375508846), (25, 0.028432570725615676), (3428, 0.028426703117531902), (2154, 0.02835489174856332), (1721, 0.028012971063078863), (3559, 0.027997182558118373), (3154, 0.027990167848274124), (1314, 0.02777157109440167), (4659, 0.027721055079003677), (885, 0.02770587475162135), (3167, 0.02765661159036722), (3684, 0.027624033850366523), (2276, 0.027562282511030777), (2484, 0.027554842292087815), (832, 0.027524730956745774), (2762, 0.02748972248356283), (4283, 0.027432574105300617), (1572, 0.027426925462313345), (2020, 0.027415481649407356), (1763, 0.027402201494469744), (4554, 0.026996862468072542), (1186, 0.026972731772030377), (967, 0.02690675076358401), (381, 0.026899435925105207), (2094, 0.026870036120039766), (3010, 0.026784977217846083), (3285, 0.026679405511854302), (2011, 0.02650986008691479), (3868, 0.026487701382518526), (2932, 0.026387986718523992), (4053, 0.026352708898262012), (1351, 0.02631831917644157), (3450, 0.026297294136969154), (3692, 0.026269625772418204), (2689, 0.026217901569259367), (124, 0.026140421535758185), (3711, 0.026127548753493827), (269, 0.025931112152694908), (3801, 0.025928033251310753), (3810, 0.0259252066445199), (345, 0.025925175145546958), (398, 0.02580279667934601), (2449, 0.025776479290535604), (657, 0.025708535402621545), (1544, 0.025638813444051188), (824, 0.0256066841316988), (116, 0.025599807860292777), (2157, 0.025455531797907115), (1935, 0.025367718728908355), (2638, 0.025296946107150105), (917, 0.025288984646527273), (3913, 0.02527195414087234), (2096, 0.025260699430304318), (672, 0.025187938915964058), (2560, 0.025129597485833727), (4281, 0.025097143836811015), (942, 0.02502916441762101), (3153, 0.02498571117157187), (3446, 0.024983503813860813), (2649, 0.02497612157547651), (1283, 0.024963609836076556), (4128, 0.02489171277493791), (1412, 0.024820574526561067), (4050, 0.024814225490992492), (3835, 0.024737303077291332), (1757, 0.024684003392568852), (1585, 0.02466465242404604), (2718, 0.024635840105959376), (1865, 0.024555523831812275), (175, 0.024535533919935917), (1397, 0.0245129618207372), (29, 0.024432260963824757), (1997, 0.024348279173501543), (1652, 0.024321681167142235), (691, 0.0242880545202417), (4608, 0.024238935301720898), (2040, 0.02423361786171478), (3095, 0.024146753327643416), (1015, 0.024134925936145704), (3839, 0.024129612315753335), (3679, 0.024110137403365), (1098, 0.024109585977200414), (2647, 0.024109416519683964), (4395, 0.02407542203103893), (15, 0.02403295286645154), (261, 0.02397762669337418), (68, 0.02392684348625158), (706, 0.02391800585559915), (1141, 0.023703490144119564), (3778, 0.023681146736359834), (3483, 0.023612091983862975), (4398, 0.023599947117331425), (1362, 0.023586988098601224), (515, 0.023463506153529105), (1515, 0.023417305518046615), (3433, 0.02339452931177688), (4534, 0.023383658487962873), (3083, 0.02334196159393063), (3319, 0.02333593611151288), (1505, 0.02329645736388349), (1657, 0.02326308293485873), (613, 0.0232617708679708), (1996, 0.02323165257405081), (1492, 0.023175858782606418), (3345, 0.02315098439190615), (88, 0.023148903939415114), (4288, 0.023143949947773683), (2210, 0.023098780555808305), (3923, 0.02308613472479998), (2777, 0.023016096290517495), (1707, 0.022995235313530402), (3384, 0.02295180965837345), (2646, 0.022857824273470027), (2440, 0.022853093534545267), (3978, 0.02278571315048689), (2668, 0.022713297982763905), (1861, 0.022658254114756658), (2598, 0.022498333485115242), (1817, 0.022467426429121043), (1629, 0.022426951848696905), (442, 0.022415585435872812), (4679, 0.02240717973247475), (1270, 0.022400363946959875), (2768, 0.022275425422446652), (1942, 0.022265405146106865), (3492, 0.022263078569381686), (1033, 0.022261424609337117), (1003, 0.022233251947110032), (2808, 0.022148794647547234), (4016, 0.022139544615380556), (1671, 0.02211526793708851), (142, 0.02210574848384291), (3665, 0.022085957244865506), (4466, 0.022055942771351596), (1985, 0.022014049470547782), (2174, 0.021997073914225417), (1678, 0.021991651349687384), (4189, 0.02198116908780757), (383, 0.02195950476174933), (3469, 0.021915588398134477), (2018, 0.021909430088113174), (3927, 0.021898764289096186), (947, 0.021875042535615605), (3222, 0.02185933316131199), (763, 0.021859260907643358), (4176, 0.021817022766476672), (2885, 0.021786620972784408), (199, 0.021739546136829824), (2501, 0.021729165843464557), (1017, 0.02163076230676044), (3553, 0.02162955596659638), (2055, 0.02161600007331046), (3352, 0.02156642229116836), (3934, 0.02154029905645136), (3471, 0.02152007020077082), (2767, 0.021468909017312163), (2301, 0.021457573050328586), (1261, 0.021439823285180747), (3857, 0.02142553352871015), (1510, 0.02140638859320264), (1257, 0.02135486086744599), (1385, 0.02127363993998776), (870, 0.021255607812822187), (3144, 0.021180256473074675), (4436, 0.02117369486049031), (1132, 0.021161269924824422), (779, 0.021154179519604605), (4658, 0.021141276147637604), (4722, 0.021140464477341143), (3504, 0.02109969781633249), (1471, 0.021094822165224493), (1838, 0.02103923882084433), (4382, 0.0210107458939594), (643, 0.020967297344354964), (2524, 0.020966657579081498), (2995, 0.0209646306730937), (330, 0.02095461834505779), (4492, 0.02094949185644114), (2736, 0.020918039947118473), (2582, 0.0209159767275463), (1927, 0.020915901599844536), (2760, 0.020911631390063322), (3508, 0.0208936041049076), (2362, 0.020870027769328413), (4007, 0.020815625641233446), (329, 0.02080689984620876), (2645, 0.020750543444103847), (2368, 0.020654309454717894), (4380, 0.020610134795919194), (4156, 0.0205993816152385), (1052, 0.02058508845054551), (2867, 0.020525033198379845), (463, 0.02046902490681985), (858, 0.02045628294646932), (2841, 0.020415220312736675), (4012, 0.020373830587506723), (4637, 0.020313727014724257), (669, 0.02029407373685469), (4028, 0.02028000248584977), (145, 0.020188425235032247), (2618, 0.020142382650579316), (4088, 0.02012250459520773), (4465, 0.020018164388019878), (204, 0.01998593442778962), (1384, 0.019930997608666866), (83, 0.01990478885858127), (4203, 0.019903605585210406), (3111, 0.019891711823873007), (3853, 0.019888312121367865), (1202, 0.019869938116216648), (3284, 0.01985469819613997), (2469, 0.019851321565515993), (1386, 0.01982380313412527), (566, 0.019819237992301352), (3828, 0.019812625600890692), (1872, 0.01980654531738272), (3097, 0.019801315564882363), (3403, 0.019746162937810244), (968, 0.01970844556704408), (768, 0.01969599503124927), (2650, 0.01967327089480856), (1443, 0.01965612745901213), (1064, 0.019611489190824352), (689, 0.019594124643429273), (3000, 0.01955592789389505), (4149, 0.01954939022105196), (2207, 0.019526197789636077), (2237, 0.019526136053126742), (2795, 0.019522049527311833), (3766, 0.019519986156590674), (33, 0.01943428784544687), (553, 0.019431752326439428), (1937, 0.01939814321953163), (4724, 0.019389151595300944), (3416, 0.019366690340282953), (2607, 0.019364560145703237), (46, 0.0193593721273893), (123, 0.01935554227917092), (1843, 0.019269086830771002), (2513, 0.01922133719566714), (4440, 0.019217766794533776), (2745, 0.01920872580817498), (2167, 0.019190027792765338), (3395, 0.019177327599811084), (1074, 0.019138041210609802), (364, 0.019122518733694544), (1175, 0.019082546462175824), (160, 0.019073659003556512), (757, 0.01905978257238178), (4349, 0.019050784405897473), (2119, 0.01904078991393383), (1226, 0.01888965389588337), (2070, 0.018862551680266255), (2823, 0.018841053056860724), (3019, 0.018838035215202407), (1129, 0.018836027290515048), (4640, 0.018831088035825873), (4081, 0.01879998043699029), (147, 0.018795669903509567), (1365, 0.018787490754916446), (2093, 0.018781171104901368), (1112, 0.018765584132540272), (3875, 0.01876168137003569), (808, 0.018747571179007355), (2035, 0.018732950884802497), (2712, 0.018728875529138354), (3226, 0.018699311146684917), (222, 0.018697723420209006), (2553, 0.018615393272908624), (3091, 0.01861049130165183), (342, 0.01857323283318341), (4504, 0.01855608942510544), (929, 0.01855358466036272), (1274, 0.01852792922811582), (2110, 0.018523621328645604), (3528, 0.018472708896063717), (106, 0.0184313961921411), (4399, 0.01841583907586671), (796, 0.018384469404964285), (203, 0.018383391829206352), (61, 0.018374506168127795), (1245, 0.01833376554268808), (1579, 0.01831475032939249), (1493, 0.018281232182485747), (3085, 0.018204727508749192), (3275, 0.018199941668297612), (3675, 0.01816999118207686), (638, 0.01816141414701087), (4709, 0.01807951327274257), (776, 0.018072097786880285), (3279, 0.018065639317306478), (4735, 0.01806178574897653), (3976, 0.018042700795007704), (2742, 0.01798639025637548), (1759, 0.017985019393292796), (144, 0.01798477190583769), (3129, 0.017955178295058754), (3228, 0.017948903544803524), (1878, 0.017941230909804), (3036, 0.017939374876117197), (173, 0.017936131782277133), (2258, 0.017922860991974092), (2654, 0.017876005011541286), (3098, 0.017851931416149398), (916, 0.017848855236610058), (4321, 0.017843494400142303), (794, 0.01783095066695226), (409, 0.017830751005354965), (1403, 0.01782672893163241), (795, 0.01781494962553163), (2149, 0.017797058740717436), (212, 0.01778687937532981), (3883, 0.017721677098662167), (21, 0.017712255977826958), (209, 0.017704272977740295), (2406, 0.01767690751541661), (511, 0.017632220800499802), (1609, 0.01760935238004992), (937, 0.017608376815381733), (1275, 0.01757157765881024), (677, 0.017566346781535087), (3213, 0.017550975213619535), (279, 0.017550082264836148), (1377, 0.017495855115641605), (2229, 0.017490253853152924), (3640, 0.01746352281319046), (860, 0.01746047719773529), (4231, 0.017446153124423876), (3043, 0.017442328032789656), (4134, 0.017384685193068263), (2161, 0.017366347117232384), (1184, 0.017322709452602177), (551, 0.01727928380449316), (2290, 0.01727479688688186), (4244, 0.017272430347976354), (1716, 0.017260100984540637), (2347, 0.017223920790510924), (433, 0.017199227429045016), (1254, 0.017196875407703916), (3012, 0.017187534342646305), (533, 0.017162889356759116), (876, 0.01713433776194761), (218, 0.017080322892404774), (2917, 0.017049992552536582), (4531, 0.017049304111417554), (1445, 0.01701452000213296), (2275, 0.01699245123818418), (1216, 0.016979746732892872), (280, 0.016960812322225433), (1417, 0.016923489373068454), (888, 0.016878460142679182), (1115, 0.01686943988920194), (853, 0.016859780897458494), (458, 0.016832748256695618), (48, 0.01682894199269297), (1361, 0.01679432610349771), (4583, 0.01679010842913209), (701, 0.016782173046901248), (3642, 0.016770593953011968), (1045, 0.016770590218080108), (3694, 0.01676683325273739), (1018, 0.016763602176936274), (3421, 0.01675252727228598), (481, 0.016747191903394583), (343, 0.016746192107410643), (3541, 0.01673612078751562), (2353, 0.016727975043683438), (4669, 0.016714317559134176), (4246, 0.016707318676828408), (3661, 0.016676434823308606), (2254, 0.01667026357287405), (1325, 0.016650125325522167), (3299, 0.0166478302971258), (586, 0.01663159946956847), (2996, 0.01662053609837825), (450, 0.016575465852049893), (673, 0.016565064856933567), (1523, 0.016542396935197337), (1774, 0.016520532213973496), (3086, 0.016497907918017675), (3895, 0.016489920275703417), (652, 0.016474033541848274), (620, 0.016470060238704988), (4379, 0.016455604264109875), (692, 0.016405310238781924), (2295, 0.01638100317966998), (867, 0.01636540671355156), (1512, 0.016363011303079152), (1906, 0.016350471961392377), (1119, 0.016340072145389153), (3713, 0.016309310858099387), (374, 0.01630188956073043), (4123, 0.016277642739995664), (3797, 0.01626458172411479), (896, 0.01626453569011602), (85, 0.016254327748999143), (3407, 0.016241024001690637), (2931, 0.016232080370740545), (1741, 0.016228193091276166), (429, 0.01621935975149154), (287, 0.016199516959475878), (2939, 0.016189491391479592), (358, 0.01618408865059776), (2468, 0.016159795967323965), (1853, 0.016159247018382547), (1232, 0.016136534665737515), (3862, 0.01611999820287352), (762, 0.016105804471236527), (296, 0.01610425969767957), (2522, 0.016085370958077702), (2053, 0.01608003973941592), (2376, 0.016067955203046342), (1880, 0.01605902824680894), (1224, 0.01604993203966546), (3306, 0.016041107878908268), (3807, 0.016028363800839752), (2298, 0.016011389167054656), (4482, 0.016002727273282228), (4627, 0.01599123391754473), (437, 0.01598648371697209), (787, 0.015975267989566347), (1687, 0.01596993415392254), (2196, 0.01596943783894268), (1058, 0.01596792416826241), (3437, 0.01593777965246407), (1897, 0.015921091443009662), (2027, 0.01589455306245938), (2639, 0.015890905889548126), (2334, 0.01589078515409734), (1983, 0.015888753566060097), (4314, 0.015885694438795638), (40, 0.015880901649255305), (3777, 0.01587998782260565), (2919, 0.01585373583147514), (3375, 0.015840785832234756), (622, 0.01581429508021545), (3580, 0.015783730793747508), (3699, 0.015764187075579264), (3558, 0.01575020669911078), (584, 0.015727319644382003), (447, 0.015710012265417187), (543, 0.015679297528792737), (208, 0.015672010986390476), (4474, 0.01565301528597504), (2644, 0.015636532109440385), (1779, 0.015611825561184404), (986, 0.015601814893412674), (51, 0.015600821649151213), (4178, 0.015599871213827183), (879, 0.015581132783585468), (895, 0.015555542089411602), (1413, 0.015542394032074342), (1116, 0.015514281183359076), (3535, 0.015505430091411025), (3253, 0.015502830084250942), (3210, 0.015470802625080828), (43, 0.015458702684794268), (502, 0.01542889839415764), (1192, 0.01542603750175868), (1682, 0.015415586559128764), (470, 0.015413635430707364), (1290, 0.015403265167253386), (1114, 0.015377598415136447), (1895, 0.015375316471265927), (4503, 0.015369079706475115), (760, 0.015332012124360115), (2784, 0.015314214976815309), (1740, 0.015294172109395474), (2695, 0.01528907922846448), (510, 0.015271323792612259), (1278, 0.015256500626493561), (957, 0.015253815915160186), (1252, 0.01524315482592378), (534, 0.015222082299082926), (899, 0.015219398820360537), (1919, 0.015206785962803369), (1337, 0.015195296174755981), (2460, 0.015185189020802395), (4068, 0.015180369791349936), (842, 0.0151763448345896), (1343, 0.01512172490281731), (1152, 0.015106909837180734), (482, 0.015100382289717898), (3741, 0.015087921708157452), (251, 0.015087728497908216), (3295, 0.01507620596816654), (3670, 0.01506912782080851), (2961, 0.01503024807349123), (2284, 0.014989889978023242), (4475, 0.014988002859020872), (3660, 0.014987209846631284), (252, 0.01498604196286564), (934, 0.014980589282021372), (988, 0.014973427306440945), (1483, 0.014965631734320882), (4512, 0.014965350408305628), (370, 0.014938335076977328), (2815, 0.014937905354783156), (2988, 0.01491985156654025), (2216, 0.014872333069385962), (1335, 0.014863756280399343), (4486, 0.014860666776688132), (181, 0.014845597502431026), (1401, 0.014840699936498171), (1815, 0.014838692011882102), (4000, 0.014815121483185624), (2910, 0.014806387386882076), (1509, 0.014804644524853548), (1331, 0.014766642585040221), (874, 0.014760710063190987), (989, 0.014743124189679891), (1621, 0.014742136676909167), (1461, 0.014740977708964773), (1945, 0.014723044620995253), (3312, 0.014713632709626681), (2727, 0.014708330391321951), (4387, 0.014703982895681747), (866, 0.01467582649691039), (52, 0.014671267004849201), (3819, 0.01466919552270311), (161, 0.014655143973070326), (4255, 0.014644522231137418), (406, 0.014643368988324195), (317, 0.014616134952179106), (676, 0.014614270843624325), (1317, 0.014613751588974443), (799, 0.01457995034322047), (905, 0.014572402189698862), (231, 0.014564867932446804), (1481, 0.014559931017505242), (87, 0.01455183307927186), (3356, 0.014540282256916275), (3861, 0.014539848076683381), (75, 0.014539141369042712), (3370, 0.01451979508290347), (2024, 0.014514133770626315), (4673, 0.01449499178501552), (1035, 0.014484276472843711), (4617, 0.014482024838647543), (1360, 0.014481060079863313), (775, 0.014473140465009388), (2045, 0.014464309054547222), (1478, 0.014454145743493931), (1595, 0.014446985773738551), (1967, 0.014444475389642303), (3708, 0.014434334852467985), (2366, 0.014427397188030678), (4747, 0.014420786955276628), (4121, 0.014415046137778836), (3958, 0.014410077645350025), (1876, 0.014396878085439742), (1567, 0.014362396342806161), (1183, 0.014361222770671395), (1713, 0.014356560554425583), (4610, 0.014354924402223659), (3110, 0.014354325058717907), (2224, 0.014333160992268184), (2486, 0.014320468084803296), (2632, 0.01431640503311862), (3328, 0.014306406207479362), (18, 0.014301232854996314), (4124, 0.014296240424190584), (207, 0.014288563356231417), (2383, 0.014247593352930027), (13, 0.014239854453442441), (814, 0.014214843266850656), (1128, 0.014212781210192135), (1986, 0.014201038892102192), (1465, 0.014195798675425815), (878, 0.014152171802030596), (1591, 0.014148688275543657), (4374, 0.014142345472894741), (236, 0.01413534522090576), (3630, 0.014123656688234187), (2805, 0.014117828621375275), (276, 0.014117417291553226), (2008, 0.01411172400241504), (149, 0.0141108632963103), (2978, 0.014094678483639548), (125, 0.014090454859500053), (3119, 0.014049364213009218), (545, 0.014043837084685335), (4524, 0.013990142279034582), (7, 0.01398040681461746), (496, 0.013957637790423924), (4576, 0.013949402969075004), (3750, 0.013947452892620874), (1864, 0.013934981095049835), (356, 0.013931032521604008), (1107, 0.013930385368837152), (1665, 0.013908671402608128), (2052, 0.013891963353530568), (2066, 0.013890233936551031), (1519, 0.013821881719333153), (1681, 0.013805617465884662), (1667, 0.013805141239463787), (332, 0.013787137135620709), (2913, 0.01378706783309389), (1680, 0.013778689734251259), (753, 0.013753588198932638), (906, 0.013729437835811466), (2121, 0.013728887619139391), (4227, 0.013715173075121236), (1255, 0.01369157343203175), (875, 0.013681343231759612), (2177, 0.013676654879892638), (678, 0.01367486710065875), (1796, 0.013671719551320769), (604, 0.013668901689930162), (3659, 0.013645266721484082), (900, 0.013640309234919082), (2568, 0.013635078398656441), (1239, 0.013612160690901447), (829, 0.01360282483951795), (667, 0.013599343181343022), (1802, 0.013572202583359826), (1000, 0.013525231076401772), (70, 0.013516296969803035), (1237, 0.013509224674895754), (2969, 0.013508001312372234), (3318, 0.013472001171821481), (833, 0.01347050581115837), (963, 0.01345425388931055), (537, 0.01344941949675318), (3768, 0.01343192646009829), (1739, 0.01341907647062604), (1293, 0.013407279827574765), (742, 0.013364440891957933), (1005, 0.013364392800862957), (3076, 0.013355374821194936), (2000, 0.013330047636292298), (2617, 0.013298938091208653), (4510, 0.013261228788773276), (1342, 0.013253972553371284), (2252, 0.013248122744891795), (2874, 0.01324207654362188), (1654, 0.013233387387618633), (1787, 0.013221096700727845), (1752, 0.013205520436552612), (1104, 0.013204906477523246), (527, 0.01318374972307986), (844, 0.0131792627294497), (1988, 0.013174323332609698), (3387, 0.013172857614592472), (1185, 0.013158456716070624), (3849, 0.01314389552711957), (653, 0.013128567154209674), (407, 0.013106668083183151), (654, 0.013103183054646396), (2963, 0.013098397699200882), (3108, 0.013095562043140382), (1799, 0.01309524499400707), (2759, 0.013090995687588383), (4337, 0.013079805232792141), (2803, 0.01307176470565533), (3637, 0.01307110955481285), (609, 0.013070604731882), (1832, 0.01305538606700309), (3325, 0.01303152945986506), (1376, 0.013020714126268316), (2235, 0.013018926746146438), (418, 0.013008390998245845), (3334, 0.012988102751184148), (1436, 0.012986639886524608), (1220, 0.012978002098066491), (4265, 0.012963224932138355), (1047, 0.012957850372913873), (2780, 0.012948627917860049), (1949, 0.012947716329913064), (2474, 0.012943538785392193), (648, 0.012942873130492957), (1812, 0.012931311118564444), (2412, 0.01292811317371688), (3999, 0.012922539405560044), (918, 0.012918948990659861), (341, 0.012918196097474587), (2145, 0.012909010018110265), (936, 0.012897720282374462), (190, 0.012893975124329165), (800, 0.012886888311825401), (2697, 0.012871897186465453), (3507, 0.012863717115271038), (2602, 0.01285927668502102), (1714, 0.012855814966152764), (201, 0.012852040943549092), (733, 0.012851947577860668), (4469, 0.012845085541883152), (732, 0.012842736483582683), (3065, 0.012841870923304742), (2447, 0.012836220091316847), (2788, 0.012830119894557342), (928, 0.012824010418231179), (1009, 0.012767711172938019), (1407, 0.012749837321652096), (1934, 0.012727783139672806), (664, 0.012727589840990398), (1432, 0.012724285616452578), (635, 0.012696611251235007), (1958, 0.012690958343929774), (4095, 0.012678968128410174), (130, 0.012669361297707555), (1542, 0.012651938682085868), (4695, 0.012627911422915212), (2771, 0.012625538715069384), (3747, 0.012613780104272112), (1053, 0.012566892598057794), (1419, 0.012560343919979707), (1157, 0.012560195276743432), (1099, 0.012548393180676447), (1194, 0.012513984373824404), (4148, 0.012502368140347499), (2306, 0.012501064086224842), (1264, 0.012484247662793317), (82, 0.012466964073377726), (684, 0.012461996887666027), (931, 0.01245246248976017), (4623, 0.012452261931955203), (2625, 0.012429703047209608), (2005, 0.012415762051089744), (1310, 0.012403131444990589), (86, 0.012392225950118454), (313, 0.012391062745480559), (1870, 0.012378793165061639), (2464, 0.012372596918873532), (523, 0.012370892231133584), (4477, 0.012336724333158739), (452, 0.012307176897992909), (1215, 0.012291738089951975), (4543, 0.012279797254316473), (560, 0.012275793828620468), (3317, 0.012270646493605692), (1406, 0.012262691392621466), (4481, 0.01225912041082176), (4344, 0.012254233217671065), (1761, 0.01222961372520059), (1455, 0.012206508196369672), (1266, 0.012205103922103602), (3794, 0.012199121703506302), (1396, 0.012175118885793954), (2178, 0.012164950925082787), (4048, 0.012142889369583734), (2336, 0.01211986099671818), (3756, 0.012118625626638055), (1090, 0.012114258582437218), (4596, 0.012111832345312481), (3240, 0.012077773402768093), (2421, 0.012069266367046746), (2280, 0.012061085760179833), (1019, 0.012053435083992354), (2057, 0.011997129046101812), (790, 0.011996030244417179), (809, 0.011995447593379421), (244, 0.011991791626675602), (2918, 0.011989907380607887), (4216, 0.011970202320401267), (1303, 0.011959692708330003), (1249, 0.011935725719992596), (4619, 0.01192833508856722), (2925, 0.01192754362424673), (2688, 0.011926705618495854), (1989, 0.011916620543728136), (2206, 0.011913081475920451), (719, 0.011906193862099658), (402, 0.011891879104626982), (1873, 0.011886648599435622), (3957, 0.011880056301382298), (72, 0.011876048887147205), (825, 0.011863995957030237), (2555, 0.011840036168687503), (1230, 0.011825726244953505), (2769, 0.011816040035719741), (281, 0.011780899012742443), (500, 0.011778489718343381), (3118, 0.01177389886920989), (4325, 0.011772207766530353), (1655, 0.011756118115846922), (827, 0.011753684727091077), (1420, 0.011739056580592516), (3582, 0.01171868545713432), (915, 0.011692752842721414), (3524, 0.011677355903385195), (274, 0.011664800347397735), (1858, 0.011660584962918117), (1012, 0.011656875524014936), (2480, 0.011651459805632779), (4293, 0.011641495352821347), (2162, 0.011635727358735182), (3984, 0.011632246317072539), (532, 0.011624814940977838), (2346, 0.011622079459527064), (273, 0.01160597313372049), (1712, 0.011600384383183724), (2062, 0.011592663054665168), (1630, 0.011579663785587314), (1773, 0.01157922502267993), (1957, 0.011570747497454986), (1852, 0.011563424212863884), (4032, 0.011560335710298774), (3993, 0.011554041000313925), (57, 0.011525937789179833), (2403, 0.011519275764226396), (683, 0.011510930383348383), (1054, 0.011496731890565376), (291, 0.011488537162800929), (322, 0.011487271981672473), (3373, 0.011486676661297393), (304, 0.01148453823170286), (3775, 0.0114810126495897), (1551, 0.011477644682093648), (949, 0.011445281804597168), (2680, 0.01142370170049265), (3423, 0.011414210600747043), (2417, 0.011413053847213101), (1992, 0.011411789576927626), (1696, 0.011398774459844848), (4235, 0.011389189733854319), (321, 0.011382094839517274), (538, 0.011379348196644379), (1789, 0.01136375415236791), (1262, 0.011345792300262392), (801, 0.011337797026103016), (3949, 0.011335665801496746), (4187, 0.01133366395157355), (3860, 0.011331787544329164), (1259, 0.011318655303657596), (1923, 0.011317115176129931), (2116, 0.011315654540760386), (417, 0.011308625057163735), (2849, 0.011295552230902102), (695, 0.011289246369830974), (3903, 0.011277131839037785), (3951, 0.0112746069400258), (2429, 0.011262998586960615), (3924, 0.011253848181518257), (1236, 0.011246553732656445), (170, 0.011241763840080386), (555, 0.011217224190925126), (2097, 0.01120446394023582), (2871, 0.011199866335070842), (2633, 0.011188881999666679), (4551, 0.01118181088390162), (1754, 0.011168109773546365), (3094, 0.011149348040681281), (4164, 0.011119465554024238), (2051, 0.011101662594123034), (847, 0.01110127688255661), (3426, 0.011095809108955395), (2739, 0.011085986451267502), (1723, 0.011085676786903767), (2992, 0.01108286981721661), (3142, 0.011059482337504806), (501, 0.011055461352271534), (1658, 0.011044422636714749), (1061, 0.011042816313842931), (4366, 0.011030335572294277), (2505, 0.011023820021169183), (2209, 0.011017991218119501), (148, 0.011017512866855785), (715, 0.011009264216760711), (1694, 0.011000153102615904), (2049, 0.01098911645995775), (3070, 0.010985651107004349), (468, 0.01098509673152355), (3822, 0.010981706472379001), (271, 0.01096799897723565), (2126, 0.010958981362200242), (1874, 0.010956092734690032), (737, 0.010952252460867836), (3099, 0.010936933726503943), (1736, 0.010932933922203295), (333, 0.010925163960107447), (266, 0.010922515891572894), (206, 0.010871420574129466), (2740, 0.010868663201995138), (4546, 0.010865048109803575), (2436, 0.010863120328884123), (1662, 0.010862969301231873), (3992, 0.01085651673074864), (47, 0.01085116058181449), (4605, 0.01084851403757478), (1234, 0.010848438061774806), (3297, 0.010846557045247895), (99, 0.010844264442339425), (2936, 0.010830390626675717), (485, 0.01081420986565871), (2546, 0.01080050453990115), (4553, 0.010793310885327406), (792, 0.010786693057817407), (483, 0.010758428534976746), (1339, 0.010758392786963207), (1513, 0.010750469234525991), (270, 0.010721582661636132), (1348, 0.010704183254246498), (3232, 0.010703847395806642), (3382, 0.01070140468755718), (2545, 0.010687890798981841), (354, 0.01068704476281133), (5, 0.010657109616002535), (1727, 0.01065377470623579), (2929, 0.010638396197950317), (1798, 0.010638041135009092), (3067, 0.010620893630538227), (2655, 0.010613755763739803), (327, 0.010611005158379327), (3635, 0.010581830676511085), (4435, 0.01057865584621142), (120, 0.010574410591260429), (2915, 0.0105736281682309), (1418, 0.010567020878797982), (3919, 0.010558845712842768), (3264, 0.010554923350395467), (3599, 0.010551359397673044), (2016, 0.010541273138378986), (2820, 0.01053327171986361), (2074, 0.010519711385506742), (1440, 0.010519397380876176), (4096, 0.010497441060949854), (2601, 0.01049661487542784), (243, 0.010494463216635969), (806, 0.010493506876433684), (994, 0.010493394723020053), (1708, 0.010492281380880241), (4033, 0.010491342178940781), (1442, 0.01045498453750492), (2494, 0.010442494142155805), (4106, 0.010440545502084795), (216, 0.01043879612018275), (542, 0.010433994262563697), (3674, 0.010428152455882918), (979, 0.010426710649606777), (1300, 0.010421304000828698), (1334, 0.01041811803402531), (2934, 0.010390911338927548), (4052, 0.010374598568792038), (2255, 0.010373702642704038), (4371, 0.01036901720365142), (1781, 0.01036673962649324), (1951, 0.010362662232312284), (1494, 0.010355554745714219), (2964, 0.010350732879776506), (78, 0.01034349745936445), (2489, 0.010337676425643497), (3218, 0.0103207415009093), (544, 0.010320494383452712), (1182, 0.010313181653424049), (4685, 0.010312318387021164), (2418, 0.010285644158067967), (1092, 0.010280664654952813), (1359, 0.010279728610270142), (2977, 0.010270120561800392), (105, 0.010268717524501127), (621, 0.010262124958344686), (0, 0.010235530862251636), (2250, 0.010223279092801884), (2600, 0.010222273727789919), (1619, 0.010212915721445096), (1685, 0.010180003668113155), (2886, 0.010174475629069655), (2144, 0.010166916395273076), (3689, 0.010155236042719189), (4025, 0.010154355989196827), (3888, 0.010141202791135891), (3155, 0.010140056474327211), (1922, 0.010137708823998509), (4158, 0.01012526798474465), (1075, 0.010123683848838168), (970, 0.010119818923779868), (1124, 0.010116923817787274), (2565, 0.010105149801985656), (2080, 0.010102694536566054), (2512, 0.01009992881410245), (4612, 0.010094589663846742), (3612, 0.01008387188394321), (2948, 0.010076346824249564), (3418, 0.01007442238393994), (2744, 0.01007398712708359), (1048, 0.010054856827514128), (472, 0.010043812093417327), (1338, 0.010040212490136443), (1438, 0.010032743591983789), (2075, 0.01000906565279142), (894, 0.009995419942861395), (2789, 0.009994441185555553), (3386, 0.009992125307114874), (2279, 0.009987487975134327), (4257, 0.009951033840742592), (1006, 0.009945249663519083), (1382, 0.009939111577325898), (1860, 0.009938164829788494), (2640, 0.009935416508403551), (4442, 0.009929164050483302), (288, 0.009921588481362638), (1160, 0.00992050532973181), (4444, 0.009916958314898264), (2752, 0.009914494870031449), (2798, 0.009908656982345089), (1475, 0.009903965987121923), (2029, 0.00987996345914463), (435, 0.009876036959635095), (2303, 0.009874777298984843), (2197, 0.009843959280728315), (1279, 0.009838234132453463), (4660, 0.009837577908689433), (3536, 0.009833518533947736), (3901, 0.00982314289514807), (2277, 0.009815390821747837), (3215, 0.009807058355807202), (2879, 0.00980275868539775), (631, 0.009802686825783268), (1936, 0.009793049379513787), (2228, 0.009792908413026933), (1688, 0.009787593595012963), (948, 0.00978574558619539), (396, 0.009783669212830599), (668, 0.009783084504042455), (1582, 0.009782943023443005), (4060, 0.009778545688888649), (4192, 0.009777386492948795), (4710, 0.00977539798615822), (2980, 0.0097719393986162), (1077, 0.009770139875033768), (2077, 0.009764603441021796), (2193, 0.009759567250259546), (2831, 0.00975395224444503), (2109, 0.00974844117699894), (3643, 0.00974595593788102), (850, 0.00973564465347454), (1612, 0.009733283613352297), (353, 0.009728401435159979), (2363, 0.00972193170697694), (3293, 0.009721813257986014), (921, 0.009713779036839336), (3733, 0.00971066391922064), (3596, 0.00970534099644315), (1087, 0.009702018844366932), (828, 0.009701710470184763), (4412, 0.009688502239254538), (346, 0.009688123213651943), (1854, 0.009684596538165693), (182, 0.009668974098510214), (4122, 0.009665808632462254), (817, 0.009661421688654234), (3171, 0.00965700106207985), (104, 0.009635310191240129), (897, 0.009617366544595251), (4664, 0.009611478282729709), (3638, 0.00961009032980402), (558, 0.009609076108749759), (464, 0.009606155311485964), (3237, 0.009601137507363813), (3346, 0.00959536348592756), (2698, 0.00956458882886382), (2581, 0.009551965524204113), (1620, 0.009529498128013332), (1429, 0.009524533921821277), (111, 0.00952418274915539), (1020, 0.009522784371209611), (3123, 0.00952048663453467), (939, 0.009506919612462757), (1807, 0.009506155409475017), (2778, 0.009495103414894896), (962, 0.009486680636147915), (79, 0.009479952930106377), (697, 0.009471874295493333), (1900, 0.009453255328763049), (2459, 0.009448366332439641), (3941, 0.009440101784988867), (4511, 0.009435792372564977), (1948, 0.00943573525656982), (3046, 0.009407719946442092), (2463, 0.009402142775569859), (434, 0.00940109005344406), (3151, 0.009385914780503539), (2103, 0.00938131397037816), (446, 0.00937595842821169), (4163, 0.009363849053203862), (3120, 0.009354442667514153), (3667, 0.009349029470391505), (2188, 0.009341298558978126), (651, 0.009340074893347879), (2087, 0.009336794882855673), (19, 0.009331788217465452), (3826, 0.009327353574938718), (4502, 0.00931037113167502), (1096, 0.009307553331885042), (1446, 0.009304925947770474), (3267, 0.0093012045955129), (119, 0.0093006710642031), (4336, 0.009292115351063645), (96, 0.0092743508298422), (461, 0.009268923607904735), (4603, 0.00925140109576372), (2473, 0.009229197140424047), (4490, 0.009201904502343223), (2572, 0.009199489194053542), (2265, 0.009189133089780062), (1050, 0.009186814664698208), (3521, 0.009165823320313517), (2309, 0.009165189181368844), (2143, 0.009162126609705895), (2812, 0.009158222184923048), (197, 0.009155672730464694), (1701, 0.009155324323070934), (838, 0.009145358655851607), (3399, 0.009135325852554065), (164, 0.009134842379707398), (449, 0.00912158377577386), (285, 0.009113992170051221), (966, 0.009109815440722747), (3784, 0.00910163157792597), (3956, 0.009098199191200087), (766, 0.009090797461260812), (1793, 0.009076472241412706), (816, 0.009075865637607605), (368, 0.009065361784992999), (3246, 0.009064735935430444), (4105, 0.009060927128957305), (2065, 0.009037403011450444), (1387, 0.009028201062751873), (782, 0.009022946560742744), (1710, 0.009010976484436963), (2089, 0.009008466886336759), (1276, 0.00900371195192833), (1514, 0.009002878218155012), (3829, 0.008985313839654042), (4232, 0.00898396223445776), (1540, 0.008980287279560819), (2635, 0.008952869021522095), (1968, 0.008934519674893272), (3954, 0.008931057648108715), (307, 0.008930019571308019), (3389, 0.00892195376056141), (3899, 0.008917095394888986), (851, 0.008908211279140663), (734, 0.008907957227724497), (1776, 0.008903541320627996), (4517, 0.008896837396301954), (1674, 0.008895586976854912), (1206, 0.008895386184339197), (2264, 0.008885144614526264), (183, 0.00887955158479728), (1875, 0.008867683571074775), (1764, 0.008855741804469483), (428, 0.008848006986270262), (2427, 0.008843750437783923), (445, 0.008839125873745215), (2881, 0.008838869770183007), (3329, 0.008837507569312567), (1730, 0.00882522845342387), (443, 0.008814847253410751), (1477, 0.008809934695085272), (4593, 0.008803316390779406), (3960, 0.008796596958538728), (4707, 0.00879228648666142), (4494, 0.008789505730796543), (1920, 0.008787638739695881), (2158, 0.00878679182499644), (32, 0.008780634544985792), (1650, 0.008773796578510976), (1690, 0.00876455047145517), (4205, 0.008743118816604813), (107, 0.008736305607521484), (3680, 0.00872605243586708), (1507, 0.008717920463460848), (4092, 0.008710523119935233), (4699, 0.008702301083606093), (3501, 0.008693963858080501), (1498, 0.008691233648753082), (1538, 0.008689032769584477), (3196, 0.008685539400067707), (1312, 0.008684545300985697), (4649, 0.00867929728405084), (2076, 0.008676171117532912), (1924, 0.008674262237962799), (1308, 0.008666631486635979), (4098, 0.008636094200375909), (38, 0.008631481355570136), (4335, 0.008623452602550529), (3032, 0.008615882579650765), (2236, 0.008608597941050858), (2854, 0.008605198380096005), (4522, 0.008585744941658651), (597, 0.008581070986047063), (1489, 0.008580858058522529), (1960, 0.008564578395436152), (2840, 0.008557936791715038), (1539, 0.008553180960610614), (2285, 0.008552745061975026), (2428, 0.008547093233889452), (1371, 0.008541322574974388), (3880, 0.00853910933207759), (436, 0.008535604839378892), (242, 0.008534354257889844), (1790, 0.008528009385165805), (3771, 0.008520710230838804), (3579, 0.008518172720495744), (1971, 0.00851398835484498), (688, 0.008504658993545407), (2304, 0.008478203947216366), (1188, 0.008468376270427316), (729, 0.008467281463538288), (3245, 0.008457941441451431), (2587, 0.008457887557049033), (705, 0.008452276249393646), (3780, 0.008439109398330721), (2975, 0.008438952373379162), (1762, 0.008432923203776331), (1078, 0.008420590732742898), (139, 0.00841556085348599), (4133, 0.008410853627485775), (4652, 0.008410177902145361), (1553, 0.008404580139228263), (3453, 0.008389839079497832), (1866, 0.008388929206080132), (350, 0.00837345032942408), (4748, 0.008372805855194218), (4757, 0.00837149574203708), (1014, 0.00837086611492263), (3634, 0.008349814397479123), (3516, 0.008349566679256374), (2933, 0.008338573155580321), (3, 0.00833511290658874), (4089, 0.008326757508937611), (4601, 0.00832443461480984), (3096, 0.008316855441471014), (2942, 0.008315692836142075), (4656, 0.00831251630541158), (1136, 0.008308871072672856), (2477, 0.008304327228420803), (3704, 0.008301401774152225), (1806, 0.00828820319256811), (3192, 0.008287664081904988), (385, 0.008282903891657508), (1643, 0.008282599172013193), (1260, 0.00826158232878505), (2348, 0.00825989334605952), (924, 0.008254606550156763), (3256, 0.008250983769497374), (4046, 0.008245537087343404), (582, 0.008236980351261084), (930, 0.008228100725342857), (2104, 0.008226082731216538), (4093, 0.008220442319694954), (4038, 0.00820214759508577), (1833, 0.008200841486202853), (3409, 0.008198698784302185), (1037, 0.008197509993682944), (991, 0.008187940968393904), (2714, 0.008185938594721059), (1454, 0.008185437103771703), (162, 0.008181312078906829), (493, 0.008181171399060124), (60, 0.008178513659278094), (3618, 0.00816425951907752), (728, 0.008163990078901952), (10, 0.008161281747557637), (403, 0.008158576379925394), (2211, 0.008146898389195432), (3821, 0.008135576820158467), (1537, 0.00813400091691032), (3035, 0.00813386562478892), (4579, 0.00811116283165044), (3586, 0.00810524986252943), (3112, 0.008104610912652611), (4118, 0.008100192249874093), (4470, 0.008099194308814688), (1743, 0.008086853339990227), (4094, 0.008081082069875206), (1083, 0.008081019958517963), (4431, 0.00808065529085238), (1400, 0.008058092565426802), (1705, 0.008049274719653086), (3259, 0.008032378120549638), (4249, 0.008023865532576365), (1282, 0.008023323080606451), (1225, 0.008023231044259145), (3349, 0.008018841861337889), (606, 0.008015805861388874), (180, 0.008013351456041576), (4077, 0.00800524049730225), (4233, 0.00800500030285563), (1140, 0.008002742235962389), (4430, 0.007998075886033051), (238, 0.007993494227047518), (2603, 0.007993374043724768), (3905, 0.0079906597830426), (2510, 0.00798370775183017), (4557, 0.00798169556115084), (716, 0.007979384990614171), (441, 0.007978465188107464), (4045, 0.007975790599052447), (3514, 0.00797503287488952), (1071, 0.007974268261496515), (4523, 0.007969077616030504), (616, 0.007964932529395355), (580, 0.007960994715018686), (1918, 0.007960743284561866), (1125, 0.007960718740151307), (1571, 0.007960181692126925), (3456, 0.007958528269671172), (660, 0.007956603332140058), (1069, 0.007952792079026239), (1735, 0.007945644506056964), (2339, 0.00794500664695373), (4013, 0.00793617245104777), (2563, 0.007931976441458963), (4289, 0.00793177163900719), (4715, 0.00793116471968743), (3039, 0.00792723907926902), (3464, 0.007927128693656423), (2949, 0.007911101875625132), (309, 0.00791009140241593), (1484, 0.007904643134710215), (845, 0.007903423109143194), (3623, 0.007897887461834108), (1902, 0.007897519119567938), (1229, 0.007894599328102046), (4624, 0.007893000974520996), (34, 0.007888470870324283), (2344, 0.00788711788463208), (143, 0.00787375698530006), (4629, 0.007869396141479714), (3653, 0.007858892999183244), (980, 0.007857674107053524), (3227, 0.007854272502818019), (2088, 0.007847191284962488), (3008, 0.007844276940888444), (3515, 0.007838156509739338), (4390, 0.007835262199796095), (474, 0.007833719229508379), (2843, 0.007816814352514056), (2873, 0.007816363773303973), (255, 0.00781632722681851), (1421, 0.007814138335865722), (636, 0.007811863634295658), (113, 0.007808263822491266), (1950, 0.007806652030643886), (1931, 0.007802901146277155), (2519, 0.007797208698248771), (2444, 0.007795981093150482), (3233, 0.00779383533692268), (4351, 0.007791391236727807), (2244, 0.00779058389475442), (743, 0.0077875251232302194), (3018, 0.007784270812168132), (1536, 0.007782290108049711), (843, 0.007776416155641657), (2994, 0.007776148682598981), (3571, 0.0077670504727998385), (4663, 0.007766580110832906), (509, 0.007753860666411178), (3666, 0.007752852002042481), (4196, 0.007747535337058706), (156, 0.007745377360484386), (2844, 0.007744019128242187), (750, 0.007742731884540014), (3303, 0.007719934545109323), (4284, 0.007713112324553205), (3122, 0.0077125498984411765), (1486, 0.007703909818035006), (1144, 0.007703348151387989), (3185, 0.007697246198864033), (869, 0.007695604328551291), (3570, 0.007695142556689828), (3645, 0.007695077817178708), (769, 0.00767888825505941), (2101, 0.00767870264723552), (3125, 0.007678696129441894), (1179, 0.007672599125169235), (4226, 0.007672325873659238), (1388, 0.007670282453824059), (1472, 0.007667846456232694), (2061, 0.007659393201633559), (644, 0.007652267969381737), (3457, 0.007647402100407996), (224, 0.007646373915526698), (908, 0.007639140178224464), (4677, 0.00763400740869968), (42, 0.007628137943542605), (1223, 0.0076187784404049864), (3152, 0.0076151085277304815), (1138, 0.007605794737332767), (3727, 0.0075972103122919025), (696, 0.007594825957667183), (3410, 0.007590809235486091), (3436, 0.007586401257111734), (2606, 0.007581637747437024), (4184, 0.0075707540675738726), (3696, 0.007564843518900643), (1583, 0.007564077902864849), (2091, 0.007563715157120086), (159, 0.007563036276199956), (3624, 0.007559518975975955), (63, 0.007556238975649146), (494, 0.0075549847938752275), (4309, 0.00754805276257733), (1770, 0.007547165668632224), (4001, 0.007540000292646242), (256, 0.007536923944436428), (3195, 0.007531538698933879), (1174, 0.007531111992539372), (413, 0.007521924139610777), (4670, 0.007521154654388736), (4581, 0.007511603831605697), (232, 0.007506290304645788), (539, 0.007495334085440877), (748, 0.007485470473014423), (1191, 0.007476175347196895), (727, 0.007471875648428177), (4182, 0.007463314403727561), (1747, 0.0074622354229238914), (4061, 0.00746197627142974), (3435, 0.007457203609145551), (363, 0.007457141378674003), (3926, 0.00745698339313695), (340, 0.0074568688270163835), (1718, 0.007433056660471344), (2069, 0.007415349351042365), (1488, 0.00741152084792993), (880, 0.007409918685860726), (1737, 0.007399650738408077), (923, 0.007391227646462021), (1811, 0.0073876705268427914), (3499, 0.007387170242655879), (600, 0.007374284334497494), (50, 0.007369285331875115), (1653, 0.00736480525046695), (81, 0.00735954770148661), (301, 0.007356775670927187), (2708, 0.007348451416024786), (1330, 0.0073290304990890984), (3452, 0.007325833420660306), (217, 0.007316248681457808), (3531, 0.007307991268901203), (1526, 0.007295144289100344), (3316, 0.007292293094058949), (4299, 0.007290878476916705), (1504, 0.007287978210549856), (671, 0.007281872420484628), (2324, 0.007277522651818792), (1841, 0.00727333393925401), (2726, 0.007271063327837447), (3648, 0.007264294936269542), (3487, 0.0072635974861771984), (1213, 0.007256280302206635), (2899, 0.007239751319337093), (4008, 0.007237077335700262), (752, 0.007230483575982614), (2897, 0.007218243675887614), (2825, 0.007217059502930196), (386, 0.007209509475550382), (4467, 0.007195390280931622), (868, 0.007195354043631858), (1911, 0.007189096213070856), (1123, 0.007187516638338182), (1644, 0.007183910448350897), (503, 0.00718138923563157), (1908, 0.007173514309763241), (1231, 0.00716542605940641), (1044, 0.00716180791881627), (2496, 0.007158684162991557), (3594, 0.007158515329892359), (2335, 0.007148867690083087), (1819, 0.007148445130993889), (3149, 0.007146329382533437), (3460, 0.007141235646818568), (3265, 0.007140956004004809), (4282, 0.007127391906393768), (1076, 0.007127284926690459), (367, 0.007118429433583733), (3734, 0.0071108512410399255), (4388, 0.00711063821552157), (1375, 0.007105687423860436), (4738, 0.007103098826443474), (3715, 0.007102306517332143), (1001, 0.007100429204240866), (2962, 0.00709388419016341), (1892, 0.007088857785360776), (131, 0.007087914718916564), (2732, 0.007087356465296537), (2184, 0.007076789895320067), (996, 0.00707671770947175), (1250, 0.007075711799889113), (422, 0.007073823848603337), (778, 0.007071766597235197), (1177, 0.007071179592755085), (1111, 0.0070684945294948445), (1041, 0.007061887523481672), (2816, 0.007059013828681079), (2691, 0.0070541708906478795), (1973, 0.007051204224595788), (3632, 0.007046325792863928), (4591, 0.007036930059644253), (2388, 0.007025350332464223), (1425, 0.007019983157587067), (1738, 0.007019113204528139), (1867, 0.007017801850931538), (31, 0.007017337069406354), (4154, 0.00700875588038569), (1329, 0.006996291261674408), (1433, 0.006996033652972591), (2503, 0.006995479358418252), (4099, 0.00699153977302069), (1448, 0.006986265634967197), (3876, 0.006985336082452089), (821, 0.006979647440258749), (56, 0.006976460884016378), (3342, 0.006969116174279947), (3066, 0.006961761077669032), (1501, 0.006960960031809576), (1065, 0.006959862287776726), (1462, 0.006959741630111905), (1760, 0.006958301549614071), (3841, 0.00695421888728767), (4367, 0.006946418100893621), (3721, 0.006945479424353481), (22, 0.00693936950223218), (1172, 0.006934499781888852), (3049, 0.006933520830396755), (745, 0.006929268523816188), (1555, 0.006928558802782242), (1692, 0.006923167094137023), (1374, 0.0069229805084958206), (311, 0.006920975477047173), (834, 0.006920645681394335), (744, 0.006915564388783619), (4210, 0.006905657290132833), (2355, 0.006904147573618196), (1987, 0.006902298680885883), (3474, 0.0069002050373063485), (3033, 0.00689197490746081), (2424, 0.006891959997743799), (283, 0.006887568565698537), (1306, 0.006882610216465131), (1238, 0.006880988950377236), (910, 0.006879350149166212), (2239, 0.006874014507135281), (641, 0.006870067270281563), (2031, 0.00686527919632676), (3288, 0.006860707429738927), (4661, 0.006858290270400794), (758, 0.006845681886898833), (4691, 0.006841357796246609), (981, 0.006835079342251376), (563, 0.006830641499754746), (3842, 0.006822298266559632), (1849, 0.006811004071518766), (1345, 0.006803027486048636), (3309, 0.006800776591392956), (122, 0.006797747807826893), (4303, 0.006796964558324849), (3705, 0.006790774218590834), (1913, 0.006789211831626544), (863, 0.006785980770745072), (804, 0.006772345992860779), (581, 0.006768963787991295), (3910, 0.006761935389431631), (608, 0.006759109685952536), (2095, 0.006758920694500283), (4666, 0.006748943053558988), (2160, 0.006747172902000669), (230, 0.0067460106306938125), (4564, 0.00674394538443272), (4527, 0.006743595263065055), (1094, 0.006737095788577622), (2580, 0.0067274398895874575), (1267, 0.006724277130977973), (16, 0.006713828191485267), (1816, 0.006706963861375623), (1964, 0.006704804613406767), (1414, 0.0067018296837779425), (200, 0.006694833664907812), (958, 0.006690280347290404), (2724, 0.006688366333658951), (1939, 0.0066779443340418436), (3998, 0.006677244902948554), (2833, 0.006666713227436597), (4646, 0.006655647482971206), (940, 0.0066505336556797155), (497, 0.0066473683280566485), (1627, 0.0066413909989696), (1608, 0.006636129103431141), (4459, 0.006624127724798918), (4217, 0.006616562549247743), (861, 0.006614601996050062), (4219, 0.006612535713392759), (1797, 0.006597123559023883), (3458, 0.006595049567317164), (300, 0.006593161803965805), (521, 0.006593161438444196), (4208, 0.006590922570597286), (4432, 0.006589000546618654), (1327, 0.006580420496152973), (2056, 0.00657657975367895), (263, 0.006568637812347376), (2205, 0.006568165961577601), (4272, 0.006561484220595689), (248, 0.0065557565791687445), (2202, 0.006555335124344493), (1307, 0.0065522132171644265), (1552, 0.006551224918158662), (835, 0.006546570062390971), (1746, 0.006544490514566097), (1664, 0.0065407730857279175), (617, 0.006537498878170135), (1818, 0.0065327607762714545), (3864, 0.006523249373231076), (2098, 0.006513958671444449), (2203, 0.006494486753156091), (642, 0.0064715978885611074), (9, 0.006461466958477293), (1903, 0.006449299259115134), (568, 0.006448472793398861), (4236, 0.00644145385858186), (3909, 0.006436483326055701), (4537, 0.0064245857737728965), (2113, 0.006423240362710388), (862, 0.0064217822215723004), (2328, 0.006395819925298624), (2426, 0.006386753346501176), (3566, 0.006382779712876379), (3825, 0.0063764066210024025), (4009, 0.006376405022112148), (4342, 0.006374627759972044), (2175, 0.00637280947682853), (4733, 0.006371715653556765), (4047, 0.006364506385692717), (3975, 0.0063394201369903055), (4464, 0.006320959879486671), (3244, 0.006314167259766159), (3331, 0.00631329285550121), (35, 0.006307016817553152), (2935, 0.00629904590769752), (3114, 0.0062985255190285425), (2058, 0.006288505661424564), (3748, 0.006285321276235769), (1715, 0.0062790449847759605), (1214, 0.006272802709010517), (3658, 0.006251037290950359), (1356, 0.0062499258546967595), (1981, 0.006238370902445789), (1316, 0.006231346603779939), (4057, 0.0062279363750329985), (69, 0.0062269114687121254), (583, 0.0062266045284853615), (2614, 0.006199756859781824), (3844, 0.006197510256493231), (4110, 0.006172694727898207), (2185, 0.006159643004931308), (3502, 0.006158887674655168), (3598, 0.006150279436245561), (3391, 0.0061477362551306996), (3448, 0.006147424375823735), (4674, 0.006142895195921323), (2156, 0.0061386864894308335), (1863, 0.0061364078662283685), (4055, 0.006122948295635121), (1684, 0.006121717782230738), (3865, 0.006120665082944647), (4726, 0.006113107720235318), (512, 0.006079996501437242), (3588, 0.006076240549105038), (3513, 0.006071012585353764), (3744, 0.006065189058430955), (3942, 0.006047299423861819), (4653, 0.006043349678491101), (4642, 0.006043108602984737), (2291, 0.006033364498379897), (4698, 0.006013149503810719), (953, 0.006000409913612755), (1344, 0.005999515084801709), (4385, 0.005992752408553769), (3509, 0.005990916086843715), (4518, 0.005944821745864691), (3752, 0.005895986157083296), (4514, 0.0058882354725458925), (3022, 0.005886188559802325), (1661, 0.005883884248845213), (3897, 0.005883469005605997), (2273, 0.005882279473801883), (2700, 0.0058821959714361405), (4120, 0.005875100606336227), (1941, 0.005853197274569242), (4331, 0.005851805302359267), (2567, 0.005844552092001534), (4162, 0.005826328946702089), (3164, 0.005814496409427223), (177, 0.005811874137714268), (2576, 0.00577780624332846), (2809, 0.005757530100170379), (571, 0.005736623976025059), (1940, 0.00573390837005042), (4462, 0.0057167367593981225), (2665, 0.005710512068219832), (4746, 0.005682542391565403), (3940, 0.00566686032554675), (562, 0.005665564008377005), (2439, 0.005641161959786418), (3117, 0.005636703284042111), (369, 0.005634174214397815), (4285, 0.00563374167010761), (2012, 0.005628383769239132), (2476, 0.005616834395578317), (4595, 0.005607974522780999), (1381, 0.005607882106876469), (855, 0.005606600906933409), (380, 0.005604844014921898), (666, 0.005596480315383752), (2683, 0.005594615991889604), (3263, 0.005572381300758331), (1158, 0.005569088189115155), (3440, 0.005566577992538551), (3997, 0.005566281133503813), (1695, 0.0055623243571762265), (687, 0.005561343619714704), (3180, 0.005545862540850055), (3774, 0.0055437343621662595), (4307, 0.005542327041959514), (3168, 0.005537571311530144), (425, 0.005526769868465452), (4261, 0.00552068619980894), (2181, 0.005519677404346968), (1453, 0.005518269622033923), (1332, 0.005515673586565634), (2506, 0.005515024333324301), (4240, 0.00551349273727288), (1962, 0.005511408017424396), (3438, 0.0055036099811452514), (4630, 0.005499217697716661), (831, 0.005496553068697689), (477, 0.005492477633989664), (2733, 0.005491400043586866), (2022, 0.005490860093488599), (1391, 0.005490773569849893), (2774, 0.00548641975997106), (4119, 0.005478563741008972), (4076, 0.0054697136417500335), (2960, 0.00545548961499924), (4090, 0.005451624706587001), (1167, 0.0054312244477733645), (2626, 0.005426674444153981), (1732, 0.005425440063222348), (3158, 0.005421339732636814), (1829, 0.005418042349950791), (3584, 0.0054051305549232525), (1575, 0.0053888512678265995), (168, 0.0053861334692996915), (6, 0.005383177054781019), (2231, 0.0053820940979558175), (595, 0.005377263455693864), (1614, 0.005367168057768999), (2136, 0.00536538800771171), (514, 0.005361048705289152), (3604, 0.005360899832344904), (2314, 0.005358610305083723), (550, 0.005357206426813648), (4515, 0.005356330504885409), (4312, 0.0053535822569213045), (919, 0.005352702304748615), (2208, 0.005335927531865267), (1952, 0.005334857786249378), (1554, 0.005333903734712771), (3802, 0.005333075151800234), (4043, 0.005332606730480918), (4384, 0.005329673377045091), (1280, 0.005327199084295629), (3468, 0.005326819592567457), (891, 0.0053240416901607695), (802, 0.005315048988192437), (4377, 0.005310754345664895), (2084, 0.005310163393698102), (128, 0.005306052533507276), (3163, 0.005302052393510521), (513, 0.00529490150943489), (2819, 0.005294832417219171), (3881, 0.005292844173372532), (303, 0.005287911647564084), (1150, 0.005286377761750779), (3451, 0.005284158789161795), (3787, 0.005279585385496122), (3938, 0.005276169811428), (1502, 0.005274068817464244), (3131, 0.005269380801624574), (1531, 0.005263440824382304), (3161, 0.005262047361427523), (2283, 0.0052552599548919415), (1449, 0.0052422797004350544), (102, 0.005237665405839251), (1724, 0.005235656744843807), (1659, 0.0052249266797244195), (336, 0.005220348992821711), (4275, 0.005219103826417682), (2959, 0.005215681458984498), (4586, 0.005215298596351292), (4373, 0.00520987274745142), (3814, 0.005209463164979266), (1975, 0.005208210509852992), (3398, 0.005207978510621707), (3710, 0.005200507630852934), (2599, 0.005199764456953336), (3782, 0.005199475779931346), (1859, 0.005192688249572626), (1904, 0.005187413892709613), (2947, 0.005185798850338608), (2044, 0.005185423748278423), (4251, 0.005184765252445264), (4639, 0.005177632440466434), (992, 0.005175376103847247), (420, 0.005174740606697834), (4392, 0.005171983740926261), (3134, 0.0051704748041563955), (1380, 0.005168544983981879), (3995, 0.0051682251294895495), (4621, 0.005162202098004721), (902, 0.005158065348349577), (1426, 0.0051534151852185225), (3576, 0.005146969422195003), (155, 0.005145531368211731), (1881, 0.005138218530398332), (414, 0.005135803193614026), (239, 0.005133569590110383), (4091, 0.0051333625570487125), (765, 0.005128688132202946), (1791, 0.0051212659185539055), (1452, 0.005120592204461681), (220, 0.00511316193214524), (2330, 0.005094909709490137), (1998, 0.005091331632483684), (3205, 0.005090706927608975), (3432, 0.005085426243124963), (4552, 0.005077178320171019), (2064, 0.005072147500648375), (793, 0.005069671648116154), (3769, 0.005054663693582336), (320, 0.005046010374394024), (1588, 0.005045364354024068), (2278, 0.005038407956171075), (3179, 0.005036831491035884), (2015, 0.0050366811664101785), (95, 0.005031281230861061), (1933, 0.005030133580027659), (27, 0.005029802618894248), (2790, 0.005029366305432834), (1469, 0.005025976407383226), (1431, 0.005021980867141545), (93, 0.005020747951275522), (3404, 0.005017578216022825), (4719, 0.005016746410301034), (3907, 0.005016409772637147), (3833, 0.005015414506256383), (561, 0.0050143745496210165), (4248, 0.005010207294112782), (685, 0.005004799884704518), (3124, 0.004996406760652929), (1993, 0.004992430369248755), (1435, 0.004987721566421471), (3932, 0.004986272685151168), (4678, 0.004974782091366585), (4383, 0.004967619089159918), (811, 0.004963834914668661), (3191, 0.0049635518138775436), (3908, 0.0049634193666812185), (1901, 0.004961551221846552), (2991, 0.004940087704135966), (4360, 0.004939912502929826), (634, 0.004937321347790172), (2130, 0.004935523470665495), (4438, 0.004932975769049727), (2246, 0.004932733757654824), (1930, 0.004931053160592313), (4376, 0.004929628537508014), (1587, 0.004927591156289484), (347, 0.004927009316679784), (4708, 0.004923064007013796), (633, 0.0049181430536470614), (389, 0.004916318540221348), (1622, 0.004915638571485967), (4310, 0.004914576174106465), (3815, 0.004913514620538181), (467, 0.00490981972471536), (135, 0.004903336278079768), (241, 0.004895419788109261), (375, 0.004892847938393263), (118, 0.00489022510680238), (1127, 0.004890024759920749), (849, 0.004889512764592609), (4103, 0.004884682937999684), (1566, 0.004884612591771479), (3005, 0.004880536695539227), (4665, 0.004876435544692742), (30, 0.004874172948814157), (3520, 0.004862949176070436), (189, 0.004850369955626959), (451, 0.00484977198434478), (39, 0.004846797865685523), (1857, 0.004839174390347995), (1181, 0.004835512415794694), (619, 0.004833783062384905), (1573, 0.0048271583605831725), (3602, 0.004821266163398658), (3100, 0.004817601120771942), (4264, 0.004815761151486873), (460, 0.004813634473281611), (1953, 0.004812716966133221), (3443, 0.0048114971153545944), (4039, 0.004810908918235945), (927, 0.0048100543610548096), (305, 0.004808005588849367), (315, 0.004807251515962294), (4211, 0.004799769138751565), (3367, 0.004789844884105704), (1635, 0.004786614106537068), (3011, 0.00478629452598376), (3126, 0.004778484923907556), (4071, 0.004770032100089846), (94, 0.004768612919010488), (233, 0.004759342389597597), (2847, 0.004757540360093409), (3583, 0.0047542214723048605), (4441, 0.00474524915548965), (4328, 0.004739662795305189), (4292, 0.004737907709675753), (1211, 0.004736486091518337), (3970, 0.00473338908961359), (3534, 0.00473246784858622), (2232, 0.0047250581267894885), (1632, 0.004720586408487113), (152, 0.004717966236745519), (3555, 0.004713976260128376), (2432, 0.004711295785176578), (1082, 0.004710315195013011), (1631, 0.00471014362408993), (90, 0.004706187404078124), (260, 0.004694074700739606), (4548, 0.004687151402896538), (3824, 0.0046858120525655874), (1846, 0.0046761122095320615), (2245, 0.0046760672387144205), (2787, 0.0046737706639078), (310, 0.004671462068784823), (4587, 0.00465959033766861), (4697, 0.004658557351076138), (3664, 0.0046558664200567175), (4585, 0.004654658271420144), (661, 0.004653079238224007), (2711, 0.0046495201172133), (3823, 0.00464656503856928), (1347, 0.004644021995032048), (4151, 0.004643847118949849), (1451, 0.0046398032517373155), (3136, 0.0046356348062220505), (974, 0.004633754611701852), (3338, 0.004623114901018022), (1914, 0.0046151101332925154), (3886, 0.0046141910924846095), (1207, 0.004609925096760414), (2442, 0.0046041090005872485), (4468, 0.004596674744408476), (1428, 0.004587968025192737), (3361, 0.004581933341586834), (3133, 0.004581786513840387), (3788, 0.004576980858778784), (3079, 0.004574394859267934), (2139, 0.004571588604484444), (1633, 0.004567464144384981), (3966, 0.004557083507381019), (3135, 0.004555247712416641), (1480, 0.00455386166306129), (810, 0.0045480582452349086), (2682, 0.004539697325876214), (3723, 0.0045395406611134425), (1430, 0.004534404479864915), (4044, 0.004532776107449319), (690, 0.004527220366595812), (1623, 0.00452492070375418), (2660, 0.004502152711677646), (2984, 0.00450037386963707), (426, 0.004487192867380985), (1562, 0.004485180843252545), (3512, 0.004483522122073121), (3247, 0.004478719139383393), (4339, 0.004472951910066755), (397, 0.004471812459473998), (4274, 0.004469054479101703), (1197, 0.004466467965219231), (2299, 0.004462332445222304), (2678, 0.004456842778779822), (4322, 0.004455140924478213), (80, 0.004438000878207157), (306, 0.004434472292222076), (1772, 0.004431919492745932), (316, 0.00443184630528652), (1281, 0.00443179764866447), (4290, 0.00443021725798951), (997, 0.004429182932176198), (3143, 0.004428506462543155), (4193, 0.004420770841591575), (1784, 0.004419119072020616), (893, 0.0044089141411622745), (559, 0.004407362727344581), (1840, 0.00440596640421761), (611, 0.0043931414004975645), (3672, 0.004389744369818375), (3178, 0.004364950499980435), (4571, 0.004354381453357534), (932, 0.004352877683080609), (3495, 0.004346482618137086), (4365, 0.004344940088681678), (191, 0.004344011700821239), (1154, 0.004343717896359322), (4582, 0.004335752879186332), (803, 0.004331243367120705), (2326, 0.0043128465040703475), (1753, 0.004308614456081641), (898, 0.004303038313871647), (187, 0.004301885098070328), (3160, 0.004301300726771445), (323, 0.0042896833735983995), (2998, 0.004273587095011685), (4555, 0.004235072587935989), (1590, 0.004226818162412877), (1699, 0.004221412420207025), (1559, 0.004216839099781918), (4426, 0.00421160642704536), (3619, 0.004209927717437942), (3806, 0.004209550921026231), (1546, 0.004208466402253064), (1925, 0.004202279023986064), (625, 0.004199957925498584), (3484, 0.004197809057232832), (2801, 0.00418816137077414), (3925, 0.004183679186329029), (3523, 0.0041724635992064826), (756, 0.004167154029930927), (1910, 0.004165151775220452), (1309, 0.0041446413001955075), (2757, 0.004141990947042358), (234, 0.004140040748888007), (3776, 0.004134802721623481), (1120, 0.00411647715505451), (640, 0.004115676492659198), (3339, 0.00411544855848551), (4513, 0.004109924538524188), (2775, 0.004109917703531876), (4705, 0.004109410870457354), (723, 0.004102701880952196), (2832, 0.004087100365275079), (2541, 0.004083725905078281), (3291, 0.004079249714719095), (3405, 0.00407142654475394), (1458, 0.004056090472517851), (2189, 0.004047870950183861), (2529, 0.00404246408275744), (314, 0.0040319007009722895), (639, 0.0040234389265562855), (627, 0.004019743088634994), (738, 0.004003164084627939), (3055, 0.004001711701168574), (1530, 0.003985050042244501), (2937, 0.003981787684630081), (3257, 0.003978854124333469), (2764, 0.00397392475094163), (469, 0.003969254487486706), (4607, 0.003963545021425484), (3989, 0.003963262482652367), (4082, 0.003956994680951216), (3051, 0.0039567068855022), (2989, 0.0039566397588589475), (2870, 0.003949273543996234), (2349, 0.003948964078985705), (2379, 0.003942024535876471), (1164, 0.003941446028320219), (2573, 0.003927105870529544), (290, 0.003926645177754018), (1576, 0.003925171408262099), (2722, 0.0039170319862599666), (4172, 0.003916350094467289), (2404, 0.003914698421620491), (2861, 0.003910525882385234), (76, 0.003901015867191091), (735, 0.003900888722700687), (2392, 0.0038947272415875527), (2490, 0.003891701091153529), (2137, 0.0038909451535253017), (295, 0.003888781262589758), (4202, 0.0038847576511137553), (1395, 0.0038804629183380236), (3944, 0.0038719846022808833), (4704, 0.00386889904008929), (2858, 0.0038681772543134843), (3040, 0.003867696653560959), (289, 0.0038593381954171945), (294, 0.0038494484315407113), (3139, 0.003847556220219725), (1145, 0.0038336203778368116), (4753, 0.003824839375214665), (2078, 0.0038230772686426136), (3396, 0.003823061650030491), (3990, 0.0038116425944510913), (3030, 0.003811108331632413), (4423, 0.0038105005677595578), (2407, 0.0038042744638481034), (2923, 0.0038031640018520102), (2883, 0.003798838198252431), (2537, 0.0037936893295579008), (2559, 0.0037873474729200355), (2901, 0.0037869384285298046), (4017, 0.0037816561306593674), (3166, 0.003781623247793831), (4222, 0.00378161421724489), (2251, 0.0037813374851994757), (2889, 0.003770798902786821), (3762, 0.0037630570955642247), (3322, 0.0037497872712311487), (4019, 0.003749373777631089), (2628, 0.0037492170323823143), (3479, 0.0037451933832894926), (4529, 0.003741560948181169), (3052, 0.003737375526453963), (3561, 0.0037314840928000265), (4102, 0.00372720857725108), (2731, 0.0037226048459772514), (3262, 0.003716299670795008), (4696, 0.003715067966057699), (3042, 0.0037068752697929767), (4221, 0.003697649055969786), (3128, 0.003697573219212718), (3878, 0.0036852303984358354), (2310, 0.0036769346960329875), (2286, 0.0036756995865978234), (3219, 0.0036723151930847155), (2257, 0.003658031186430261), (4484, 0.0036518046535755247), (4611, 0.003651531176562598), (3892, 0.003650975085779513), (4572, 0.003642486810579191), (4230, 0.0036290047756388157), (3939, 0.003623646378573761), (2199, 0.003620334485938054), (2415, 0.00361664056145959), (3922, 0.0036117283305271116), (77, 0.0036083005513895803), (4717, 0.003599501745140911), (1210, 0.0035972948114511363), (526, 0.0035909538788435834), (3015, 0.003585005699678652), (4407, 0.0035783153506358696), (4749, 0.0035745292133356693), (4606, 0.003570737188798217), (2425, 0.003564682794833399), (1208, 0.0035620146349862685), (889, 0.0035602269536229984), (4544, 0.0035486470141683677), (4418, 0.003544292327067603), (3239, 0.003522237276566658), (3292, 0.0035184011966294376), (2872, 0.0035180300680914345), (3832, 0.003509653840339683), (2530, 0.00350964966872345), (2643, 0.0035094030328953743), (2696, 0.0035040988770835427), (2350, 0.003503670353091073), (4306, 0.0034918841345175627), (4142, 0.0034860852399904723), (3967, 0.0034812204383469253), (3848, 0.003480542698960513), (3874, 0.003479683496283334), (3354, 0.00347845643934638), (2838, 0.0034723197969259716), (2448, 0.003463101459165087), (1711, 0.0034626155096487924), (3282, 0.0034593793844813923), (3620, 0.0034560291815394174), (3544, 0.003452694328365438), (4400, 0.003452554167442551), (3687, 0.003446040396042348), (2438, 0.0034432994974402985), (3159, 0.0034410648650622052), (2266, 0.003440730549738228), (4458, 0.003440094127212236), (4107, 0.003438958041210926), (2673, 0.003432575602644718), (2423, 0.003430700245995905), (3537, 0.003428387659759067), (3074, 0.003423334026251135), (3081, 0.0034228444048908816), (3935, 0.003420464384148835), (3274, 0.0034203584775819636), (3358, 0.003408961171602449), (2834, 0.0034057199997399945), (2488, 0.0034032667174920973), (3357, 0.0034022506389909746), (2914, 0.0034010374763393768), (1153, 0.003399371063239028), (3613, 0.003395604222058936), (326, 0.003393065095206937), (4692, 0.0033925218414308355), (4521, 0.0033893186287036353), (3020, 0.00338882799687839), (1121, 0.003388236950635136), (4632, 0.003383272682578894), (3616, 0.0033773836279032536), (3363, 0.003366540525766817), (4723, 0.0033633729703497956), (4298, 0.0033560652273781602), (3206, 0.0033537980793940585), (2957, 0.003347145285429122), (3140, 0.0033453309660460583), (2797, 0.0033372967684994373), (3302, 0.0033357434209490403), (2557, 0.003331319644422102), (3419, 0.003329118443725127), (2570, 0.0033276880606016783), (2454, 0.0033244500678974134), (3577, 0.0033232796952332258), (3737, 0.0033188027269563875), (1168, 0.0033185843646308987), (2619, 0.003318322070919433), (2738, 0.003315804227816077), (2857, 0.0033146987956178854), (2848, 0.003306548211570808), (1593, 0.00330149735854884), (4030, 0.0033014234270763807), (4495, 0.003300391106236915), (777, 0.003287730916592062), (2966, 0.003286954312090273), (2108, 0.0032843575329641736), (2895, 0.0032842970056908604), (475, 0.0032839014156923045), (2535, 0.003282622725133521), (2544, 0.0032802132134383093), (2320, 0.003276993863631878), (3359, 0.0032762211103862294), (4209, 0.003274928004788639), (3165, 0.003270863970467179), (3729, 0.00326600930246516), (3413, 0.003265633792219878), (4243, 0.0032649424219172558), (3952, 0.003261635826279467), (2993, 0.003261475953815944), (3497, 0.003261083597052617), (3621, 0.00326091628413302), (3031, 0.0032601640111824667), (1547, 0.003260160340848611), (4416, 0.0032582332980721994), (2437, 0.0032577744779170286), (2772, 0.0032537067803374343), (4147, 0.0032506480031883576), (489, 0.003244793694390623), (4308, 0.0032419113510820086), (3072, 0.0032380063968233644), (4126, 0.0032374954533168324), (1748, 0.0032325933859938924), (3540, 0.003230883742545239), (4584, 0.0032279170737140113), (1187, 0.003227142731069493), (3007, 0.003225165763582382), (3745, 0.0032251048887223556), (4713, 0.003224955752546287), (3429, 0.0032239595472966435), (3911, 0.003221802362443521), (2986, 0.0032172330757885372), (4694, 0.0032134181798250815), (2705, 0.003211049094517108), (4280, 0.0032109746477911845), (3296, 0.0032106186131809914), (2434, 0.003208890226129973), (2987, 0.0032057313219482), (4633, 0.003198528926385699), (3506, 0.003195692305565123), (2707, 0.0031927347380468806), (431, 0.003188494913509463), (3425, 0.003186753409423288), (1049, 0.0031813316989567405), (2924, 0.0031793076010825203), (2613, 0.0031781232303538113), (3763, 0.0031778153447245645), (1947, 0.0031775718921386266), (1792, 0.0031746639727508984), (4002, 0.0031721576551732114), (4333, 0.0031696011157684497), (4145, 0.003165124763381598), (3364, 0.0031629929720295175), (1169, 0.0031603096275185536), (2142, 0.003159761165318861), (3230, 0.003159749447994006), (3308, 0.003159438707526234), (4397, 0.003159081389865394), (2400, 0.0031564005643129386), (4160, 0.0031563752715951174), (3148, 0.003155940710200929), (3355, 0.003155227311788136), (4075, 0.0031509091643556956), (4594, 0.0031488529222765253), (2702, 0.0031468032531461834), (925, 0.003144260603854778), (3719, 0.0031436586012038637), (4650, 0.00314067014544333), (3026, 0.0031397633472001326), (2223, 0.003139267195825155), (2356, 0.003138654703033463), (508, 0.003137760612598639), (448, 0.003137671574936457), (3639, 0.00313692563161382), (2720, 0.003136543661468799), (4267, 0.003136426069742934), (2478, 0.003136318132821547), (3062, 0.0031355791126991927), (4471, 0.0031332926631993186), (3884, 0.003132438041303435), (985, 0.003130581723836912), (518, 0.003127686497031212), (2974, 0.0031272052103796873), (2302, 0.003120550893829662), (3414, 0.003119282700373891), (823, 0.00311897801436305), (318, 0.0031177362623192066), (2629, 0.0031164951410743596), (739, 0.0031135648868047634), (4117, 0.0031109428683758844), (4516, 0.0031085862526318026), (3307, 0.0031083510479589533), (3754, 0.0031062354687289833), (3258, 0.0031056714349821796), (4295, 0.0031041918083507935), (1580, 0.0031024709410522136), (2585, 0.003100321756299267), (1497, 0.0030979167665171237), (4718, 0.003097265438744727), (4589, 0.003097247731618257), (857, 0.00309706810704258), (3772, 0.0030937417006839107), (922, 0.0030935714298751422), (2796, 0.0030934696935832956), (2269, 0.0030932300307639393), (3013, 0.003092272750555331), (2378, 0.0030905091700494515), (999, 0.0030902583620925584), (2884, 0.0030887067147218534), (1656, 0.003088622627555402), (614, 0.003087524506086357), (3337, 0.003087447330729662), (1594, 0.00308085482321729), (576, 0.00307909867231891), (4101, 0.0030778276324693998), (3587, 0.0030734127327396847), (3877, 0.0030729915792357915), (3003, 0.0030726986765753474), (2411, 0.0030726123618580107), (2926, 0.003067411882926925), (2623, 0.0030622539694940857), (4369, 0.0030513278734676653), (3183, 0.0030492314116212873), (1349, 0.003047788314349148), (478, 0.0030470730441616517), (419, 0.003044567415880954), (2561, 0.0030444943319389447), (1499, 0.0030434606348164507), (4042, 0.0030420362942245247), (3044, 0.003041808894088268), (3867, 0.003041021230293943), (4625, 0.0030404586854447043), (2970, 0.003040077856972947), (813, 0.003038379081843507), (2748, 0.0030368212846945603), (3064, 0.0030353594277584286), (8, 0.003035314173324459), (1909, 0.0030319444827476244), (1887, 0.003030262178195377), (3611, 0.0030302355917311142), (998, 0.0030298011833820183), (4113, 0.0030294052349605616), (1474, 0.0030292309519656803), (3804, 0.003026152259550726), (476, 0.0030256369007101488), (3866, 0.003024714948564979), (444, 0.0030227718385874617), (3651, 0.0030213118677988784), (3186, 0.0030212405925034605), (4132, 0.0030195587763054235), (3593, 0.0030177658890468517), (4507, 0.003016081794425967), (2410, 0.0030156469580335265), (3273, 0.003014712992092187), (4368, 0.003014639174351355), (2624, 0.003012818519098994), (4446, 0.003012327498272609), (235, 0.0030121413400188103), (1890, 0.0030084462414108975), (3714, 0.003008379128201516), (3235, 0.0030050782114616316), (1109, 0.003004222388546969), (4401, 0.0030041762020776314), (2176, 0.003004148147940414), (2830, 0.0030033782422808856), (4535, 0.003003076414756512), (2890, 0.003002609273921535), (596, 0.003000396321891348), (3037, 0.0029952227772993673), (4051, 0.002994821860498166), (1479, 0.00299392988079671), (4575, 0.0029933569218187996), (2190, 0.0029932991516985223), (2134, 0.002992257871875742), (3677, 0.0029918295363702474), (2293, 0.0029898021606955412), (4259, 0.0029881726692101876), (3757, 0.0029877755376363016), (3813, 0.002987384347021184), (4087, 0.0029865956841050568), (3882, 0.0029863309856645822), (4566, 0.002986038642189152), (3434, 0.002985218098241875), (308, 0.0029847236525235364), (2391, 0.0029845222748094593), (3527, 0.002982179891776003), (1959, 0.0029803513674290095), (1862, 0.002979356792611611), (2390, 0.0029791861969639135), (4680, 0.0029780309867923744), (1805, 0.0029776166308934826), (3101, 0.002977315623824472), (4354, 0.002974234237115305), (2475, 0.002973204451556921), (3560, 0.00297255979067213), (4706, 0.0029724415065924305), (3417, 0.0029718612738212297), (3116, 0.002968118806049841), (1409, 0.00296428661372297), (2386, 0.00296386820050613), (1518, 0.002962970291573547), (2786, 0.0029627628291634934), (4528, 0.002962058674532962), (4138, 0.002961345495359784), (4732, 0.0029602462701576113), (3893, 0.0029599302158228435), (3889, 0.002958013645180157), (2260, 0.002957462453883573), (3962, 0.0029558688852634185), (2776, 0.0029553495811358347), (4263, 0.002954704336681402), (4245, 0.0029541204072792166), (2592, 0.002954071565326164), (4169, 0.0029538458121329283), (3449, 0.0029522040390918976), (3770, 0.0029518407466880585), (4545, 0.002951758619428108), (1907, 0.0029510377580378925), (2288, 0.002950263150199983), (3601, 0.0029467041309562455), (41, 0.002946006576546404), (3915, 0.002945084145506749), (12, 0.0029445281336986577), (2783, 0.0029433357603815924), (4734, 0.002942436354421808), (3873, 0.002941258359581307), (2888, 0.002940153240193155), (3749, 0.002938622875602782), (4111, 0.0029365220280000394), (2882, 0.0029360846789368536), (192, 0.0029342105506584316), (74, 0.0029337408872032317), (2230, 0.0029336426343801294), (4355, 0.002933456087397724), (3269, 0.0029328959475118342), (1848, 0.002931708658958444), (4140, 0.0029300669026239854), (791, 0.0029291397214110124), (2159, 0.0029280147558574518), (2652, 0.0029256367833704958), (4540, 0.0029254669628219674), (587, 0.0029238570275185224), (1905, 0.002922875318004928), (3654, 0.0029225613479400294), (253, 0.002922343981176362), (2507, 0.0029194698732888293), (1896, 0.0029187616365781844), (4657, 0.002916902811045991), (1822, 0.002916786951693628), (2533, 0.002915897643373492), (3372, 0.0029140996536814847), (1995, 0.0029133235723906867), (4083, 0.0029122932757256587), (1007, 0.002910465416371236), (3636, 0.0029102423403532694), (3234, 0.0029099856968542166), (2394, 0.0029091455586262188), (680, 0.0029085921534431703), (3184, 0.0029075272989981097), (4130, 0.002906727730862573), (1364, 0.002905658684199516), (2072, 0.0029042210718115474), (4024, 0.002903397991281082), (395, 0.0029027990121664074), (3511, 0.0029026177581307367), (4497, 0.002901881891605188), (887, 0.002899453917518227), (3496, 0.002898385597241595), (1324, 0.002898296428499454), (4175, 0.0028981014922592964), (2595, 0.00289810077072984), (2402, 0.002897959657468405), (3406, 0.0028966463211667686), (499, 0.002894845881716978), (4161, 0.0028921808369508), (3187, 0.002891250289928034), (2916, 0.0028908058306664408), (2755, 0.0028901283291213778), (2105, 0.0028900705388311024), (1733, 0.0028900505851655995), (4269, 0.002889708232440821), (3781, 0.0028891424426377094), (4420, 0.0028879548791289717), (2725, 0.0028859743368670264), (2664, 0.0028857347646085206), (2393, 0.0028847774930521207), (4419, 0.0028810059262564026), (4079, 0.0028808717801025426), (3920, 0.0028804839933634523), (2792, 0.0028790485787195306), (2940, 0.002877927531249155), (612, 0.0028776899443126377), (1637, 0.0028771929077464477), (4448, 0.0028767034057088445), (487, 0.0028736697400840775), (623, 0.0028731689019539956), (3590, 0.0028672690188179272), (4139, 0.0028662991671761103), (4505, 0.002866020434398259), (3271, 0.0028656832149476204), (3314, 0.0028640616340816914), (4225, 0.0028638960951511932), (826, 0.0028637420241051973), (1683, 0.002862609498800831), (783, 0.0028619448258071327), (2953, 0.0028614616061494024), (246, 0.0028597598065552327), (4574, 0.002859218172629217), (2661, 0.0028591086064035055), (2609, 0.002857505385600005), (987, 0.0028560323356445908), (3493, 0.002855228838519496), (1893, 0.002854817135891596), (4489, 0.002854189250971617), (262, 0.002853106327806568), (3678, 0.0028529973482944674), (2292, 0.002852856800179568), (3283, 0.0028528199749699337), (2405, 0.0028488212803420006), (933, 0.0028487080608865342), (456, 0.0028483600841367183), (3182, 0.0028482512300919216), (3987, 0.002847754264717707), (1402, 0.0028463693765920913), (2531, 0.002844843081332024), (2141, 0.0028437409073060363), (4286, 0.002842853558254549), (564, 0.0028419022103286415), (20, 0.0028417094276719343), (890, 0.002838625444759012), (178, 0.00283789356094775), (4693, 0.002837335179087639), (2863, 0.0028348694965644704), (3326, 0.002834714838016267), (2821, 0.0028329409429564815), (872, 0.002831979195470954), (4363, 0.0028318689284033863), (717, 0.002831426292511066), (3224, 0.002830775885328647), (4573, 0.002830634136279122), (774, 0.0028297872738454045), (3084, 0.0028296396297526664), (3242, 0.002829532356288251), (3241, 0.002829504359091701), (4756, 0.002828548560308829), (2361, 0.0028283219097589196), (1851, 0.002827928911073512), (1765, 0.0028273539548731336), (2385, 0.002826691620787042), (2610, 0.0028254617075026615), (588, 0.002821828036812246), (4386, 0.0028181134367383552), (4054, 0.0028180930592009317), (4318, 0.002815989768876819), (3627, 0.002815769458896922), (4334, 0.0028155150910814893), (4357, 0.0028124949990214173), (3150, 0.0028110289804526107), (3845, 0.002810497845461989), (3388, 0.0028084772991504043), (3016, 0.00280795161316178), (4262, 0.0028065482471791377), (2746, 0.002805648947139176), (4, 0.00280541020207052), (198, 0.0028043742618201546), (4014, 0.0028029380612319805), (4501, 0.0028023489793725697), (1916, 0.0028007217068776904), (1717, 0.0028003875091436752), (1122, 0.0027994074011609697), (884, 0.002796572051680715), (3517, 0.0027963769607855355), (1439, 0.0027961309275107973), (2169, 0.002791697678390357), (2048, 0.002791602310326736), (1570, 0.0027896512064601218), (2419, 0.0027891642136175596), (2289, 0.0027891179881145483), (3353, 0.002789050326926416), (2319, 0.002789011580785065), (23, 0.002788185254600267), (1768, 0.0027861152027375), (3902, 0.0027858666327899226), (2148, 0.0027849464692023354), (871, 0.00278372777732173), (4273, 0.002783422708994234), (1294, 0.0027831476720959055), (4136, 0.002782511349815603), (4361, 0.002782442592908493), (4563, 0.0027818722617942064), (4135, 0.0027814042550029067), (1946, 0.0027811673836556786), (2943, 0.0027808889377607267), (1350, 0.0027792792316488433), (3542, 0.0027792265858159245), (3445, 0.002778848815991425), (3673, 0.00277880392843651), (4287, 0.0027784591977438222), (4422, 0.0027776102709331364), (211, 0.002777176850904277), (3606, 0.0027766572384357348), (1660, 0.0027744221944547877), (3198, 0.0027738817499317853), (2878, 0.002773626776804802), (1204, 0.002773079469669292), (1670, 0.002773014866965975), (4356, 0.00277257105954486), (2894, 0.002770564222495661), (2192, 0.0027702366327281495), (1628, 0.0027699345968814977), (2083, 0.002769849607822819), (2370, 0.002769487634803946), (1410, 0.0027693741047294745), (4340, 0.0027681195080749552), (1176, 0.002767730201931218), (579, 0.002767014384974401), (3290, 0.002765982050820613), (2068, 0.0027646570941001884), (3214, 0.0027638703121546345), (4643, 0.0027631037434989983), (4520, 0.0027623245025299205), (473, 0.002761949419071414), (1703, 0.0027616722487423667), (2900, 0.0027611882340651114), (1533, 0.0027597043523976813), (2946, 0.0027594251116678957), (1161, 0.002759043228611484), (2904, 0.0027588394229236665), (3707, 0.0027579629487884724), (2466, 0.002757720103100995), (3526, 0.0027568565643680135), (1411, 0.0027568559098529464), (115, 0.002756393778155059), (4036, 0.002752612108047747), (11, 0.002749924442296492), (4197, 0.002749817717547151), (4604, 0.0027496457096441687), (4056, 0.00274958420696005), (865, 0.002746493885703994), (3113, 0.002746262626911894), (2554, 0.0027450223365546407), (3701, 0.00274273081469233), (4461, 0.002741714389566004), (169, 0.0027392837929092043), (2073, 0.0027368173672789042), (3216, 0.002735131362584773), (4686, 0.00273434171327431), (3289, 0.002733890941330128), (1516, 0.0027335533545504685), (127, 0.002732913214882996), (969, 0.0027316204156217386), (693, 0.0027315809197726183), (71, 0.0027302009339908247), (3809, 0.00272911303840847), (1355, 0.0027290704602553812), (2396, 0.0027285490283368774), (2911, 0.0027282022948970667), (3174, 0.002728198071521129), (3225, 0.0027278261302374116), (4304, 0.0027277522668624344), (504, 0.002724784795557488), (3069, 0.002724232144268205), (1722, 0.002723618448485473), (2340, 0.0027231738629427105), (4391, 0.002722833927597083), (2495, 0.002720065705551029), (3792, 0.002719910180688347), (2401, 0.002719543114202406), (2999, 0.0027192684896785845), (2802, 0.0027163546976310383), (3564, 0.002716125147308702), (1131, 0.0027148889376481756), (4206, 0.002714806783698887), (4530, 0.0027134175768348365), (66, 0.002711239072386878), (377, 0.0027101443229622887), (1170, 0.0027094888160218546), (4487, 0.0027079108315862114), (2945, 0.0027075193241302654), (2651, 0.0027075040780200955), (3491, 0.002705704752963913), (3551, 0.0027050142594234198), (3173, 0.0027033081151991924), (4049, 0.0027028011820291265), (2430, 0.0027021234977383226), (2317, 0.0027012726405377255), (959, 0.0027008473453166864), (1598, 0.0026985961175806455), (3335, 0.002698315700148959), (4326, 0.002697789824590356), (4550, 0.002697574591077018), (2313, 0.0026965901076374164), (1476, 0.0026964212376481976), (4427, 0.0026962158791624556), (2492, 0.0026960749244013343), (4428, 0.0026947331481523094), (2067, 0.002694083596922017), (3647, 0.0026937089367688265), (1378, 0.002693327923253335), (3093, 0.002693099068254106), (1831, 0.002692618613905189), (1574, 0.0026909582476442205), (4638, 0.0026909159900985083), (2387, 0.002690465508559524), (226, 0.0026898803113064103), (4381, 0.002689778294654342), (4129, 0.0026884448461544125), (3799, 0.002686962600927883), (749, 0.002686233521310955), (3739, 0.002686023578255635), (4266, 0.0026854031258561665), (4330, 0.0026835487368271), (4320, 0.002683159891409205), (3827, 0.0026830333474512622), (400, 0.0026828304776302337), (3341, 0.0026825833653936343), (848, 0.002680718640640371), (490, 0.0026800201196263136), (1706, 0.002679505553783425), (3075, 0.0026775146354953276), (3478, 0.0026771782280636193), (2853, 0.002676986319412542), (1634, 0.0026746361043729493), (4409, 0.002673427142967511), (2354, 0.002672429053156846), (1617, 0.0026716053571676232), (2826, 0.002671210840985154), (1891, 0.0026711838666670243), (3477, 0.0026710480362726174), (1072, 0.002670872100546454), (2195, 0.0026707144242323648), (2173, 0.0026698300199916552), (2612, 0.002669033550624422), (2569, 0.0026687959915892433), (114, 0.0026654759379469988), (1663, 0.0026654091676281584), (3706, 0.00266508180328564), (1026, 0.002664151485968763), (993, 0.002663560856396252), (883, 0.002663074172955265), (1163, 0.002662472365099743), (2397, 0.002661390204646283), (378, 0.002658430420224), (4228, 0.0026557552739605215), (1813, 0.0026541644637591323), (4020, 0.0026541247724184533), (3441, 0.0026524756966720873), (1298, 0.002652446536698215), (466, 0.002651549606359768), (1313, 0.0026514541382451334), (3900, 0.002650353927951869), (4729, 0.0026473579931370343), (973, 0.002646292588606486), (2965, 0.002644559124021943), (4394, 0.0026440005757963985), (3557, 0.002643948758765789), (3565, 0.002643548850987214), (2556, 0.002643294739221239), (348, 0.0026426241309547706), (3641, 0.002641993236799979), (3268, 0.0026414415344011054), (1304, 0.0026373024376985348), (2416, 0.0026371416957310656), (3050, 0.0026362267268970336), (2242, 0.002636106483002412), (2226, 0.0026358123475155593), (2422, 0.0026355538481760365), (4567, 0.002635548069442632), (2268, 0.002634425211211829), (3220, 0.0026336458627271605), (2060, 0.002632703374304516), (247, 0.0026315716628232035), (4743, 0.002630656427480309), (1666, 0.0026306095403617466), (4687, 0.0026302611237204302), (2117, 0.0026298892844285604), (4213, 0.002627329612701248), (3170, 0.0026253223430876037), (1084, 0.0026215327864437263), (767, 0.0026197369596292854), (98, 0.0026196925877366023), (157, 0.0026192027901413306), (3906, 0.002618932102831014), (4069, 0.0026186797952433044), (1100, 0.00261764602246799), (26, 0.002617516942632874), (3379, 0.0026164712628425992), (646, 0.0026155316781452725), (1416, 0.0026147447087140497), (4254, 0.002613081767831706), (3615, 0.0026126398371283535), (1550, 0.002611541386074565), (1408, 0.002609578790462084), (3028, 0.0026094285188992474), (4472, 0.00260905211106804), (1027, 0.0026088456841530136), (1286, 0.0026079332144672974), (2461, 0.002607922083153553), (215, 0.002607546288872964), (1319, 0.0026073567315784275), (1597, 0.0026065651487765487), (1060, 0.002606492117045701), (1463, 0.0026057915407835123), (3898, 0.0026032899960389344), (457, 0.0026029112493148017), (2111, 0.0026026039939722385), (1742, 0.002602444238214219), (167, 0.002600052151208809), (755, 0.0025999392482386093), (3725, 0.002599293616962101), (1247, 0.0025992011281553125), (1422, 0.002598808099356684), (698, 0.0025986671279333673), (522, 0.002598041378050829), (2972, 0.0025975124713991157), (541, 0.0025972492038310708), (3412, 0.002596669176859221), (4183, 0.002596003577831875), (941, 0.0025948265034428336), (3298, 0.002594422052924444), (2997, 0.002592456819988642), (3765, 0.0025921767107216893), (2909, 0.0025915014499153276), (4085, 0.002590560115221602), (3381, 0.0025904522473340756), (1117, 0.0025900644680184235), (373, 0.002589457323680574), (1877, 0.0025880812269876495), (1034, 0.0025878835094813825), (488, 0.0025875672172095865), (1032, 0.0025867946069116033), (3890, 0.002585540113492993), (2779, 0.002583713129850152), (349, 0.002583004330225618), (221, 0.002581061981850724), (1641, 0.002581010229974775), (3390, 0.0025808548508444696), (1110, 0.002578451509775647), (1284, 0.002577741588924696), (2912, 0.0025775597415521804), (2642, 0.0025772981825575463), (1002, 0.002576889148656416), (1882, 0.002575413921759234), (4155, 0.00257340447698149), (3917, 0.0025715580036901804), (2163, 0.002570567671258344), (3646, 0.00256958661487399), (4059, 0.002569148179675737), (4536, 0.002569001629293616), (2674, 0.0025687777777546592), (759, 0.0025668804973019593), (1929, 0.002565987555578612), (2571, 0.002565445314198719), (140, 0.0025652892482485533), (2765, 0.002561178160455941), (1744, 0.002560891616246755), (3402, 0.002558351083303348), (852, 0.002557886057720595), (854, 0.0025567313863249543), (984, 0.002555996093718612), (589, 0.0025552255179237906), (3315, 0.002553537390035063), (3503, 0.0025530127624478986), (505, 0.0025519740313034913), (655, 0.002551752771257449), (1404, 0.0025513038156022723), (3071, 0.0025506293838780895), (1036, 0.002549488043761182), (4712, 0.0025479881835590206), (731, 0.002547587289255302), (3194, 0.0025468992365083707), (4152, 0.002546285613369156), (3243, 0.0025461924995253816), (507, 0.002545981987278743), (1645, 0.0025457844929546287), (4634, 0.002545617782407321), (2907, 0.002544819249241197), (2004, 0.002543908715939348), (1969, 0.002543495969709045), (4348, 0.002541242745033354), (2634, 0.0025408098847300403), (2399, 0.0025407020827719648), (3300, 0.0025398230367602945), (3014, 0.002539484350797421), (2367, 0.0025378403120971836), (2892, 0.002537757390035009), (524, 0.0025377403638104238), (3057, 0.0025376877453068317), (907, 0.0025375779217414077), (2593, 0.0025363966520785984), (624, 0.002534926117716592), (2679, 0.002530352889258202), (3691, 0.0025292841118128837), (2131, 0.002529118694717336), (325, 0.0025253073226953397), (798, 0.002524806990828754), (4345, 0.0025237316852747354), (1372, 0.0025235527399108046), (388, 0.0025215580496131943), (2213, 0.0025199603594346447), (2166, 0.002519644013453256), (324, 0.002519061171533375), (1558, 0.002518721621489876), (1884, 0.0025164061205687907), (598, 0.0025124834629060098), (1503, 0.0025113901570765155), (1565, 0.0025110574842429276), (3811, 0.002510797218797892), (2446, 0.002510519702799327), (975, 0.0025097451100628615), (2800, 0.0025094532650624317), (1273, 0.0025092428079371873), (372, 0.0025079497712865812), (4011, 0.0025074824481710976), (1693, 0.002501748711678864), (2735, 0.0024998930103087113), (3755, 0.002499094237973203), (2099, 0.0024986741842591143), (3147, 0.002498650495101904), (3455, 0.0024983654248682974), (886, 0.0024981079696600223), (4616, 0.0024950157677912613), (2525, 0.0024942934199218367), (2201, 0.002494047810520738), (3563, 0.0024940469226882615), (1357, 0.002493648884514554), (2528, 0.0024926781588968275), (158, 0.002492090922650063), (3500, 0.0024907267114960617), (4143, 0.0024904956302278535), (2741, 0.002489944469346701), (944, 0.0024897579452404003), (154, 0.002488240427493659), (2862, 0.002487358398881743), (1456, 0.0024851763494216175), (2552, 0.0024826417322703397), (471, 0.0024821763742756053), (1672, 0.002480942927633302), (2482, 0.0024801646012010347), (3348, 0.0024795537455079993), (1415, 0.0024793178758559966), (2129, 0.0024763984120273717), (355, 0.0024755835021968422), (92, 0.0024750651716028598), (2453, 0.0024744194278288577), (3027, 0.0024726732194346734), (1543, 0.002471645500758605), (229, 0.0024715034207233935), (136, 0.002469953160915663), (856, 0.0024688230856301815), (1814, 0.002468485088837883), (3614, 0.002467853383484889), (4429, 0.0024648699778797843), (659, 0.0024640676135243376), (399, 0.00246339899490401), (1642, 0.002462767051507224), (805, 0.0024604872198874684), (3369, 0.0024591175449942748), (2457, 0.0024578150687849837), (416, 0.002456552086269268), (410, 0.002455949767868678), (4296, 0.002455152958526992), (2611, 0.002454926027597615), (103, 0.0024541031078377257), (1782, 0.0024531263623986995), (1625, 0.0024510218821177476), (1826, 0.0024508978187753466), (2146, 0.00244838948733633), (4479, 0.0024482773951467218), (4620, 0.0024479131546816133), (1528, 0.0024444351217930574), (359, 0.002443466944976591), (3742, 0.002443071479447159), (2728, 0.0024421124257159635), (4277, 0.002440611778510118), (3986, 0.002438965312879944), (2845, 0.002438179760682298), (1827, 0.0024376333458711844), (4066, 0.0024366413174714595), (1219, 0.002435068671939551), (2976, 0.002433618423054147), (3304, 0.0024312314173498663), (4350, 0.002429703455979264), (4343, 0.002427868554944393), (2323, 0.002424428756598448), (4174, 0.0024203544656623828), (1921, 0.0024199179485399664), (1869, 0.0024197894025986856), (121, 0.0024193966029235937), (1434, 0.0024178671414022733), (4359, 0.002417513005445976), (1366, 0.002414482492585747), (1079, 0.0024103736245329383), (2954, 0.0024103335652598873), (3953, 0.002407810767156217), (3278, 0.0024072312331480626), (2338, 0.002405139571803802), (3336, 0.002404895914125493), (1080, 0.002404689211454961), (3863, 0.002404602378939144), (3380, 0.0024014911772468374), (3894, 0.002399751119991331), (1004, 0.002398912009573837), (1830, 0.0023982188113774085), (594, 0.0023979522869272915), (2591, 0.002397110489122722), (3311, 0.0023951784350536303), (1605, 0.0023942478645335866), (722, 0.002389728446621959), (4220, 0.0023895637492620057), (4074, 0.0023862189376321103), (3211, 0.002381814322895731), (4080, 0.0023817483603798925), (495, 0.002381294341473385), (249, 0.002379359876700898), (480, 0.0023782384547403604), (1980, 0.002378210904364889), (2747, 0.0023776834821243307), (1040, 0.0023776687290924144), (1719, 0.0023766278988121337), (703, 0.0023766193476908704), (1954, 0.0023756573816348416), (4015, 0.0023748154251117533), (1808, 0.002373712410333643), (815, 0.0023719026231468977), (712, 0.002367496342034888), (4598, 0.002367300336725931), (1394, 0.0023669378158728024), (3327, 0.0023663098170314317), (268, 0.002361296260922895), (647, 0.002360466355254333), (2240, 0.0023588425902597086), (132, 0.002353573003281569), (1423, 0.002352838172808328), (2502, 0.0023526787235793305), (1318, 0.0023514916516157746), (4247, 0.00235016804250386), (2743, 0.0023477715691694943), (3795, 0.0023441504602225768), (1251, 0.002343756181594788), (3669, 0.0023434423799189785), (2047, 0.0023386885333878697), (1616, 0.0023385013423197214), (2753, 0.0023382777461297896), (4744, 0.002338239553388683), (4411, 0.002335692946010294), (4473, 0.002335660720638392), (1199, 0.0023345928944428027), (1392, 0.002334484182072629), (184, 0.0023302243133906464), (2527, 0.00232991967484915), (605, 0.0023228832740512084), (3254, 0.0023228592641426683), (97, 0.0023227553465668496), (165, 0.0023222142045449877), (1301, 0.0023201908121777315), (3629, 0.002319295476207884), (2520, 0.002318190976626653), (3238, 0.0023177728909196675), (3668, 0.0023154289058446393), (1217, 0.0023069311686762964), (1943, 0.0023033962990169016), (2761, 0.0023010424023040157), (1088, 0.002300379223524165), (2721, 0.0022998593702387156), (3393, 0.002298139356504025), (286, 0.002297995241564216), (278, 0.002297804685389678), (3538, 0.0022976804493783187), (1370, 0.0022955192298361486), (1828, 0.002294230420843381), (357, 0.002291873147702319), (2270, 0.002289772850602353), (3657, 0.002286167959691283), (1450, 0.0022859207385057304), (1691, 0.0022799657104452644), (2509, 0.0022798776453103425), (267, 0.0022761606852599557), (1352, 0.0022747486592224644), (195, 0.00227452583096234), (4636, 0.0022731369094161308), (3569, 0.002271473306959119), (951, 0.002270856614013183), (3347, 0.0022666781579267076), (2382, 0.002265443444678523), (3855, 0.0022626755824193987), (432, 0.0022623484474020663), (453, 0.002262082385282907), (1340, 0.0022572560157441235), (901, 0.0022537693756319297), (1209, 0.0022526694761326577), (3200, 0.002252489647397858), (4476, 0.0022490271866413575), (2034, 0.00224529381128484), (3928, 0.0022416322053126036), (2441, 0.002238951804032435), (645, 0.0022317995565902435), (2359, 0.0022294084300313963), (1801, 0.002228515133731856), (196, 0.0022273857499561555), (3431, 0.0022268085372751565), (626, 0.002224527892320516), (2039, 0.0022216037795833392), (1042, 0.0022195459982699236), (4311, 0.002218770165761345), (3252, 0.0022173174195940473), (707, 0.0022147118404637436), (2132, 0.0022127978110153884), (2127, 0.002211262525371803), (4626, 0.0022067899033633705), (3024, 0.00220039283009092), (4200, 0.0022002719957998867), (3056, 0.0021999437813775484), (2526, 0.0021965678414264432), (2287, 0.0021926117601344464), (2758, 0.0021909860846032548), (1305, 0.0021851054590688226), (3575, 0.002183342769873955), (3548, 0.002170720067691335), (1427, 0.002160585712001537), (194, 0.0021536440057835712), (2010, 0.002152604839506645), (1624, 0.0021504446224033945), (3199, 0.002125126886678637), (3626, 0.0021027480852531238), (1277, 0.002091407800585045), (2766, 0.0020906856980378967), (1677, 0.002069347861081811), (3301, 0.0020589238823476596), (4445, 0.0020452001389659265), (607, 0.002029747912075286), (228, 0.0020114687983408853), (351, 0.0020094922316657906), (4301, 0.00199329235146412), (3546, 0.001974180670884458), (3365, 0.001969639568948942), (2636, 0.0019658337886034887), (2902, 0.0019275796618018082), (4171, 0.001902245440965543), (4752, 0.001891745174800094), (293, 0.0018853518360183118), (3392, 0.0018248844539760119), (129, 0.0018042133905351587), (740, 0.0018018851121132033), (24, 0.001766851934192554), (3608, 0.0017447800340719846), (202, 0.0017376977169426533), (1780, 0.001727190733412317), (2534, 0.0011621824517870473), (1, 0.0), (2, 0.0), (14, 0.0), (17, 0.0), (28, 0.0), (36, 0.0), (37, 0.0), (49, 0.0), (53, 0.0), (54, 0.0), (55, 0.0), (58, 0.0), (59, 0.0), (64, 0.0), (73, 0.0), (91, 0.0), (100, 0.0), (101, 0.0), (117, 0.0), (133, 0.0), (134, 0.0), (141, 0.0), (146, 0.0), (150, 0.0), (151, 0.0), (153, 0.0), (163, 0.0), (171, 0.0), (186, 0.0), (188, 0.0), (205, 0.0), (214, 0.0), (219, 0.0), (223, 0.0), (225, 0.0), (237, 0.0), (245, 0.0), (257, 0.0), (258, 0.0), (259, 0.0), (264, 0.0), (265, 0.0), (272, 0.0), (275, 0.0), (297, 0.0), (298, 0.0), (299, 0.0), (302, 0.0), (312, 0.0), (319, 0.0), (331, 0.0), (335, 0.0), (337, 0.0), (338, 0.0), (339, 0.0), (344, 0.0), (352, 0.0), (361, 0.0), (362, 0.0), (365, 0.0), (366, 0.0), (376, 0.0), (379, 0.0), (382, 0.0), (390, 0.0), (391, 0.0), (392, 0.0), (393, 0.0), (394, 0.0), (401, 0.0), (404, 0.0), (405, 0.0), (411, 0.0), (415, 0.0), (423, 0.0), (427, 0.0), (439, 0.0), (440, 0.0), (454, 0.0), (462, 0.0), (484, 0.0), (486, 0.0), (491, 0.0), (492, 0.0), (498, 0.0), (506, 0.0), (516, 0.0), (517, 0.0), (520, 0.0), (525, 0.0), (528, 0.0), (529, 0.0), (531, 0.0), (535, 0.0), (536, 0.0), (546, 0.0), (548, 0.0), (549, 0.0), (552, 0.0), (554, 0.0), (556, 0.0), (557, 0.0), (565, 0.0), (567, 0.0), (569, 0.0), (570, 0.0), (572, 0.0), (573, 0.0), (574, 0.0), (575, 0.0), (577, 0.0), (585, 0.0), (591, 0.0), (592, 0.0), (599, 0.0), (601, 0.0), (602, 0.0), (603, 0.0), (610, 0.0), (630, 0.0), (649, 0.0), (650, 0.0), (656, 0.0), (658, 0.0), (662, 0.0), (663, 0.0), (665, 0.0), (674, 0.0), (679, 0.0), (681, 0.0), (686, 0.0), (699, 0.0), (700, 0.0), (702, 0.0), (704, 0.0), (708, 0.0), (709, 0.0), (711, 0.0), (713, 0.0), (714, 0.0), (718, 0.0), (720, 0.0), (724, 0.0), (725, 0.0), (726, 0.0), (730, 0.0), (736, 0.0), (741, 0.0), (746, 0.0), (747, 0.0), (751, 0.0), (754, 0.0), (764, 0.0), (770, 0.0), (771, 0.0), (772, 0.0), (773, 0.0), (780, 0.0), (781, 0.0), (784, 0.0), (785, 0.0), (786, 0.0), (789, 0.0), (797, 0.0), (807, 0.0), (819, 0.0), (820, 0.0), (822, 0.0), (837, 0.0), (839, 0.0), (840, 0.0), (841, 0.0), (846, 0.0), (859, 0.0), (881, 0.0), (882, 0.0), (892, 0.0), (909, 0.0), (912, 0.0), (913, 0.0), (914, 0.0), (920, 0.0), (926, 0.0), (938, 0.0), (943, 0.0), (945, 0.0), (946, 0.0), (950, 0.0), (954, 0.0), (955, 0.0), (956, 0.0), (960, 0.0), (961, 0.0), (964, 0.0), (965, 0.0), (971, 0.0), (972, 0.0), (977, 0.0), (978, 0.0), (982, 0.0), (983, 0.0), (990, 0.0), (995, 0.0), (1008, 0.0), (1010, 0.0), (1011, 0.0), (1013, 0.0), (1016, 0.0), (1022, 0.0), (1025, 0.0), (1028, 0.0), (1029, 0.0), (1031, 0.0), (1038, 0.0), (1039, 0.0), (1051, 0.0), (1055, 0.0), (1056, 0.0), (1057, 0.0), (1062, 0.0), (1066, 0.0), (1067, 0.0), (1073, 0.0), (1081, 0.0), (1086, 0.0), (1089, 0.0), (1091, 0.0), (1093, 0.0), (1097, 0.0), (1101, 0.0), (1103, 0.0), (1105, 0.0), (1106, 0.0), (1108, 0.0), (1113, 0.0), (1126, 0.0), (1130, 0.0), (1133, 0.0), (1135, 0.0), (1139, 0.0), (1142, 0.0), (1143, 0.0), (1147, 0.0), (1149, 0.0), (1151, 0.0), (1155, 0.0), (1156, 0.0), (1159, 0.0), (1165, 0.0), (1166, 0.0), (1171, 0.0), (1178, 0.0), (1180, 0.0), (1189, 0.0), (1190, 0.0), (1193, 0.0), (1196, 0.0), (1198, 0.0), (1200, 0.0), (1201, 0.0), (1205, 0.0), (1212, 0.0), (1218, 0.0), (1221, 0.0), (1222, 0.0), (1227, 0.0), (1228, 0.0), (1233, 0.0), (1235, 0.0), (1240, 0.0), (1242, 0.0), (1244, 0.0), (1246, 0.0), (1253, 0.0), (1256, 0.0), (1258, 0.0), (1263, 0.0), (1265, 0.0), (1268, 0.0), (1269, 0.0), (1271, 0.0), (1285, 0.0), (1287, 0.0), (1288, 0.0), (1289, 0.0), (1291, 0.0), (1295, 0.0), (1296, 0.0), (1297, 0.0), (1299, 0.0), (1315, 0.0), (1321, 0.0), (1322, 0.0), (1323, 0.0), (1326, 0.0), (1328, 0.0), (1333, 0.0), (1336, 0.0), (1346, 0.0), (1353, 0.0), (1354, 0.0), (1368, 0.0), (1373, 0.0), (1390, 0.0), (1399, 0.0), (1424, 0.0), (1437, 0.0), (1441, 0.0), (1444, 0.0), (1447, 0.0), (1457, 0.0), (1459, 0.0), (1460, 0.0), (1466, 0.0), (1467, 0.0), (1468, 0.0), (1470, 0.0), (1473, 0.0), (1482, 0.0), (1485, 0.0), (1487, 0.0), (1490, 0.0), (1491, 0.0), (1495, 0.0), (1496, 0.0), (1508, 0.0), (1511, 0.0), (1517, 0.0), (1520, 0.0), (1521, 0.0), (1522, 0.0), (1524, 0.0), (1525, 0.0), (1529, 0.0), (1532, 0.0), (1534, 0.0), (1535, 0.0), (1541, 0.0), (1545, 0.0), (1548, 0.0), (1549, 0.0), (1556, 0.0), (1557, 0.0), (1560, 0.0), (1561, 0.0), (1563, 0.0), (1564, 0.0), (1569, 0.0), (1577, 0.0), (1578, 0.0), (1581, 0.0), (1584, 0.0), (1586, 0.0), (1589, 0.0), (1592, 0.0), (1596, 0.0), (1599, 0.0), (1600, 0.0), (1601, 0.0), (1602, 0.0), (1603, 0.0), (1604, 0.0), (1606, 0.0), (1607, 0.0), (1610, 0.0), (1611, 0.0), (1613, 0.0), (1615, 0.0), (1618, 0.0), (1626, 0.0), (1636, 0.0), (1638, 0.0), (1639, 0.0), (1640, 0.0), (1646, 0.0), (1649, 0.0), (1651, 0.0), (1668, 0.0), (1669, 0.0), (1673, 0.0), (1679, 0.0), (1686, 0.0), (1689, 0.0), (1697, 0.0), (1698, 0.0), (1700, 0.0), (1702, 0.0), (1704, 0.0), (1709, 0.0), (1725, 0.0), (1726, 0.0), (1728, 0.0), (1729, 0.0), (1731, 0.0), (1734, 0.0), (1745, 0.0), (1751, 0.0), (1755, 0.0), (1756, 0.0), (1758, 0.0), (1766, 0.0), (1767, 0.0), (1769, 0.0), (1771, 0.0), (1775, 0.0), (1777, 0.0), (1778, 0.0), (1783, 0.0), (1785, 0.0), (1786, 0.0), (1794, 0.0), (1800, 0.0), (1803, 0.0), (1804, 0.0), (1810, 0.0), (1820, 0.0), (1823, 0.0), (1824, 0.0), (1825, 0.0), (1834, 0.0), (1835, 0.0), (1836, 0.0), (1837, 0.0), (1839, 0.0), (1842, 0.0), (1844, 0.0), (1855, 0.0), (1856, 0.0), (1879, 0.0), (1883, 0.0), (1888, 0.0), (1889, 0.0), (1894, 0.0), (1898, 0.0), (1899, 0.0), (1912, 0.0), (1915, 0.0), (1917, 0.0), (1926, 0.0), (1928, 0.0), (1932, 0.0), (1938, 0.0), (1944, 0.0), (1955, 0.0), (1956, 0.0), (1961, 0.0), (1963, 0.0), (1965, 0.0), (1966, 0.0), (1972, 0.0), (1974, 0.0), (1978, 0.0), (1979, 0.0), (1984, 0.0), (2001, 0.0), (2002, 0.0), (2003, 0.0), (2006, 0.0), (2007, 0.0), (2009, 0.0), (2017, 0.0), (2019, 0.0), (2021, 0.0), (2025, 0.0), (2028, 0.0), (2030, 0.0), (2032, 0.0), (2033, 0.0), (2036, 0.0), (2038, 0.0), (2041, 0.0), (2042, 0.0), (2043, 0.0), (2046, 0.0), (2050, 0.0), (2054, 0.0), (2059, 0.0), (2063, 0.0), (2071, 0.0), (2079, 0.0), (2081, 0.0), (2085, 0.0), (2086, 0.0), (2090, 0.0), (2092, 0.0), (2100, 0.0), (2106, 0.0), (2107, 0.0), (2115, 0.0), (2118, 0.0), (2120, 0.0), (2124, 0.0), (2125, 0.0), (2128, 0.0), (2135, 0.0), (2138, 0.0), (2140, 0.0), (2150, 0.0), (2152, 0.0), (2153, 0.0), (2164, 0.0), (2165, 0.0), (2168, 0.0), (2170, 0.0), (2171, 0.0), (2172, 0.0), (2179, 0.0), (2180, 0.0), (2182, 0.0), (2183, 0.0), (2186, 0.0), (2194, 0.0), (2200, 0.0), (2204, 0.0), (2215, 0.0), (2217, 0.0), (2218, 0.0), (2219, 0.0), (2220, 0.0), (2222, 0.0), (2225, 0.0), (2227, 0.0), (2233, 0.0), (2234, 0.0), (2238, 0.0), (2241, 0.0), (2243, 0.0), (2247, 0.0), (2249, 0.0), (2253, 0.0), (2256, 0.0), (2259, 0.0), (2261, 0.0), (2262, 0.0), (2263, 0.0), (2267, 0.0), (2271, 0.0), (2272, 0.0), (2274, 0.0), (2281, 0.0), (2282, 0.0), (2296, 0.0), (2297, 0.0), (2300, 0.0), (2305, 0.0), (2307, 0.0), (2311, 0.0), (2312, 0.0), (2315, 0.0), (2322, 0.0), (2325, 0.0), (2327, 0.0), (2329, 0.0), (2331, 0.0), (2332, 0.0), (2333, 0.0), (2337, 0.0), (2341, 0.0), (2342, 0.0), (2343, 0.0), (2345, 0.0), (2351, 0.0), (2352, 0.0), (2357, 0.0), (2358, 0.0), (2360, 0.0), (2364, 0.0), (2369, 0.0), (2371, 0.0), (2372, 0.0), (2373, 0.0), (2377, 0.0), (2380, 0.0), (2381, 0.0), (2384, 0.0), (2389, 0.0), (2395, 0.0), (2398, 0.0), (2408, 0.0), (2409, 0.0), (2414, 0.0), (2420, 0.0), (2431, 0.0), (2433, 0.0), (2435, 0.0), (2445, 0.0), (2450, 0.0), (2451, 0.0), (2452, 0.0), (2455, 0.0), (2456, 0.0), (2458, 0.0), (2462, 0.0), (2465, 0.0), (2470, 0.0), (2471, 0.0), (2472, 0.0), (2479, 0.0), (2483, 0.0), (2485, 0.0), (2491, 0.0), (2493, 0.0), (2497, 0.0), (2498, 0.0), (2499, 0.0), (2500, 0.0), (2504, 0.0), (2508, 0.0), (2511, 0.0), (2514, 0.0), (2515, 0.0), (2516, 0.0), (2518, 0.0), (2521, 0.0), (2523, 0.0), (2532, 0.0), (2536, 0.0), (2539, 0.0), (2542, 0.0), (2543, 0.0), (2547, 0.0), (2548, 0.0), (2549, 0.0), (2551, 0.0), (2562, 0.0), (2564, 0.0), (2566, 0.0), (2574, 0.0), (2575, 0.0), (2577, 0.0), (2578, 0.0), (2583, 0.0), (2584, 0.0), (2586, 0.0), (2588, 0.0), (2589, 0.0), (2590, 0.0), (2594, 0.0), (2596, 0.0), (2597, 0.0), (2604, 0.0), (2605, 0.0), (2608, 0.0), (2615, 0.0), (2616, 0.0), (2620, 0.0), (2627, 0.0), (2631, 0.0), (2637, 0.0), (2641, 0.0), (2648, 0.0), (2656, 0.0), (2657, 0.0), (2658, 0.0), (2659, 0.0), (2662, 0.0), (2663, 0.0), (2666, 0.0), (2667, 0.0), (2669, 0.0), (2670, 0.0), (2671, 0.0), (2672, 0.0), (2675, 0.0), (2676, 0.0), (2677, 0.0), (2681, 0.0), (2684, 0.0), (2685, 0.0), (2686, 0.0), (2690, 0.0), (2693, 0.0), (2699, 0.0), (2701, 0.0), (2703, 0.0), (2704, 0.0), (2709, 0.0), (2713, 0.0), (2715, 0.0), (2717, 0.0), (2719, 0.0), (2729, 0.0), (2730, 0.0), (2734, 0.0), (2737, 0.0), (2749, 0.0), (2750, 0.0), (2754, 0.0), (2756, 0.0), (2763, 0.0), (2770, 0.0), (2773, 0.0), (2781, 0.0), (2785, 0.0), (2793, 0.0), (2794, 0.0), (2799, 0.0), (2804, 0.0), (2806, 0.0), (2810, 0.0), (2811, 0.0), (2813, 0.0), (2814, 0.0), (2817, 0.0), (2818, 0.0), (2822, 0.0), (2824, 0.0), (2827, 0.0), (2828, 0.0), (2829, 0.0), (2835, 0.0), (2836, 0.0), (2837, 0.0), (2839, 0.0), (2842, 0.0), (2850, 0.0), (2851, 0.0), (2852, 0.0), (2855, 0.0), (2856, 0.0), (2860, 0.0), (2864, 0.0), (2865, 0.0), (2866, 0.0), (2875, 0.0), (2877, 0.0), (2880, 0.0), (2891, 0.0), (2896, 0.0), (2898, 0.0), (2905, 0.0), (2906, 0.0), (2921, 0.0), (2922, 0.0), (2927, 0.0), (2928, 0.0), (2930, 0.0), (2938, 0.0), (2941, 0.0), (2950, 0.0), (2951, 0.0), (2952, 0.0), (2955, 0.0), (2956, 0.0), (2958, 0.0), (2967, 0.0), (2968, 0.0), (2973, 0.0), (2979, 0.0), (2982, 0.0), (2983, 0.0), (2990, 0.0), (3001, 0.0), (3002, 0.0), (3006, 0.0), (3009, 0.0), (3021, 0.0), (3025, 0.0), (3029, 0.0), (3034, 0.0), (3038, 0.0), (3041, 0.0), (3047, 0.0), (3048, 0.0), (3054, 0.0), (3058, 0.0), (3059, 0.0), (3060, 0.0), (3061, 0.0), (3063, 0.0), (3068, 0.0), (3073, 0.0), (3077, 0.0), (3078, 0.0), (3080, 0.0), (3082, 0.0), (3087, 0.0), (3088, 0.0), (3089, 0.0), (3090, 0.0), (3092, 0.0), (3103, 0.0), (3104, 0.0), (3105, 0.0), (3106, 0.0), (3107, 0.0), (3109, 0.0), (3115, 0.0), (3121, 0.0), (3130, 0.0), (3132, 0.0), (3138, 0.0), (3141, 0.0), (3145, 0.0), (3162, 0.0), (3169, 0.0), (3172, 0.0), (3175, 0.0), (3176, 0.0), (3177, 0.0), (3181, 0.0), (3188, 0.0), (3189, 0.0), (3190, 0.0), (3193, 0.0), (3197, 0.0), (3201, 0.0), (3202, 0.0), (3204, 0.0), (3207, 0.0), (3208, 0.0), (3212, 0.0), (3217, 0.0), (3221, 0.0), (3223, 0.0), (3229, 0.0), (3231, 0.0), (3236, 0.0), (3250, 0.0), (3251, 0.0), (3261, 0.0), (3266, 0.0), (3270, 0.0), (3272, 0.0), (3277, 0.0), (3281, 0.0), (3286, 0.0), (3287, 0.0), (3305, 0.0), (3310, 0.0), (3320, 0.0), (3321, 0.0), (3323, 0.0), (3324, 0.0), (3332, 0.0), (3333, 0.0), (3340, 0.0), (3343, 0.0), (3350, 0.0), (3366, 0.0), (3368, 0.0), (3371, 0.0), (3378, 0.0), (3383, 0.0), (3394, 0.0), (3397, 0.0), (3400, 0.0), (3401, 0.0), (3411, 0.0), (3415, 0.0), (3422, 0.0), (3424, 0.0), (3439, 0.0), (3442, 0.0), (3444, 0.0), (3454, 0.0), (3459, 0.0), (3461, 0.0), (3467, 0.0), (3472, 0.0), (3473, 0.0), (3475, 0.0), (3476, 0.0), (3481, 0.0), (3482, 0.0), (3485, 0.0), (3489, 0.0), (3490, 0.0), (3494, 0.0), (3505, 0.0), (3510, 0.0), (3519, 0.0), (3522, 0.0), (3525, 0.0), (3529, 0.0), (3530, 0.0), (3532, 0.0), (3533, 0.0), (3539, 0.0), (3543, 0.0), (3545, 0.0), (3547, 0.0), (3549, 0.0), (3550, 0.0), (3554, 0.0), (3562, 0.0), (3567, 0.0), (3568, 0.0), (3573, 0.0), (3578, 0.0), (3581, 0.0), (3585, 0.0), (3589, 0.0), (3591, 0.0), (3592, 0.0), (3595, 0.0), (3600, 0.0), (3603, 0.0), (3607, 0.0), (3609, 0.0), (3610, 0.0), (3617, 0.0), (3622, 0.0), (3625, 0.0), (3628, 0.0), (3631, 0.0), (3633, 0.0), (3644, 0.0), (3649, 0.0), (3650, 0.0), (3662, 0.0), (3663, 0.0), (3671, 0.0), (3676, 0.0), (3681, 0.0), (3682, 0.0), (3683, 0.0), (3685, 0.0), (3686, 0.0), (3688, 0.0), (3690, 0.0), (3693, 0.0), (3695, 0.0), (3697, 0.0), (3698, 0.0), (3700, 0.0), (3702, 0.0), (3703, 0.0), (3709, 0.0), (3712, 0.0), (3716, 0.0), (3717, 0.0), (3718, 0.0), (3722, 0.0), (3724, 0.0), (3726, 0.0), (3730, 0.0), (3732, 0.0), (3735, 0.0), (3736, 0.0), (3738, 0.0), (3740, 0.0), (3743, 0.0), (3746, 0.0), (3758, 0.0), (3759, 0.0), (3760, 0.0), (3761, 0.0), (3764, 0.0), (3773, 0.0), (3783, 0.0), (3785, 0.0), (3786, 0.0), (3789, 0.0), (3790, 0.0), (3791, 0.0), (3796, 0.0), (3798, 0.0), (3800, 0.0), (3803, 0.0), (3805, 0.0), (3808, 0.0), (3812, 0.0), (3816, 0.0), (3817, 0.0), (3818, 0.0), (3820, 0.0), (3830, 0.0), (3831, 0.0), (3834, 0.0), (3836, 0.0), (3837, 0.0), (3838, 0.0), (3840, 0.0), (3843, 0.0), (3846, 0.0), (3847, 0.0), (3851, 0.0), (3856, 0.0), (3858, 0.0), (3859, 0.0), (3869, 0.0), (3870, 0.0), (3872, 0.0), (3879, 0.0), (3885, 0.0), (3887, 0.0), (3891, 0.0), (3896, 0.0), (3912, 0.0), (3914, 0.0), (3916, 0.0), (3918, 0.0), (3921, 0.0), (3929, 0.0), (3930, 0.0), (3931, 0.0), (3933, 0.0), (3936, 0.0), (3937, 0.0), (3943, 0.0), (3948, 0.0), (3950, 0.0), (3963, 0.0), (3964, 0.0), (3965, 0.0), (3968, 0.0), (3969, 0.0), (3971, 0.0), (3972, 0.0), (3977, 0.0), (3979, 0.0), (3980, 0.0), (3981, 0.0), (3982, 0.0), (3985, 0.0), (3988, 0.0), (3991, 0.0), (3994, 0.0), (3996, 0.0), (4003, 0.0), (4006, 0.0), (4010, 0.0), (4018, 0.0), (4021, 0.0), (4022, 0.0), (4026, 0.0), (4027, 0.0), (4029, 0.0), (4031, 0.0), (4034, 0.0), (4037, 0.0), (4040, 0.0), (4041, 0.0), (4058, 0.0), (4063, 0.0), (4064, 0.0), (4065, 0.0), (4067, 0.0), (4070, 0.0), (4072, 0.0), (4073, 0.0), (4078, 0.0), (4084, 0.0), (4086, 0.0), (4097, 0.0), (4100, 0.0), (4108, 0.0), (4109, 0.0), (4112, 0.0), (4114, 0.0), (4115, 0.0), (4125, 0.0), (4127, 0.0), (4131, 0.0), (4144, 0.0), (4146, 0.0), (4150, 0.0), (4153, 0.0), (4157, 0.0), (4159, 0.0), (4166, 0.0), (4167, 0.0), (4168, 0.0), (4170, 0.0), (4173, 0.0), (4179, 0.0), (4180, 0.0), (4181, 0.0), (4185, 0.0), (4186, 0.0), (4188, 0.0), (4190, 0.0), (4191, 0.0), (4194, 0.0), (4195, 0.0), (4198, 0.0), (4199, 0.0), (4201, 0.0), (4204, 0.0), (4207, 0.0), (4212, 0.0), (4214, 0.0), (4215, 0.0), (4218, 0.0), (4223, 0.0), (4224, 0.0), (4229, 0.0), (4234, 0.0), (4237, 0.0), (4238, 0.0), (4239, 0.0), (4241, 0.0), (4250, 0.0), (4253, 0.0), (4256, 0.0), (4258, 0.0), (4260, 0.0), (4270, 0.0), (4271, 0.0), (4276, 0.0), (4278, 0.0), (4279, 0.0), (4291, 0.0), (4294, 0.0), (4297, 0.0), (4300, 0.0), (4302, 0.0), (4305, 0.0), (4313, 0.0), (4315, 0.0), (4316, 0.0), (4317, 0.0), (4319, 0.0), (4323, 0.0), (4324, 0.0), (4327, 0.0), (4329, 0.0), (4332, 0.0), (4338, 0.0), (4341, 0.0), (4346, 0.0), (4347, 0.0), (4352, 0.0), (4353, 0.0), (4358, 0.0), (4364, 0.0), (4370, 0.0), (4372, 0.0), (4393, 0.0), (4404, 0.0), (4405, 0.0), (4406, 0.0), (4408, 0.0), (4410, 0.0), (4413, 0.0), (4414, 0.0), (4415, 0.0), (4417, 0.0), (4421, 0.0), (4424, 0.0), (4425, 0.0), (4433, 0.0), (4434, 0.0), (4437, 0.0), (4439, 0.0), (4447, 0.0), (4449, 0.0), (4451, 0.0), (4452, 0.0), (4453, 0.0), (4454, 0.0), (4455, 0.0), (4457, 0.0), (4460, 0.0), (4463, 0.0), (4478, 0.0), (4480, 0.0), (4483, 0.0), (4485, 0.0), (4491, 0.0), (4493, 0.0), (4496, 0.0), (4498, 0.0), (4499, 0.0), (4500, 0.0), (4506, 0.0), (4508, 0.0), (4509, 0.0), (4519, 0.0), (4525, 0.0), (4526, 0.0), (4532, 0.0), (4538, 0.0), (4539, 0.0), (4541, 0.0), (4542, 0.0), (4547, 0.0), (4549, 0.0), (4556, 0.0), (4558, 0.0), (4559, 0.0), (4560, 0.0), (4561, 0.0), (4562, 0.0), (4565, 0.0), (4568, 0.0), (4569, 0.0), (4570, 0.0), (4577, 0.0), (4578, 0.0), (4580, 0.0), (4592, 0.0), (4597, 0.0), (4599, 0.0), (4600, 0.0), (4609, 0.0), (4613, 0.0), (4615, 0.0), (4618, 0.0), (4622, 0.0), (4628, 0.0), (4631, 0.0), (4635, 0.0), (4644, 0.0), (4645, 0.0), (4647, 0.0), (4648, 0.0), (4651, 0.0), (4654, 0.0), (4655, 0.0), (4662, 0.0), (4667, 0.0), (4671, 0.0), (4672, 0.0), (4675, 0.0), (4676, 0.0), (4681, 0.0), (4683, 0.0), (4688, 0.0), (4690, 0.0), (4700, 0.0), (4702, 0.0), (4711, 0.0), (4714, 0.0), (4716, 0.0), (4720, 0.0), (4725, 0.0), (4728, 0.0), (4730, 0.0), (4736, 0.0), (4737, 0.0), (4740, 0.0), (4741, 0.0), (4742, 0.0), (4745, 0.0), (4750, 0.0), (4751, 0.0), (4754, 0.0), (4755, 0.0), (4758, 0.0), (4759, 0.0)]\n"
          ]
        }
      ]
    },
    {
      "cell_type": "code",
      "source": [
        "print('Top 20 movies Suggested for You: \\n')\n",
        "i=1\n",
        "for movie in Sorted_Similar_Movies:\n",
        "  index=movie[0]\n",
        "  title_from_index=df[df.index==index]['Movie_Title'].values[0]\n",
        "  if(i<21):\n",
        "    print(i,'.',title_from_index)\n",
        "    i+=1"
      ],
      "metadata": {
        "colab": {
          "base_uri": "https://localhost:8080/"
        },
        "id": "b9czi4NqwRgd",
        "outputId": "68acc4c0-9037-47b9-a5f9-9af444ca06b7"
      },
      "execution_count": null,
      "outputs": [
        {
          "output_type": "stream",
          "name": "stdout",
          "text": [
            "Top 20 movies Suggested for You: \n",
            "\n",
            "1 . Niagara\n",
            "2 . Caravans\n",
            "3 . My Week with Marilyn\n",
            "4 . Harry Brown\n",
            "5 . The Curse of Downers Grove\n",
            "6 . Night of the Living Dead\n",
            "7 . Welcome to the Sticks\n",
            "8 . The Boy Next Door\n",
            "9 . Back to the Future\n",
            "10 . The Juror\n",
            "11 . Some Like It Hot\n",
            "12 . Enough\n",
            "13 . Eye for an Eye\n",
            "14 . The Kentucky Fried Movie\n",
            "15 . Superman III\n",
            "16 . Premium Rush\n",
            "17 . Duel in the Sun\n",
            "18 . The Misfits\n",
            "19 . Small Soldiers\n",
            "20 . Sabotage\n"
          ]
        }
      ]
    }
  ]
}